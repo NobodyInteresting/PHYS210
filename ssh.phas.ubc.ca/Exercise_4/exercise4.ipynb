{
 "cells": [
  {
   "cell_type": "markdown",
   "metadata": {
    "deletable": false,
    "editable": false,
    "nbgrader": {
     "checksum": "9391e9ade1abfa82ec276459899f75b5",
     "grade": false,
     "grade_id": "cell-a345c52d4fd3dd4e",
     "locked": true,
     "schema_version": 1,
     "solution": false
    }
   },
   "source": [
    "# Exercise 4\n",
    "Sept 16, 2019. Due Sept 18, 9am.\n",
    "\n",
    "Enter the names, and describe the contributions of anybody besides yourself who contributed/collaborated. "
   ]
  },
  {
   "cell_type": "markdown",
   "metadata": {},
   "source": [
    "Vihara Jayaweera"
   ]
  },
  {
   "cell_type": "markdown",
   "metadata": {
    "deletable": false,
    "editable": false,
    "nbgrader": {
     "checksum": "9bfc5f5fe7c50ac56b420c480d915e1f",
     "grade": false,
     "grade_id": "cell-456d9644b90b680b",
     "locked": true,
     "schema_version": 1,
     "solution": false
    }
   },
   "source": [
    "## Functions\n",
    "\n",
    "Write functions, called `my_mean()`, `my_std()`, and `my_var()` that calculate the mean, standard deviation, and variance according to the equations in exercise 3. \n",
    "\n",
    "You are welcome to re-use your code from exercise 3, but do not use the `numpy` `std()`, `var()` and `mean()` functions to calculate these quantities (`numpy.sum()` is ok!).\n",
    "\n",
    "The functions should work properly with an array as input, but must not produce errors if called with an array of size 0, or if the input argument is something other than an array. In either of these cases, they should return 0 after printing the message: invalid argument\n"
   ]
  },
  {
   "cell_type": "code",
   "execution_count": 1,
   "metadata": {
    "deletable": false,
    "nbgrader": {
     "checksum": "a7e40f4c23ec5df89f23cb590bccc109",
     "grade": false,
     "grade_id": "cell-c3fe069be974d3ab",
     "locked": false,
     "schema_version": 1,
     "solution": true
    }
   },
   "outputs": [],
   "source": [
    "#YOUR CODE HERE\n",
    "import numpy as np \n",
    "\n",
    "def my_mean(arr):\n",
    "    if (isinstance(arr,np.ndarray) == False or arr.size == 0):\n",
    "        print('invalid argument')\n",
    "        return 0\n",
    "    return (1/arr.size)*arr.sum()\n",
    "    \n",
    "def my_std(arr):\n",
    "    if(isinstance(arr,np.ndarray) == False or arr.size == 0):\n",
    "        print('invalid argument')\n",
    "        return 0\n",
    "    return np.sqrt(my_var(arr))\n",
    "\n",
    "def my_var(arr):\n",
    "    if (isinstance(arr,np.ndarray) == False or arr.size == 0 or arr.size == 1):\n",
    "        print('invalid argument')\n",
    "        return 0\n",
    "    return (1/(arr.size-1))*((arr-my_mean(arr))**2).sum()"
   ]
  },
  {
   "cell_type": "code",
   "execution_count": 2,
   "metadata": {
    "deletable": false,
    "editable": false,
    "nbgrader": {
     "checksum": "ac44806425d0bb7ee21a139b11118ccc",
     "grade": true,
     "grade_id": "cell-959434390e5d0c2c",
     "locked": true,
     "points": 1,
     "schema_version": 1,
     "solution": false
    }
   },
   "outputs": [],
   "source": [
    "# test for functions:"
   ]
  },
  {
   "cell_type": "code",
   "execution_count": null,
   "metadata": {
    "deletable": false,
    "editable": false,
    "nbgrader": {
     "checksum": "3dffca6185cda7f29ec801a28e88f598",
     "grade": true,
     "grade_id": "cell-54f5ea8c5c135b7c",
     "locked": true,
     "points": 1,
     "schema_version": 1,
     "solution": false
    }
   },
   "outputs": [],
   "source": []
  },
  {
   "cell_type": "code",
   "execution_count": null,
   "metadata": {
    "deletable": false,
    "editable": false,
    "nbgrader": {
     "checksum": "ff264e65ab8e59535a142112e326c4ac",
     "grade": true,
     "grade_id": "cell-b7a4e21e897cbec2",
     "locked": true,
     "points": 1,
     "schema_version": 1,
     "solution": false
    }
   },
   "outputs": [],
   "source": []
  },
  {
   "cell_type": "code",
   "execution_count": 3,
   "metadata": {
    "deletable": false,
    "editable": false,
    "nbgrader": {
     "checksum": "2ef7ea6b624990b6cf923e94c1f4adad",
     "grade": true,
     "grade_id": "cell-a597d46d056f4c59",
     "locked": true,
     "points": 1,
     "schema_version": 1,
     "solution": false
    }
   },
   "outputs": [],
   "source": [
    "# test return value of my_mean()"
   ]
  },
  {
   "cell_type": "code",
   "execution_count": 4,
   "metadata": {
    "deletable": false,
    "editable": false,
    "nbgrader": {
     "checksum": "0a818e3077427fcbc0df28f97896298b",
     "grade": true,
     "grade_id": "cell-d7f1138ac679272e",
     "locked": true,
     "points": 1,
     "schema_version": 1,
     "solution": false
    }
   },
   "outputs": [],
   "source": [
    "# test return value of my_var()"
   ]
  },
  {
   "cell_type": "code",
   "execution_count": 5,
   "metadata": {
    "deletable": false,
    "editable": false,
    "nbgrader": {
     "checksum": "060b013c4eda3a0d7a64fd77c380d217",
     "grade": true,
     "grade_id": "cell-b8676612818d26ac",
     "locked": true,
     "points": 1,
     "schema_version": 1,
     "solution": false
    }
   },
   "outputs": [
    {
     "ename": "NameError",
     "evalue": "name 'assert_almost_equal' is not defined",
     "output_type": "error",
     "traceback": [
      "\u001b[0;31m---------------------------------------------------------------------------\u001b[0m",
      "\u001b[0;31mNameError\u001b[0m                                 Traceback (most recent call last)",
      "\u001b[0;32m<ipython-input-5-60f8e4917c02>\u001b[0m in \u001b[0;36m<module>\u001b[0;34m()\u001b[0m\n\u001b[1;32m      2\u001b[0m \u001b[0;31m### BEGIN HIDDEN TEST\u001b[0m\u001b[0;34m\u001b[0m\u001b[0;34m\u001b[0m\u001b[0;34m\u001b[0m\u001b[0m\n\u001b[1;32m      3\u001b[0m \u001b[0ma\u001b[0m \u001b[0;34m=\u001b[0m \u001b[0mnp\u001b[0m\u001b[0;34m.\u001b[0m\u001b[0marray\u001b[0m\u001b[0;34m(\u001b[0m\u001b[0;34m[\u001b[0m\u001b[0;36m1.\u001b[0m\u001b[0;34m,\u001b[0m\u001b[0;36m3\u001b[0m\u001b[0;34m,\u001b[0m\u001b[0;36m6\u001b[0m\u001b[0;34m,\u001b[0m\u001b[0;36m9\u001b[0m\u001b[0;34m,\u001b[0m\u001b[0;36m2\u001b[0m\u001b[0;34m,\u001b[0m\u001b[0;36m3\u001b[0m\u001b[0;34m,\u001b[0m\u001b[0;36m4\u001b[0m\u001b[0;34m,\u001b[0m\u001b[0;36m73.4\u001b[0m\u001b[0;34m,\u001b[0m\u001b[0;36m27.6\u001b[0m\u001b[0;34m,\u001b[0m\u001b[0;36m95.3\u001b[0m\u001b[0;34m,\u001b[0m\u001b[0;36m225.4\u001b[0m\u001b[0;34m]\u001b[0m\u001b[0;34m)\u001b[0m\u001b[0;34m\u001b[0m\u001b[0;34m\u001b[0m\u001b[0m\n\u001b[0;32m----> 4\u001b[0;31m \u001b[0massert_almost_equal\u001b[0m\u001b[0;34m(\u001b[0m\u001b[0ma\u001b[0m\u001b[0;34m.\u001b[0m\u001b[0mstd\u001b[0m\u001b[0;34m(\u001b[0m\u001b[0mddof\u001b[0m\u001b[0;34m=\u001b[0m\u001b[0;36m1\u001b[0m\u001b[0;34m)\u001b[0m\u001b[0;34m,\u001b[0m \u001b[0mmy_std\u001b[0m\u001b[0;34m(\u001b[0m\u001b[0ma\u001b[0m\u001b[0;34m)\u001b[0m\u001b[0;34m,\u001b[0m\u001b[0;36m6\u001b[0m\u001b[0;34m)\u001b[0m\u001b[0;34m\u001b[0m\u001b[0;34m\u001b[0m\u001b[0m\n\u001b[0m\u001b[1;32m      5\u001b[0m \u001b[0ma\u001b[0m \u001b[0;34m=\u001b[0m \u001b[0mnp\u001b[0m\u001b[0;34m.\u001b[0m\u001b[0marray\u001b[0m\u001b[0;34m(\u001b[0m\u001b[0;34m[\u001b[0m\u001b[0;36m2\u001b[0m\u001b[0;34m,\u001b[0m\u001b[0;36m3\u001b[0m\u001b[0;34m,\u001b[0m\u001b[0;36m4\u001b[0m\u001b[0;34m,\u001b[0m\u001b[0;36m5\u001b[0m\u001b[0;34m,\u001b[0m\u001b[0;36m6\u001b[0m\u001b[0;34m]\u001b[0m\u001b[0;34m)\u001b[0m\u001b[0;34m\u001b[0m\u001b[0;34m\u001b[0m\u001b[0m\n\u001b[1;32m      6\u001b[0m \u001b[0massert_almost_equal\u001b[0m\u001b[0;34m(\u001b[0m\u001b[0ma\u001b[0m\u001b[0;34m.\u001b[0m\u001b[0mstd\u001b[0m\u001b[0;34m(\u001b[0m\u001b[0mddof\u001b[0m\u001b[0;34m=\u001b[0m\u001b[0;36m1\u001b[0m\u001b[0;34m)\u001b[0m\u001b[0;34m,\u001b[0m \u001b[0mmy_std\u001b[0m\u001b[0;34m(\u001b[0m\u001b[0ma\u001b[0m\u001b[0;34m)\u001b[0m\u001b[0;34m,\u001b[0m\u001b[0;36m6\u001b[0m\u001b[0;34m)\u001b[0m\u001b[0;34m\u001b[0m\u001b[0;34m\u001b[0m\u001b[0m\n",
      "\u001b[0;31mNameError\u001b[0m: name 'assert_almost_equal' is not defined"
     ]
    }
   ],
   "source": [
    "# test return value of my_std()\n",
    "### BEGIN HIDDEN TEST\n",
    "a = np.array([1.,3,6,9,2,3,4,73.4,27.6,95.3,225.4])\n",
    "assert_almost_equal(a.std(ddof=1), my_std(a),6)\n",
    "a = np.array([2,3,4,5,6])\n",
    "assert_almost_equal(a.std(ddof=1), my_std(a),6)"
   ]
  },
  {
   "cell_type": "code",
   "execution_count": null,
   "metadata": {
    "deletable": false,
    "editable": false,
    "nbgrader": {
     "checksum": "1b57d2dc4be37e9d11e781bcb2d97e8c",
     "grade": true,
     "grade_id": "cell-c066712fc7e87050",
     "locked": true,
     "points": 1,
     "schema_version": 1,
     "solution": false
    }
   },
   "outputs": [],
   "source": [
    "# test invalid inputs of my_mean(), my_var() and my_std() (not all tests are shown here)\n",
    "# test an empty array:\n",
    "b = np.array([])\n",
    "assert(my_mean(b) == 0)\n",
    "assert(my_var(b) == 0)\n",
    "assert(my_std(b) == 0)\n",
    "# test a string\n",
    "assert(my_mean(\"a string\") == 0)\n",
    "assert(my_var(\"a string\") == 0)\n",
    "assert(my_std(\"a string\") == 0)\n"
   ]
  },
  {
   "cell_type": "markdown",
   "metadata": {
    "deletable": false,
    "editable": false,
    "nbgrader": {
     "checksum": "af570a7e2a907e31c6001ae725595317",
     "grade": false,
     "grade_id": "cell-740babc61d64824e",
     "locked": true,
     "schema_version": 1,
     "solution": false
    }
   },
   "source": [
    "## Modules\n",
    "Now take your three functions and, using a text editor like idle or nano, put them into a file in this exercise directory called `my_stats.py`. On the lab computers, the full path of this file should be /home2/__username__/p210-nbgrader/Exercise_4/my_stats.py\n",
    "\n",
    "In the cell below you should test that you can import your module and use the functions within. If you find unexpected errors, try selecting Kernel->Restart and Run All\n"
   ]
  },
  {
   "cell_type": "code",
   "execution_count": null,
   "metadata": {
    "deletable": false,
    "nbgrader": {
     "checksum": "f3fc8807be1978c9900a4dae9090f669",
     "grade": false,
     "grade_id": "cell-49ef65a0524527ce",
     "locked": false,
     "schema_version": 1,
     "solution": true
    }
   },
   "outputs": [],
   "source": [
    "#YOUR CODE HERE\n",
    "import my_stats\n"
   ]
  },
  {
   "cell_type": "code",
   "execution_count": null,
   "metadata": {
    "deletable": false,
    "editable": false,
    "nbgrader": {
     "checksum": "7f4601e786d386a0f15206c140cf8c66",
     "grade": true,
     "grade_id": "cell-d7682d505cf88984",
     "locked": true,
     "points": 1,
     "schema_version": 1,
     "solution": false
    }
   },
   "outputs": [],
   "source": [
    "# test importing my_stats.py"
   ]
  },
  {
   "cell_type": "code",
   "execution_count": null,
   "metadata": {
    "deletable": false,
    "editable": false,
    "nbgrader": {
     "checksum": "79a486609217baf055fc57bbf79fa9a8",
     "grade": true,
     "grade_id": "cell-26322dfb8f518a0f",
     "locked": true,
     "points": 1,
     "schema_version": 1,
     "solution": false
    }
   },
   "outputs": [],
   "source": [
    "# test using functions in my_stats.py"
   ]
  },
  {
   "cell_type": "markdown",
   "metadata": {
    "deletable": false,
    "editable": false,
    "nbgrader": {
     "checksum": "0909d5d65eb445623ee1796a08e1fe54",
     "grade": false,
     "grade_id": "cell-28458b989d4cac28",
     "locked": true,
     "schema_version": 1,
     "solution": false
    }
   },
   "source": [
    "## Recursion\n",
    "The Fibonacci sequence: 1, 1, 2, 3, 5, 8, 13, ... is defined as:\n",
    "$$F_n = F_{n-1} + F_{n-2} $$\n",
    "with $F_2 = 1, F_1 =1$.\n",
    "\n",
    "Write a function, `fibonacci(n)` to calculate the n'th number of the sequence $F_n$. Use the example from the lecture (`fact(n)`) as an inspiration. Your function should check to ensure that the argument is an integer, and return 0 if it is not. It should also return 0 in case an integer less than 1 is passed in. Depending on how the calculation is done, it may take a long time for large values of `n`, don't try to calculate values for n greater than about 30."
   ]
  },
  {
   "cell_type": "code",
   "execution_count": null,
   "metadata": {
    "deletable": false,
    "nbgrader": {
     "checksum": "a5fd398c6773197793cfadbc3c7bc107",
     "grade": false,
     "grade_id": "cell-82b13f02d95d8e60",
     "locked": false,
     "schema_version": 1,
     "solution": true
    }
   },
   "outputs": [],
   "source": [
    "#YOUR CODE HERE\n",
    "def fibonacci(n):\n",
    "    if(not isinstance(n, int) or n < 1 or n > 30):\n",
    "        return 0\n",
    "    elif( n == 1 or n == 2):\n",
    "        return 1\n",
    "    return (fibonacci(n-1) + fibonacci(n-2))\n"
   ]
  },
  {
   "cell_type": "code",
   "execution_count": null,
   "metadata": {
    "deletable": false,
    "editable": false,
    "nbgrader": {
     "checksum": "0a71f8726668c101621e2784c08dfb9f",
     "grade": true,
     "grade_id": "cell-92acf93c3f204c91",
     "locked": true,
     "points": 1,
     "schema_version": 1,
     "solution": false
    }
   },
   "outputs": [],
   "source": [
    "# test return vals of fibonacci(n)"
   ]
  },
  {
   "cell_type": "code",
   "execution_count": null,
   "metadata": {
    "deletable": false,
    "editable": false,
    "nbgrader": {
     "checksum": "41a82f4ab03fe2b069a350bf1c598c96",
     "grade": true,
     "grade_id": "cell-e4fb462cc0861585",
     "locked": true,
     "points": 1,
     "schema_version": 1,
     "solution": false
    }
   },
   "outputs": [],
   "source": [
    "# test for invalid input"
   ]
  },
  {
   "cell_type": "markdown",
   "metadata": {
    "deletable": false,
    "editable": false,
    "nbgrader": {
     "checksum": "07b403af0e8ce73b4e6babb7cc959cc4",
     "grade": false,
     "grade_id": "cell-c8c5ad1f62576654",
     "locked": true,
     "schema_version": 1,
     "solution": false
    }
   },
   "source": [
    "## Optional arguments\n",
    "\n",
    "In the cell below, write a new variance function that behaves similarly to numpy's variance function, meaning that it can be called either with just one argument, in which case it will calculate the variance assuming ddof = 0, or it can be passed a second parameter that will behave as `numpy.var()`'s ddof. Call this new function `my_var2()`. "
   ]
  },
  {
   "cell_type": "code",
   "execution_count": null,
   "metadata": {
    "deletable": false,
    "nbgrader": {
     "checksum": "d7d054779212690ec85c3dfd6538a605",
     "grade": false,
     "grade_id": "cell-47b85f63296ab753",
     "locked": false,
     "schema_version": 1,
     "solution": true
    }
   },
   "outputs": [],
   "source": [
    "#YOUR CODE HERE\n",
    "def my_var2(arr,ddof = 0):\n",
    "    return 1/((arr.size-ddof))*((arr-my_mean(arr))**2).sum()\n",
    "       "
   ]
  },
  {
   "cell_type": "code",
   "execution_count": null,
   "metadata": {
    "deletable": false,
    "editable": false,
    "nbgrader": {
     "checksum": "db7ad7e3519eb0d161fb3a15039a9ff2",
     "grade": true,
     "grade_id": "cell-ceadbd4e5bd15cb1",
     "locked": true,
     "points": 1,
     "schema_version": 1,
     "solution": false
    }
   },
   "outputs": [],
   "source": [
    "# test my_var2 can be called\n",
    "my_var2(np.array([1,2,3]),1)"
   ]
  },
  {
   "cell_type": "code",
   "execution_count": null,
   "metadata": {
    "deletable": false,
    "editable": false,
    "nbgrader": {
     "checksum": "7b846cde50db027501bdf2b4f49d2ac1",
     "grade": true,
     "grade_id": "cell-e5f8792c6eb0de28",
     "locked": true,
     "points": 1,
     "schema_version": 1,
     "solution": false
    }
   },
   "outputs": [],
   "source": [
    "# test return value of my_var2()"
   ]
  },
  {
   "cell_type": "markdown",
   "metadata": {
    "deletable": false,
    "editable": false,
    "nbgrader": {
     "checksum": "a5bdfd74081a13245fcfece564e357e4",
     "grade": false,
     "grade_id": "cell-9b4967ba73b07066",
     "locked": true,
     "schema_version": 1,
     "solution": false
    }
   },
   "source": [
    "## Weighted Mean\n",
    "\n",
    "Write a function called `wmean()` that will calculate the weighted mean of a distribution. The function should take two one-dimensional arrays as arguments. The first array can be thought of as the coordinates on the x-axis of a histogram, and the second array can be thought of as the number of times the corresponding x coordinate occurs.\n",
    "\n",
    "In other words, calculate $$\\mbox{wmean}(x,y) = \\frac{\\sum_i x_i y_i}{\\sum_i y_i}$$\n",
    "\n",
    "Your function should check that the two arrays have the same size and shape, and return 0 if they don't. It should also return 0 if the sum of the y values is 0.\n"
   ]
  },
  {
   "cell_type": "code",
   "execution_count": null,
   "metadata": {
    "deletable": false,
    "nbgrader": {
     "checksum": "0cc3c51b8b7a5a748922055f9c83b1d4",
     "grade": false,
     "grade_id": "cell-32b1fb0b42cd31e2",
     "locked": false,
     "schema_version": 1,
     "solution": true
    }
   },
   "outputs": [],
   "source": [
    "# wmean()\n",
    "#YOUR CODE HERE\n",
    "def wmean(arr1,arr2):\n",
    "    if(not isinstance(arr1, np.ndarray) or not isinstance(arr2, np.ndarray) or arr1.ndim != 1 or arr2.ndim != 1):\n",
    "                      return 0\n",
    "    elif(arr1.size != arr2.size or arr1.shape != arr2.shape or arr2.sum() == 0):\n",
    "                      return 0\n",
    "    else: \n",
    "        return ((arr1*arr2).sum())/arr2.sum()"
   ]
  },
  {
   "cell_type": "code",
   "execution_count": null,
   "metadata": {
    "deletable": false,
    "editable": false,
    "nbgrader": {
     "checksum": "12e1d9c84ed55c33f97675c3022cec82",
     "grade": true,
     "grade_id": "cell-33bf073669925dc9",
     "locked": true,
     "points": 1,
     "schema_version": 1,
     "solution": false
    }
   },
   "outputs": [],
   "source": [
    "# test wmean() is defined"
   ]
  },
  {
   "cell_type": "code",
   "execution_count": null,
   "metadata": {
    "deletable": false,
    "editable": false,
    "nbgrader": {
     "checksum": "d0a3731b62a8a4e9f584a9397c2f7f6f",
     "grade": true,
     "grade_id": "cell-9a0f3a174b592755",
     "locked": true,
     "points": 1,
     "schema_version": 1,
     "solution": false
    }
   },
   "outputs": [],
   "source": [
    "# test wmean() calculations"
   ]
  },
  {
   "cell_type": "code",
   "execution_count": null,
   "metadata": {
    "deletable": false,
    "editable": false,
    "nbgrader": {
     "checksum": "8e559872516ff873fc9fa5ca6bb324d1",
     "grade": true,
     "grade_id": "cell-8807ae578b4ca5e9",
     "locked": true,
     "points": 1,
     "schema_version": 1,
     "solution": false
    }
   },
   "outputs": [],
   "source": [
    "# Test wmean doesn't crash with invalid input"
   ]
  },
  {
   "cell_type": "markdown",
   "metadata": {
    "deletable": false,
    "editable": false,
    "nbgrader": {
     "checksum": "7200de361b852d352ec6d34399c91154",
     "grade": false,
     "grade_id": "cell-5f6391fa06c66f42",
     "locked": true,
     "schema_version": 1,
     "solution": false
    }
   },
   "source": [
    "## Centering\n",
    "Write a function, `center(text, length)` that will return a new string that contains the old string centered in a new string that has a length given by the length parameter. Your function should:\n",
    "1. remove any whitepace (spaces, tabs etc) at the beginning and end of `text`\n",
    "2. pad the new string with spaces before and after so that the text is centered in the new string.\n",
    "3. If there are an odd number of spaces to add so that the text can not be perfectly centered, there should be one less space at the beginning. See the example test cases below.\n",
    "4. If the string is longer than the specified length, your function should chop off charaters from the beginning and end of the string so that the returned string has the length specified. If an even number of characters need to be removed, then half should be removed from the beginning and half from the end. If an odd number of characters need to be removed, the extra character should be removed from the end. See the example test cases below.\n",
    "\n",
    "Hint: look at the documentation for the built-in function `len()`."
   ]
  },
  {
   "cell_type": "code",
   "execution_count": null,
   "metadata": {
    "deletable": false,
    "nbgrader": {
     "checksum": "ce034b883112bd3e776512cd78a94e8b",
     "grade": false,
     "grade_id": "cell-e2a7f3bae1d7882e",
     "locked": false,
     "schema_version": 1,
     "solution": true
    }
   },
   "outputs": [],
   "source": [
    "#YOUR CODE HERE\n",
    "def center(text, length):\n",
    "    text = text.strip()\n",
    "    spaces = length - len(text)\n",
    "    \n",
    "    if(len(text) > length):\n",
    "        diff = len(text) - length\n",
    "        \n",
    "        if(diff%2 != 0):\n",
    "            a = len(text)-1\n",
    "            return text[(int)((diff-1)/2):(int)(a-(diff-1)/2)]                                \n",
    "        else:\n",
    "            text = (text[:-diff//2])\n",
    "            text = (text[diff//2:])            \n",
    "            return text\n",
    "    \n",
    "    elif(spaces%2 != 0):\n",
    "        text = text.rjust(len(text) + (spaces-1)//2)\n",
    "        text = text.ljust(len(text) + (spaces+1)//2)\n",
    "    else:    \n",
    "        text = text.rjust(len(text)+(spaces//2)) #left end\n",
    "        text = text.ljust(len(text)+spaces//2) #right end\n",
    "    \n",
    "    return text"
   ]
  },
  {
   "cell_type": "code",
   "execution_count": null,
   "metadata": {
    "deletable": false,
    "editable": false,
    "nbgrader": {
     "checksum": "1475d19132303e5e0ae91ecc87ac5f32",
     "grade": true,
     "grade_id": "cell-ff5f93beae9e9b57",
     "locked": true,
     "points": 1,
     "schema_version": 1,
     "solution": false
    }
   },
   "outputs": [],
   "source": [
    "# Test center() is defined"
   ]
  },
  {
   "cell_type": "code",
   "execution_count": null,
   "metadata": {
    "deletable": false,
    "editable": false,
    "nbgrader": {
     "checksum": "4a52ccdd5424a1ea78faf0ac709cbf55",
     "grade": true,
     "grade_id": "cell-81faa53175185607",
     "locked": true,
     "points": 0.5,
     "schema_version": 1,
     "solution": false
    }
   },
   "outputs": [],
   "source": [
    "# Test cases with equal spaces on both sides:\n",
    "assert(center(\"Hello!\", 10) == \"  Hello!  \")\n",
    "assert(center(\"Hello!\", 12) == \"   Hello!   \")"
   ]
  },
  {
   "cell_type": "code",
   "execution_count": null,
   "metadata": {
    "deletable": false,
    "editable": false,
    "nbgrader": {
     "checksum": "41d630ac65d599f08eff9d4ca5e35665",
     "grade": true,
     "grade_id": "cell-e821d7da64da993c",
     "locked": true,
     "points": 0.5,
     "schema_version": 1,
     "solution": false
    }
   },
   "outputs": [],
   "source": [
    "# Test cases with unequal spaces\n",
    "assert(center(\"Hello!\", 11) == \"  Hello!   \")"
   ]
  },
  {
   "cell_type": "code",
   "execution_count": null,
   "metadata": {
    "deletable": false,
    "editable": false,
    "nbgrader": {
     "checksum": "6f1604718c089ff7e53ca5605e0a84eb",
     "grade": true,
     "grade_id": "cell-ceec8707d2323468",
     "locked": true,
     "points": 0.5,
     "schema_version": 1,
     "solution": false
    }
   },
   "outputs": [],
   "source": [
    "# Test that leading whitespace is removed\n",
    "assert(center(\"   HI\", 4) == \" HI \")\n",
    "assert(center(\"HI   \", 4) == \" HI \")"
   ]
  },
  {
   "cell_type": "code",
   "execution_count": null,
   "metadata": {
    "deletable": false,
    "editable": false,
    "nbgrader": {
     "checksum": "1ac005712ca2b136b850fe05017d000b",
     "grade": true,
     "grade_id": "cell-e1b55b5b209332bd",
     "locked": true,
     "points": 0.5,
     "schema_version": 1,
     "solution": false
    }
   },
   "outputs": [],
   "source": [
    "# Test cases where length is shorter than string.\n",
    "assert(center(\"432101234\", 5) == \"21012\")\n",
    "assert(center(\"432101234\", 4) == \"2101\")\n",
    "assert(center(\"     432101234 \", 5) == \"21012\")"
   ]
  },
  {
   "cell_type": "markdown",
   "metadata": {
    "deletable": false,
    "editable": false,
    "nbgrader": {
     "checksum": "2a08e55e505f8d6d45d2c636f6b8e26d",
     "grade": false,
     "grade_id": "cell-e260ff78d328d875",
     "locked": true,
     "schema_version": 1,
     "solution": false
    }
   },
   "source": [
    "Don't forget to:\n",
    "1. Add the names, and describe the contributions of anybody besides yourself who contributed to your work\n",
    "2. Ensure that your notebook runs without errors by selecting Validate and/or Kernel->Restart & Run All\n",
    "3. Submit!"
   ]
  }
 ],
 "metadata": {
  "kernelspec": {
   "display_name": "Python 3",
   "language": "python",
   "name": "python3"
  },
  "language_info": {
   "codemirror_mode": {
    "name": "ipython",
    "version": 3
   },
   "file_extension": ".py",
   "mimetype": "text/x-python",
   "name": "python",
   "nbconvert_exporter": "python",
   "pygments_lexer": "ipython3",
   "version": "3.7.3"
  }
 },
 "nbformat": 4,
 "nbformat_minor": 2
}
