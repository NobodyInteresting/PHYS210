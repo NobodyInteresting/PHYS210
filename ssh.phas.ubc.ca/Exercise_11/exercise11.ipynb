{
 "cells": [
  {
   "cell_type": "markdown",
   "metadata": {
    "deletable": false,
    "editable": false,
    "nbgrader": {
     "checksum": "2ea7f73897f8b207df3b015c7891ee0f",
     "grade": false,
     "grade_id": "cell-0bab133a76e1bc74",
     "locked": true,
     "schema_version": 1,
     "solution": false
    }
   },
   "source": [
    "# Exercise 11\n",
    "\n",
    "Oct 9, 2019. Due Oct 16, 9am.\n",
    "\n",
    "Enter the names, and describe the contributions of anybody besides yourself who contributed/collaborated.\n"
   ]
  },
  {
   "cell_type": "markdown",
   "metadata": {},
   "source": []
  },
  {
   "cell_type": "markdown",
   "metadata": {
    "deletable": false,
    "editable": false,
    "nbgrader": {
     "checksum": "ac3420a3073b60fcc935c0269b7aa355",
     "grade": false,
     "grade_id": "cell-c61b760136299b84",
     "locked": true,
     "schema_version": 1,
     "solution": false
    }
   },
   "source": [
    "## Containers II\n",
    "\n",
    "Write a function called `ends(t)` that takes a list as an argument and returns a tuple consisting of the first and last elements of the list. You may assume that t is a list with at least one element."
   ]
  },
  {
   "cell_type": "code",
   "execution_count": 1,
   "metadata": {
    "deletable": false,
    "nbgrader": {
     "checksum": "885898e6f934abbbc97c931d094ccd4f",
     "grade": false,
     "grade_id": "cell-95817c9bc2fbadf4",
     "locked": false,
     "schema_version": 1,
     "solution": true
    }
   },
   "outputs": [],
   "source": [
    "def ends(t):\n",
    "    if(len(t) == 1):\n",
    "        c = (t[0],t[0])\n",
    "        return c\n",
    "    else:\n",
    "        a = t[0]\n",
    "        b = t[len(t)-1]\n",
    "        c =(a,b)\n",
    "    return c\n"
   ]
  },
  {
   "cell_type": "code",
   "execution_count": 2,
   "metadata": {
    "deletable": false,
    "editable": false,
    "nbgrader": {
     "checksum": "f09d752e000699757964abc3dc5a034b",
     "grade": true,
     "grade_id": "cell-Q1a",
     "locked": true,
     "points": 1,
     "schema_version": 1,
     "solution": false
    }
   },
   "outputs": [],
   "source": [
    "start, end = ends([1, 2, 3])\n",
    "assert type(ends([1,2,3])) == tuple"
   ]
  },
  {
   "cell_type": "code",
   "execution_count": 3,
   "metadata": {
    "deletable": false,
    "editable": false,
    "nbgrader": {
     "checksum": "c21b98589e6fb2ff9fcb9d1187b2b0ea",
     "grade": true,
     "grade_id": "cell-4cb593dfdb388400",
     "locked": true,
     "points": 1,
     "schema_version": 1,
     "solution": false
    }
   },
   "outputs": [],
   "source": [
    "assert ends([1,3,4]) == (1,4)\n",
    "assert ends([5.6, 'string', True, False, 7.3, [3, 4]]) == (5.6,[3, 4])\n",
    "assert ends(['a']) == ('a', 'a')"
   ]
  },
  {
   "cell_type": "markdown",
   "metadata": {
    "deletable": false,
    "editable": false,
    "nbgrader": {
     "checksum": "fcd4c82be37245b95028081970501493",
     "grade": false,
     "grade_id": "cell-1839523819b0f28e",
     "locked": true,
     "schema_version": 1,
     "solution": false
    }
   },
   "source": [
    "## Broadcasting\n",
    "\n",
    "Explain in a few words what each of the five commented expressions (which set variables e, f, g, h and i) in the cell below does, or, if it causes an error, explain why. An answer for e is given as an example.\n"
   ]
  },
  {
   "cell_type": "code",
   "execution_count": 4,
   "metadata": {},
   "outputs": [],
   "source": [
    "import numpy as np\n",
    "a = np.arange(5)\n",
    "b = np.random.random(4)\n",
    "c = np.arange(20).reshape((4, 5))\n",
    "d = b.reshape(4,1)\n",
    "\n",
    "#e = a + b\n",
    "#f = a + c\n",
    "#g = b * c\n",
    "#h = b * c.T\n",
    "#i = a + d\n"
   ]
  },
  {
   "cell_type": "markdown",
   "metadata": {
    "deletable": false,
    "nbgrader": {
     "checksum": "1bc55154cdeed8507ae176cb4019d972",
     "grade": true,
     "grade_id": "cell-fe9df6addfdb27fc",
     "locked": false,
     "points": 2,
     "schema_version": 1,
     "solution": true
    }
   },
   "source": [
    "e: this causes an error because a row vector of length 5 can't be added to a row vector length 4\n",
    "\n",
    "f: this adds a to every array in inside b, so the 4 subarrays/row vectors in this case\n",
    "\n",
    "g: this causes an error because b is a row vector of length 4 and you can't multiply it by c's 5 length row vectors\n",
    "\n",
    "h: this transposes the matrix c and then multiples it by b\n",
    "\n",
    "i: d is a column vector and we add every value in d to every value in a. This consequently creates a matrix with 5 columns and 4 rows. "
   ]
  },
  {
   "cell_type": "markdown",
   "metadata": {
    "deletable": false,
    "editable": false,
    "nbgrader": {
     "checksum": "b34160a72c69579ee6fdcd5f8907f7ac",
     "grade": false,
     "grade_id": "cell-Q2",
     "locked": true,
     "schema_version": 1,
     "solution": false
    }
   },
   "source": [
    "## Matrix multiplication with arrays\n",
    "\n",
    "In this question you will verify that the numpy.ndarray matrix multiplication operator, @, does a proper matrix multiplcation. To do this, first write a function, `mat_mult(a1, a2)` that creates a new 2d array of zeros, and using nested for loops, fill in the elements of the matrix multiplication, and return this new array.\n",
    "\n",
    "Then, write a second function, `matrix_diff(b, c)` that takes two arrays as arguments then generates and returns\n",
    "the following ratio: $$ \\sqrt{\\frac{\\sum (b_{i,j} - c_{i,j})^2 }{\\sum (b_{i,j}+c_{i,j})^2} }$$ This function gives a measure of how different two arrays are, giving 0 if the arrays are identical.\n",
    "\n",
    "Your functions can assume that both matrix arguments are two-dimensional, but they should check that the shapes are compatible and return None if they are not."
   ]
  },
  {
   "cell_type": "code",
   "execution_count": 5,
   "metadata": {
    "deletable": false,
    "nbgrader": {
     "checksum": "4d84c77eeff97855a69361f4184e25f5",
     "grade": false,
     "grade_id": "cell-d79c9e7d26b8e43c",
     "locked": false,
     "schema_version": 1,
     "solution": true
    }
   },
   "outputs": [],
   "source": [
    "import numpy as np\n",
    "def mat_mult(a1, a2):    \n",
    "    cols1 = a1.shape[1]\n",
    "    cols2 = a2.shape[1]\n",
    "    rows1 = a1.shape[0]\n",
    "    rows2 = a2.shape[0]\n",
    "    if(cols1 != rows2):\n",
    "        return None\n",
    "   \n",
    "    m = np.zeros((rows1,cols2))   \n",
    "    for i in range(m.shape[0]): #row\n",
    "        for j in range(m.shape[1]): #col\n",
    "            for k in range(rows2):\n",
    "                m[i][j] += (a1[i][k])*(a2[k][j])                \n",
    "    return m\n",
    "\n",
    "def matrix_diff(b, c):\n",
    "    num = 0\n",
    "    den = 0\n",
    "    if(b.shape != c.shape):\n",
    "        return None\n",
    "    for i in range(b.shape[0]):\n",
    "        for j in range(c.shape[1]):\n",
    "            num += (b[i][j] -c[i][j])**2\n",
    "            den += (b[i][j] +c[i][j])**2\n",
    "    return np.sqrt(num/den)\n",
    "\n"
   ]
  },
  {
   "cell_type": "code",
   "execution_count": 6,
   "metadata": {
    "deletable": false,
    "editable": false,
    "nbgrader": {
     "checksum": "ad1d0931c3fe7e5f338ee7f063199246",
     "grade": true,
     "grade_id": "cell-de005f46ca5d284b",
     "locked": true,
     "points": 1,
     "schema_version": 1,
     "solution": false
    }
   },
   "outputs": [],
   "source": [
    "# check that mat_mult() gives the right answer:\n",
    "from numpy.testing import assert_almost_equal, assert_equal\n",
    "a = np.array([[1,2,3],[4,5,6]])\n",
    "b = np.array([[1,5,9,1],[6,5,4,3],[1,2,3,4]])\n",
    "assert_almost_equal( a@b, mat_mult(a, b), 6)"
   ]
  },
  {
   "cell_type": "code",
   "execution_count": 7,
   "metadata": {
    "deletable": false,
    "editable": false,
    "nbgrader": {
     "checksum": "d7aa805788f2412d37286e8167024c69",
     "grade": true,
     "grade_id": "cell-0fb906df9bbeddac",
     "locked": true,
     "points": 1,
     "schema_version": 1,
     "solution": false
    }
   },
   "outputs": [],
   "source": [
    "# check that matrix_diff gives 0 for arrays that are the same\n",
    "cc = a@b\n",
    "assert_almost_equal(matrix_diff(cc, cc), 0., 7)"
   ]
  },
  {
   "cell_type": "code",
   "execution_count": 8,
   "metadata": {
    "deletable": false,
    "editable": false,
    "nbgrader": {
     "checksum": "868377874898d092246d48b99693fd0f",
     "grade": true,
     "grade_id": "cell-da02b002cef30242",
     "locked": true,
     "points": 1,
     "schema_version": 1,
     "solution": false
    }
   },
   "outputs": [
    {
     "name": "stdout",
     "output_type": "stream",
     "text": [
      "None\n"
     ]
    }
   ],
   "source": [
    "print(mat_mult(b,a))\n",
    "if mat_mult(b, a) != None:\n",
    "    raise AssertionError(\"call to mat_mult with incompatible arrays should return None\")\n",
    "if matrix_diff(a,b) != None:\n",
    "    raise AssertionError(\"call to matrix_diff with different shape arrays should return None\")"
   ]
  },
  {
   "cell_type": "code",
   "execution_count": 9,
   "metadata": {
    "deletable": false,
    "editable": false,
    "nbgrader": {
     "checksum": "d64a9c60f219ef9e65c8466bb822b740",
     "grade": true,
     "grade_id": "cell-f5d227e37f9a0f36",
     "locked": true,
     "points": 1,
     "schema_version": 1,
     "solution": false
    }
   },
   "outputs": [],
   "source": [
    "# ensure matrix_diff gives the correct difference for matrices that aren't the same.\n",
    "# and that mat_mult and @ give the same answer:"
   ]
  },
  {
   "cell_type": "markdown",
   "metadata": {
    "deletable": false,
    "editable": false,
    "nbgrader": {
     "checksum": "faed6bf60ee5d727f24288fa0740f0c2",
     "grade": false,
     "grade_id": "cell-b4717b100cb6bc6d",
     "locked": true,
     "schema_version": 1,
     "solution": false
    }
   },
   "source": [
    "## Newton's Method III\n",
    "Now we have all the tools we need to produce pictures similar to the one shown below\n",
    "![](roots.png)\n",
    "We won't get to making those plots today, but will work on optimizing our calculations in `which_root_z4()` to use array operations. Rewrite that function so that it takes an array of complex numbers as an argument. The argument will eventually be a 2d array whose values corresponds to the complex number of associated with a grid point. For example the first row of elements might have values: [0, 0.5, 1.0, 1.5] while the second row would then be: [0+0.5j, 0.5+0.5j, 1.0+0.5j, 1.5+0.5j] and the third row would be [0+1j, 0.5+1j. 1.0+1j, 1.5+1j]. Your function though should work with either 2d or 1d arrays of complex numbers as input. See the test cases below for some examples.\n",
    "\n",
    "In your new `which_root_z4(z, n)` you should start by using a for loop to do n iterations of Newton's method for all points simultaneously. There should not be any loops over grid points, just array operations.\n",
    "\n",
    "When the iterations are complete, create a new array, having one dimension more than the input array. The new array should have a shape of: (4, shape of input array). So if the input array is 2d with 10 rows and 20 columns, the new array should have a shape of (4, 10, 20). Use four lines of code to fill in the four planes of this array with measurements of the distances from each grid point to each of the four roots.\n",
    "\n",
    "Then construct and return an array of the same size and shape as the input array, but of integers with values 0, 1, 2, or 3 indicating the root that the corresponding grid point has moved closest to (where the indices 0, 1, 2, and 3 correspond to the roots at 1, 1j, -1, -1j respectively).\n",
    "\n",
    "All of this work should be done with no looping over grid points, use array operations. The only loop should be the for loop over the n iterations.\n",
    "\n",
    "When calling `which_root_z4(z, n)` to test it, avoid giving a starting point of 0 anywhere, since the division by zero will cause trouble.\n"
   ]
  },
  {
   "cell_type": "code",
   "execution_count": 10,
   "metadata": {
    "deletable": false,
    "nbgrader": {
     "checksum": "1c9d44c2db00106e1de6221d59a30230",
     "grade": false,
     "grade_id": "cell-acf64714387c2139",
     "locked": false,
     "schema_version": 1,
     "solution": true
    }
   },
   "outputs": [],
   "source": [
    "def which_root_z4(z, n):\n",
    "    roots = np.array([1,1j,-1,-1j])\n",
    "    \n",
    "    for i in range(n): #check if it should be n+1\n",
    "        z_1 = z - f(z)/df(z)\n",
    "        z = z_1 \n",
    "    \n",
    "    c = np.array([z,z,z,z]) #new array\n",
    "    c[0] = abs(roots[0] - z)\n",
    "    c[1] = abs(roots[1] - z)\n",
    "    c[2] = abs(roots[2] - z)\n",
    "    c[3] = abs(roots[3] - z)\n",
    "    \n",
    "    final = np.ndarray(shape = z.shape)\n",
    "    final = np.argmin(c,axis = 0)\n",
    "    \n",
    "    return final\n",
    "\n",
    "def f(z):\n",
    "    return (z**4-1)\n",
    "def df(z):\n",
    "    return (4*z**3)"
   ]
  },
  {
   "cell_type": "code",
   "execution_count": 11,
   "metadata": {
    "deletable": false,
    "editable": false,
    "nbgrader": {
     "checksum": "747cce1e535b686585728d30d3ca2341",
     "grade": true,
     "grade_id": "cell-dc58d2a4ba6d371e",
     "locked": true,
     "points": 1,
     "schema_version": 1,
     "solution": false
    }
   },
   "outputs": [],
   "source": [
    "# test that the function executes and returns a 1d array of the right size with 1d array input\n",
    "# here we just test a few different starting points\n",
    "import numpy as np\n",
    "from numpy.testing import assert_equal, assert_almost_equal\n",
    "z1 = np.array([1.1j, 1.1, -2.5, -2j])\n",
    "ind1 = which_root_z4(z1, 10)\n",
    "assert ind1.ndim == 1\n",
    "assert ind1.size == 4\n",
    "#z = np.linspace(-)\n",
    "\n"
   ]
  },
  {
   "cell_type": "code",
   "execution_count": 12,
   "metadata": {
    "deletable": false,
    "editable": false,
    "nbgrader": {
     "checksum": "c00895f2c848bce9c3cf9c9d2f0f73f3",
     "grade": true,
     "grade_id": "cell-ca7c24d26103dbfb",
     "locked": true,
     "points": 1,
     "schema_version": 1,
     "solution": false
    }
   },
   "outputs": [],
   "source": [
    "# test that the function returns a 2d array with 2d input:\n",
    "# make an array of complex points that would be suitable for graphing:\n",
    "x = np.linspace(-3, 3, 90) # misses 0, since it uses the end points. 91 would hit 0\n",
    "x2d, y2d = np.meshgrid(x,x)\n",
    "z = x2d + 1j*y2d\n",
    "ind = which_root_z4(z, 10)\n",
    "assert ind.ndim == 2\n",
    "assert ind.size == 90*90"
   ]
  },
  {
   "cell_type": "code",
   "execution_count": 13,
   "metadata": {
    "deletable": false,
    "editable": false,
    "nbgrader": {
     "checksum": "362ea618d612a119145c5ce3aab20960",
     "grade": true,
     "grade_id": "cell-4c68bbfd63fdfc91",
     "locked": true,
     "points": 1,
     "schema_version": 1,
     "solution": false
    }
   },
   "outputs": [],
   "source": [
    "# check that in the 1d case we converge to the right values\n",
    "assert_equal(ind1, [1, 0, 2, 3])\n"
   ]
  },
  {
   "cell_type": "code",
   "execution_count": 14,
   "metadata": {
    "deletable": false,
    "editable": false,
    "nbgrader": {
     "checksum": "f9ca9c5e71e5713a50d071d7646ead51",
     "grade": true,
     "grade_id": "cell-a994040db65e3978",
     "locked": true,
     "points": 1,
     "schema_version": 1,
     "solution": false
    }
   },
   "outputs": [],
   "source": [
    "# check a more complete array in 2d"
   ]
  }
 ],
 "metadata": {
  "kernelspec": {
   "display_name": "Python 3",
   "language": "python",
   "name": "python3"
  },
  "language_info": {
   "codemirror_mode": {
    "name": "ipython",
    "version": 3
   },
   "file_extension": ".py",
   "mimetype": "text/x-python",
   "name": "python",
   "nbconvert_exporter": "python",
   "pygments_lexer": "ipython3",
   "version": "3.7.3"
  }
 },
 "nbformat": 4,
 "nbformat_minor": 2
}
