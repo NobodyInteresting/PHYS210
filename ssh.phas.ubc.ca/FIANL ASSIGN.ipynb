{
 "cells": [
  {
   "cell_type": "code",
   "execution_count": 1,
   "metadata": {},
   "outputs": [
    {
     "data": {
      "text/plain": [
       "<Figure size 640x480 with 1 Axes>"
      ]
     },
     "metadata": {},
     "output_type": "display_data"
    },
    {
     "name": "stdout",
     "output_type": "stream",
     "text": [
      "[1.78704999e+01 1.09294753e+02 4.99438541e-02]\n"
     ]
    }
   ],
   "source": [
    "import numpy as np\n",
    "import matplotlib.pyplot as plt\n",
    "from scipy.optimize import curve_fit\n",
    "\n",
    "data = np.loadtxt('data-pp6.txt')\n",
    "xvals = data[:,0]\n",
    "yvals = data[:,1]\n",
    "err = data[:,2]\n",
    "\n",
    "theoryx = np.linspace(xvals[0],xvals[-1],len(xvals))\n",
    "\n",
    "def theory(x,a, omega, tau):\n",
    "    return a*np.cos(omega*x)*np.exp(-x/tau)\n",
    "\n",
    "plt.errorbar(xvals,yvals,marker='s', yerr=err, linestyle='None', label = 'Data')\n",
    "popt, pcov = curve_fit(theory, xvals, yvals, sigma=err, p0=(100,100,100))\n",
    "plt.plot(theoryx, theory(theoryx,*popt), label=\"Fitted Curve\", c='r')\n",
    "plt.xlabel(\"idk\")\n",
    "plt.ylabel(\"idk\")\n",
    "plt.title(\"something's fit\")\n",
    "plt.legend()\n",
    "plt.show()\n",
    "print(popt)"
   ]
  },
  {
   "cell_type": "code",
   "execution_count": 8,
   "metadata": {},
   "outputs": [],
   "source": [
    "def lapplace(C):\n",
    "    Cp = np.copy(C)\n",
    "    dx = 0.1 \n",
    "    k = 1/dx**2\n",
    "    h = k\n",
    "    \n",
    "    \n",
    "    Cp = k*(np.roll(Cp,axis=2,shift=-1) + np.roll(Cp,axis=2,shift=1) - 2*Cp) + \\\n",
    "         k*(np.roll(Cp,axis=1,shift=-1) + np.roll(Cp,axis=1,shift=1) - 2*Cp) + \\\n",
    "         k*(np.roll(Cp,axis=0,shift=-1) + np.roll(Cp,axis=0,shift=1) - 2*Cp)\n",
    "    \"\"\"\n",
    "    Cp[1:-1, 1:-1, 1:-1] = (k* (C[0:-2, 1:-1, 1:-1] + C[2:, 1:-1, 1:-1]-2 * C[1:-1, 1:-1, 1:-1])) \n",
    "    + (k * (C[1:-1, 0:-2, 1:-1] + C[1:-1, 2:, 1:-1]-2 * C[1:-1, 1:-1, 1:-1])) \n",
    "    + (k * (C[1:-1, 1:-1, 0:-2] + C[1:-1, 1:-1, 2:]-2 * C[1:-1, 1:-1, 1:-1]))\n",
    "    Cp = (k* (C[0:-2, 1:-1, 1:-1] + C[2:, 1:-1, 1:-1]-2 * C[1:-1, 1:-1, 1:-1])) \n",
    "    + (k * (C[1:-1, 0:-2, 1:-1] + C[1:-1, 2:, 1:-1]-2 * C[1:-1, 1:-1, 1:-1])) \n",
    "    + (k * (C[1:-1, 1:-1, 0:-2] + C[1:-1, 1:-1, 2:]-2 * C[1:-1, 1:-1, 1:-1]))\"\"\"\n",
    "    \n",
    "    Cp[:,0] = 0\n",
    "    Cp[:,-1] = 0\n",
    "    Cp[:,:,-1] = 0\n",
    "    Cp[:,:,0] = 0\n",
    "    \n",
    "    return Cp\n"
   ]
  },
  {
   "cell_type": "code",
   "execution_count": 9,
   "metadata": {},
   "outputs": [
    {
     "name": "stdout",
     "output_type": "stream",
     "text": [
      "[[[   0.    0.    0.]\n",
      "  [   0.  200.    0.]\n",
      "  [   0.    0.    0.]]\n",
      "\n",
      " [[   0.    0.    0.]\n",
      "  [   0. 4500.    0.]\n",
      "  [   0.    0.    0.]]\n",
      "\n",
      " [[   0.    0.    0.]\n",
      "  [   0. -500.    0.]\n",
      "  [   0.    0.    0.]]]\n"
     ]
    }
   ],
   "source": [
    "import numpy as np\n",
    "test = np.array([[[1,2,3],[3,4,5],[3,4,5]],[[42,55,65],[5,6,7],[3,4,5]],[[4,5,6],[5,6,7],[3,4,5]]])\n",
    "test1 = lapplace(test)\n",
    "print(test1)\n",
    "\n",
    "#print(test[0:-2, 1:-1, 1:-1])\n",
    "#print(test[2:, 1:-1, 1:-1])"
   ]
  },
  {
   "cell_type": "code",
   "execution_count": null,
   "metadata": {},
   "outputs": [],
   "source": [
    "Cp[1:-1, 1:-1, 1:-1] = k*(np.roll(Cp[1:-1, 1:-1, 1:-1],axis=2,shift=-1) + \n",
    "           np.roll(Cp[1:-1, 1:-1, 1:-1],axis=2,shift=1) - \n",
    "           2*Cp[1:-1, 1:-1, 1:-1])+ \\\n",
    "         h*(np.roll(Cp[1:-1, 1:-1, 1:-1],axis=1,shift=-1) + \n",
    "           np.roll(Cp[1:-1, 1:-1, 1:-1],axis=1,shift=1) - \n",
    "           2*Cp[1:-1, 1:-1, 1:-1]) + \\\n",
    "         k*(np.roll(Cp[1:-1, 1:-1, 1:-1],axis=0,shift=-1) + \n",
    "            np.roll(Cp[1:-1, 1:-1, 1:-1],axis=0,shift=1) - \n",
    "            2*Cp[1:-1, 1:-1, 1:-1])\n",
    "    "
   ]
  }
 ],
 "metadata": {
  "kernelspec": {
   "display_name": "Python 3",
   "language": "python",
   "name": "python3"
  },
  "language_info": {
   "codemirror_mode": {
    "name": "ipython",
    "version": 3
   },
   "file_extension": ".py",
   "mimetype": "text/x-python",
   "name": "python",
   "nbconvert_exporter": "python",
   "pygments_lexer": "ipython3",
   "version": "3.7.3"
  }
 },
 "nbformat": 4,
 "nbformat_minor": 2
}
