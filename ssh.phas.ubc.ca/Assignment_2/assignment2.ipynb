{
 "cells": [
  {
   "cell_type": "markdown",
   "metadata": {
    "deletable": false,
    "editable": false,
    "nbgrader": {
     "checksum": "3aefe89fdbe748197db7c22a67fbd5c8",
     "grade": false,
     "grade_id": "cell-07693082186e2bca",
     "locked": true,
     "schema_version": 1,
     "solution": false
    }
   },
   "source": [
    "## In-class assignment 2\n",
    "1. You are free to access course materials and the internet, but no communication with other people (either in person or electronically) NO PHONES.\n",
    "2. Please Save and Submit promptly when the time is up. There will be a severe late penalty: grades will be scaled by a decaying exponential with a time constant of 3 minutes.\n",
    "\n",
    "\n",
    "Follow the instructions for Question 1: (3 points)"
   ]
  },
  {
   "cell_type": "code",
   "execution_count": 11,
   "metadata": {
    "deletable": false,
    "nbgrader": {
     "checksum": "3106bc1dfc8fb03f4d9fcc883b20cf85",
     "grade": false,
     "grade_id": "cell-d339f205d34ed7ab",
     "locked": false,
     "schema_version": 1,
     "solution": true
    }
   },
   "outputs": [],
   "source": [
    "def factorial(n):\n",
    "    ans = 1\n",
    "    if(n == 0 or n==1):\n",
    "        return ans\n",
    "    else:\n",
    "        for i in range(2,n+1):\n",
    "            ans = i*ans            \n",
    "        return ans    \n",
    "    "
   ]
  },
  {
   "cell_type": "code",
   "execution_count": null,
   "metadata": {
    "deletable": false,
    "editable": false,
    "nbgrader": {
     "checksum": "94782f309d11cf016736a4fe7b51187d",
     "grade": true,
     "grade_id": "cell-62d44efddfc1e0fe",
     "locked": true,
     "points": 1,
     "schema_version": 1,
     "solution": false
    }
   },
   "outputs": [],
   "source": [
    "# check that function executes and returns an integer"
   ]
  },
  {
   "cell_type": "code",
   "execution_count": null,
   "metadata": {
    "deletable": false,
    "editable": false,
    "nbgrader": {
     "checksum": "ca23fa63290fe43146e56fc6f6c18565",
     "grade": true,
     "grade_id": "cell-9d6b7380f0dab4e2",
     "locked": true,
     "points": 1,
     "schema_version": 1,
     "solution": false
    }
   },
   "outputs": [],
   "source": [
    "# check that return values are correct"
   ]
  },
  {
   "cell_type": "code",
   "execution_count": null,
   "metadata": {
    "deletable": false,
    "editable": false,
    "nbgrader": {
     "checksum": "70dd21b409d453996aa41d2877e70702",
     "grade": true,
     "grade_id": "cell-55de154f2b95b55a",
     "locked": true,
     "points": 1,
     "schema_version": 1,
     "solution": false
    }
   },
   "outputs": [],
   "source": [
    "# check that return values are correct"
   ]
  },
  {
   "cell_type": "markdown",
   "metadata": {
    "deletable": false,
    "editable": false,
    "nbgrader": {
     "checksum": "9fc408fd145368e638184c549954704c",
     "grade": false,
     "grade_id": "cell-5a5f4377383088b1",
     "locked": true,
     "schema_version": 1,
     "solution": false
    }
   },
   "source": [
    "Follow the instructions for Question 2 here: (3 points)"
   ]
  },
  {
   "cell_type": "code",
   "execution_count": 14,
   "metadata": {
    "deletable": false,
    "nbgrader": {
     "checksum": "5bb40fd13094414d31bac74bb09cb46e",
     "grade": false,
     "grade_id": "cell-34082f06e31cf236",
     "locked": false,
     "schema_version": 1,
     "solution": true
    }
   },
   "outputs": [
    {
     "name": "stdout",
     "output_type": "stream",
     "text": [
      "[ 0  4 10 18 28]\n"
     ]
    }
   ],
   "source": [
    "import numpy as np\n",
    "\n",
    "def mult(a):\n",
    "    for i in range(0,len(a)):\n",
    "        a[i] = a[i]*i\n",
    "    return a\n"
   ]
  },
  {
   "cell_type": "code",
   "execution_count": null,
   "metadata": {
    "deletable": false,
    "editable": false,
    "nbgrader": {
     "checksum": "f82444afb8977aa4d626bb47f8f7ce1f",
     "grade": true,
     "grade_id": "cell-022946b94cf689bf",
     "locked": true,
     "points": 1,
     "schema_version": 1,
     "solution": false
    }
   },
   "outputs": [],
   "source": [
    "# check that the function executes"
   ]
  },
  {
   "cell_type": "code",
   "execution_count": null,
   "metadata": {
    "deletable": false,
    "editable": false,
    "nbgrader": {
     "checksum": "dc46c6df2728bf0a31bf3f2740e08f33",
     "grade": true,
     "grade_id": "cell-ee104da8a45d972c",
     "locked": true,
     "points": 1,
     "schema_version": 1,
     "solution": false
    }
   },
   "outputs": [],
   "source": [
    "# check that it returns an array of the correct dimensions"
   ]
  },
  {
   "cell_type": "code",
   "execution_count": null,
   "metadata": {
    "deletable": false,
    "editable": false,
    "nbgrader": {
     "checksum": "4e3d07c94454491f3f0286779b6c1115",
     "grade": true,
     "grade_id": "cell-f69ed7bb0c885153",
     "locked": true,
     "points": 1,
     "schema_version": 1,
     "solution": false
    }
   },
   "outputs": [],
   "source": [
    "# check return values"
   ]
  },
  {
   "cell_type": "markdown",
   "metadata": {
    "deletable": false,
    "editable": false,
    "nbgrader": {
     "checksum": "3d5a6ea6183c1635ee3d8c16854442aa",
     "grade": false,
     "grade_id": "cell-e84ecb0a272edfb7",
     "locked": true,
     "schema_version": 1,
     "solution": false
    }
   },
   "source": [
    "Follow the instructions for Question 3 here. (6 points)"
   ]
  },
  {
   "cell_type": "code",
   "execution_count": 3,
   "metadata": {
    "deletable": false,
    "nbgrader": {
     "checksum": "4b3ea644ed36fbc0dcba603a32ee8686",
     "grade": false,
     "grade_id": "cell-05e0d194f3d50179",
     "locked": false,
     "schema_version": 1,
     "solution": true
    }
   },
   "outputs": [],
   "source": [
    "import numpy as n\n",
    "def rewrite():\n",
    "    f = open('names.txt','r')\n",
    "    text = f.readlines()\n",
    "    new_f = open('newnames.txt','w')\n",
    "    arr = []\n",
    "    for i in range(len(text)):        \n",
    "        if(not text[i].startswith('#')):  \n",
    "            arr = text[i].split(',')\n",
    "            arr[1] = arr[1].strip()\n",
    "            new_f.write(\"{}'s number is {}.\\n\".format(arr[1], arr[0])) \n",
    "            if(i == len(text)-1):\n",
    "                print(arr[1])\n",
    "    new_f.close()\n",
    "    return text\n",
    "        \n"
   ]
  },
  {
   "cell_type": "code",
   "execution_count": 4,
   "metadata": {
    "deletable": false,
    "editable": false,
    "nbgrader": {
     "checksum": "59668bcd226e5513ba4c8a9d522c9987",
     "grade": true,
     "grade_id": "cell-e98fdee7476449c2",
     "locked": true,
     "points": 1,
     "schema_version": 1,
     "solution": false
    }
   },
   "outputs": [
    {
     "name": "stdout",
     "output_type": "stream",
     "text": [
      "Mark Watney\n"
     ]
    }
   ],
   "source": [
    "# check that rewrite returns a list of lines\n",
    "a = rewrite()\n",
    "assert type(a) == list\n",
    "assert len(a) == 7\n"
   ]
  },
  {
   "cell_type": "code",
   "execution_count": null,
   "metadata": {
    "deletable": false,
    "editable": false,
    "nbgrader": {
     "checksum": "189ec933b4d61fa79625aafef379a41f",
     "grade": true,
     "grade_id": "cell-7e8ca9ed495cbcf7",
     "locked": true,
     "points": 1,
     "schema_version": 1,
     "solution": false
    }
   },
   "outputs": [],
   "source": [
    "# check return value\n"
   ]
  },
  {
   "cell_type": "code",
   "execution_count": null,
   "metadata": {
    "deletable": false,
    "editable": false,
    "nbgrader": {
     "checksum": "15830c996f2b64e12897bba59ed859ce",
     "grade": true,
     "grade_id": "cell-f5f9a76de4139a9a",
     "locked": true,
     "points": 1,
     "schema_version": 1,
     "solution": false
    }
   },
   "outputs": [],
   "source": [
    "# check the file is created"
   ]
  },
  {
   "cell_type": "code",
   "execution_count": null,
   "metadata": {
    "deletable": false,
    "editable": false,
    "nbgrader": {
     "checksum": "3261ee35e46e59e5bfe8236b8390cfc8",
     "grade": true,
     "grade_id": "cell-ebe85f713f773106",
     "locked": true,
     "points": 1,
     "schema_version": 1,
     "solution": false
    }
   },
   "outputs": [],
   "source": [
    "# check that the content is reasonable"
   ]
  },
  {
   "cell_type": "code",
   "execution_count": null,
   "metadata": {
    "deletable": false,
    "editable": false,
    "nbgrader": {
     "checksum": "d14dff9526dc78f4c50ab76f700cf3fa",
     "grade": true,
     "grade_id": "cell-3520c255e713ee9f",
     "locked": true,
     "points": 1,
     "schema_version": 1,
     "solution": false
    }
   },
   "outputs": [],
   "source": [
    "# check that the content is correct"
   ]
  },
  {
   "cell_type": "code",
   "execution_count": null,
   "metadata": {
    "deletable": false,
    "editable": false,
    "nbgrader": {
     "checksum": "013d54b9bb5177be7f9eeb89be5f0520",
     "grade": true,
     "grade_id": "cell-8038af802dd95aa4",
     "locked": true,
     "points": 1,
     "schema_version": 1,
     "solution": false
    }
   },
   "outputs": [],
   "source": [
    "# check that the content is correct"
   ]
  }
 ],
 "metadata": {
  "kernelspec": {
   "display_name": "Python 3",
   "language": "python",
   "name": "python3"
  },
  "language_info": {
   "codemirror_mode": {
    "name": "ipython",
    "version": 3
   },
   "file_extension": ".py",
   "mimetype": "text/x-python",
   "name": "python",
   "nbconvert_exporter": "python",
   "pygments_lexer": "ipython3",
   "version": "3.7.3"
  }
 },
 "nbformat": 4,
 "nbformat_minor": 2
}
