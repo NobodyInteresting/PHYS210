{
 "cells": [
  {
   "cell_type": "markdown",
   "metadata": {
    "deletable": false,
    "editable": false,
    "nbgrader": {
     "checksum": "dcbe683bd37a8da36050f2b2cc539787",
     "grade": false,
     "grade_id": "cell-c52c5127900147a7",
     "locked": true,
     "schema_version": 1,
     "solution": false
    }
   },
   "source": [
    "# Exercise 8\n",
    "\n",
    "Sept 30, 2019. Due Oct 2, 9am.\n",
    "\n",
    "Enter the names, and describe the contributions of anybody besides yourself who contributed/collaborated.\n"
   ]
  },
  {
   "cell_type": "markdown",
   "metadata": {
    "deletable": false,
    "editable": false,
    "nbgrader": {
     "checksum": "32d6514763cb2d51e75e315c7a51e7a2",
     "grade": false,
     "grade_id": "cell-8467db2e46b7b05f",
     "locked": true,
     "schema_version": 1,
     "solution": false
    }
   },
   "source": [
    "# Data Fitting and Plotting\n",
    "\n",
    "1) Using the command line, copy our trusty sample data file, `examplearray.txt` in from your Exercise 5 directory (or /home2/phys210/Public if you managed to mangle it).\n",
    "\n",
    "Write a function, `line(x, m, b)` that takes a one-dimensional array, $x$ and parameters $m$ and $b$ and calculates a new one dimensional array $y = m x +b$.\n"
   ]
  },
  {
   "cell_type": "code",
   "execution_count": 1,
   "metadata": {
    "deletable": false,
    "nbgrader": {
     "checksum": "87ea1eb7ac771440621d8cf72459658c",
     "grade": false,
     "grade_id": "cell-5140f16cfc19bc56",
     "locked": false,
     "schema_version": 1,
     "solution": true
    }
   },
   "outputs": [],
   "source": [
    "def line(x, m, b):\n",
    "    return (m*x + b)\n",
    "    \n"
   ]
  },
  {
   "cell_type": "code",
   "execution_count": 2,
   "metadata": {
    "deletable": false,
    "editable": false,
    "nbgrader": {
     "checksum": "834768899b84f8aafdef1eb2c23904db",
     "grade": true,
     "grade_id": "cell-27f5963b2a4f5e19",
     "locked": true,
     "points": 1,
     "schema_version": 1,
     "solution": false
    }
   },
   "outputs": [],
   "source": [
    "# test that line() executes and returns the correct variables\n",
    "import numpy as np\n",
    "from numpy.testing import assert_equal, assert_almost_equal\n",
    "xdat9 = np.array([1,2,3,4])\n",
    "ydat9 = line(xdat9, 3, 1)\n",
    "assert type(ydat9) == np.ndarray\n"
   ]
  },
  {
   "cell_type": "code",
   "execution_count": 3,
   "metadata": {
    "deletable": false,
    "editable": false,
    "nbgrader": {
     "checksum": "9e7cb92021ba3d829a1b5b580f27cefc",
     "grade": true,
     "grade_id": "cell-4ad1e098c8c81185",
     "locked": true,
     "points": 1,
     "schema_version": 1,
     "solution": false
    }
   },
   "outputs": [],
   "source": [
    "# test that the values returned by line are correct"
   ]
  },
  {
   "cell_type": "markdown",
   "metadata": {
    "deletable": false,
    "editable": false,
    "nbgrader": {
     "checksum": "52fbe86200ee56fab8a82191fc9e0fd2",
     "grade": false,
     "grade_id": "cell-00a3f21869074614",
     "locked": true,
     "schema_version": 1,
     "solution": false
    }
   },
   "source": [
    "Read in the x, y, and yerror columns from the file and place them in three one-dimensional arrays with names x, y, yerror. Print these three arrays out don't worry about formatting, this is just so you can verify that the correct data is in the three arrays, and they are in fact one-dimensional arrays."
   ]
  },
  {
   "cell_type": "code",
   "execution_count": 4,
   "metadata": {
    "deletable": false,
    "nbgrader": {
     "checksum": "00b00860fb4558ccba710f5afff7b896",
     "grade": false,
     "grade_id": "cell-7296e8a9f1264445",
     "locked": false,
     "schema_version": 1,
     "solution": true
    }
   },
   "outputs": [],
   "source": [
    "x = np.loadtxt('examplearray.txt',usecols=(1))\n",
    "y = np.loadtxt('examplearray.txt',usecols=(2))\n",
    "yerror = np.loadtxt('examplearray.txt',usecols=(4))"
   ]
  },
  {
   "cell_type": "code",
   "execution_count": 5,
   "metadata": {
    "deletable": false,
    "editable": false,
    "nbgrader": {
     "checksum": "e4c4b6c76aafa14d6bc67256fee57089",
     "grade": true,
     "grade_id": "cell-c1113c01ad2a7671",
     "locked": true,
     "points": 0.5,
     "schema_version": 1,
     "solution": false
    }
   },
   "outputs": [
    {
     "name": "stdout",
     "output_type": "stream",
     "text": [
      "[1.24 1.26 1.28 1.3  1.33 1.35]\n",
      "[3.14 3.89 4.04 4.33 4.67 5.08]\n",
      "[0.52 0.52 0.53 0.53 0.54 0.54]\n"
     ]
    }
   ],
   "source": [
    "# test that the three arrays exist\n",
    "print(x)\n",
    "print(y)\n",
    "print(yerror)\n",
    "\n"
   ]
  },
  {
   "cell_type": "code",
   "execution_count": 6,
   "metadata": {
    "deletable": false,
    "editable": false,
    "nbgrader": {
     "checksum": "009cf5b6e95ec318fc5df5d9834c4e3a",
     "grade": true,
     "grade_id": "cell-ef9271ccf7d46b43",
     "locked": true,
     "points": 0.5,
     "schema_version": 1,
     "solution": false
    }
   },
   "outputs": [
    {
     "ename": "NameError",
     "evalue": "name 'np2' is not defined",
     "output_type": "error",
     "traceback": [
      "\u001b[0;31m---------------------------------------------------------------------------\u001b[0m",
      "\u001b[0;31mNameError\u001b[0m                                 Traceback (most recent call last)",
      "\u001b[0;32m<ipython-input-6-89c196dd6eec>\u001b[0m in \u001b[0;36m<module>\u001b[0;34m()\u001b[0m\n\u001b[1;32m      1\u001b[0m \u001b[0;31m# test that the x array has the correct data\u001b[0m\u001b[0;34m\u001b[0m\u001b[0;34m\u001b[0m\u001b[0;34m\u001b[0m\u001b[0m\n\u001b[0;32m----> 2\u001b[0;31m \u001b[0massert_almost_equal\u001b[0m\u001b[0;34m(\u001b[0m\u001b[0mx\u001b[0m\u001b[0;34m,\u001b[0m\u001b[0mnp2\u001b[0m\u001b[0;34m.\u001b[0m\u001b[0marray\u001b[0m\u001b[0;34m(\u001b[0m\u001b[0;34m[\u001b[0m\u001b[0;36m1.24\u001b[0m\u001b[0;34m,\u001b[0m \u001b[0;36m1.26\u001b[0m\u001b[0;34m,\u001b[0m \u001b[0;36m1.28\u001b[0m\u001b[0;34m,\u001b[0m \u001b[0;36m1.30\u001b[0m\u001b[0;34m,\u001b[0m \u001b[0;36m1.33\u001b[0m\u001b[0;34m,\u001b[0m \u001b[0;36m1.35\u001b[0m\u001b[0;34m]\u001b[0m\u001b[0;34m)\u001b[0m\u001b[0;34m,\u001b[0m\u001b[0;36m2\u001b[0m\u001b[0;34m)\u001b[0m\u001b[0;34m\u001b[0m\u001b[0;34m\u001b[0m\u001b[0m\n\u001b[0m",
      "\u001b[0;31mNameError\u001b[0m: name 'np2' is not defined"
     ]
    }
   ],
   "source": [
    "# test that the x array has the correct data\n",
    "assert_almost_equal(x,np2.array([1.24, 1.26, 1.28, 1.30, 1.33, 1.35]),2)"
   ]
  },
  {
   "cell_type": "code",
   "execution_count": null,
   "metadata": {
    "deletable": false,
    "editable": false,
    "nbgrader": {
     "checksum": "a5c2bfbf31dd8134cc1c213ce7116c8b",
     "grade": true,
     "grade_id": "cell-30b7018696cb9bb4",
     "locked": true,
     "points": 0.5,
     "schema_version": 1,
     "solution": false
    }
   },
   "outputs": [],
   "source": [
    "# test that the y array has the correct data"
   ]
  },
  {
   "cell_type": "code",
   "execution_count": null,
   "metadata": {
    "deletable": false,
    "editable": false,
    "nbgrader": {
     "checksum": "83c6972768d018115330eaf412062d5b",
     "grade": true,
     "grade_id": "cell-c62e83808d51a549",
     "locked": true,
     "points": 0.5,
     "schema_version": 1,
     "solution": false
    }
   },
   "outputs": [],
   "source": [
    "# test that the yerror array has the correct data"
   ]
  },
  {
   "cell_type": "markdown",
   "metadata": {
    "deletable": false,
    "editable": false,
    "nbgrader": {
     "checksum": "07e2a0ecee40316846d5a2607cfd92e5",
     "grade": false,
     "grade_id": "cell-040c66b81dff4ea4",
     "locked": true,
     "schema_version": 1,
     "solution": false
    }
   },
   "source": [
    "Use `scipy.optimize.curve_fit()` to fit the data you loaded into x, y, and yerror to the `line()` function you defined earlier. Check the lecture notes (4.1) for an example of using this function. Make sure to include the y errors on the data points. Assume that the errors are absolute errors (pass `absolute_sigma = True` to `curve_fit()`).\n",
    "\n",
    "Use the variable: `params` to store the array of best fit parameters."
   ]
  },
  {
   "cell_type": "code",
   "execution_count": null,
   "metadata": {
    "deletable": false,
    "nbgrader": {
     "checksum": "4913188c1b42b83f9ddb0fd3234738fa",
     "grade": false,
     "grade_id": "cell-cafc82901e7be01d",
     "locked": false,
     "schema_version": 1,
     "solution": true
    }
   },
   "outputs": [],
   "source": [
    "# set params, using curve_fit\n",
    "import matplotlib.pyplot as plt\n",
    "from scipy import optimize\n",
    "\n",
    "params, pcov = optimize.curve_fit(line,x,y,sigma = yerror, absolute_sigma = True)\n",
    "\n"
   ]
  },
  {
   "cell_type": "code",
   "execution_count": null,
   "metadata": {
    "deletable": false,
    "editable": false,
    "nbgrader": {
     "checksum": "15a8e7220cdee79062b9436a45678c75",
     "grade": true,
     "grade_id": "cell-52b82ac1f07b83fb",
     "locked": true,
     "points": 1,
     "schema_version": 1,
     "solution": false
    }
   },
   "outputs": [],
   "source": [
    "# check that params is an array of two values\n",
    "assert params.size == 2\n",
    "assert params.ndim == 1"
   ]
  },
  {
   "cell_type": "code",
   "execution_count": null,
   "metadata": {
    "deletable": false,
    "editable": false,
    "nbgrader": {
     "checksum": "6290f109b749cd2622705ee397a2855f",
     "grade": true,
     "grade_id": "cell-d48cf8f43e9a196b",
     "locked": true,
     "points": 1,
     "schema_version": 1,
     "solution": false
    }
   },
   "outputs": [],
   "source": [
    "# check values"
   ]
  },
  {
   "cell_type": "code",
   "execution_count": null,
   "metadata": {
    "deletable": false,
    "editable": false,
    "nbgrader": {
     "checksum": "fa87d77e365f5da1c74fdfbf6980d8aa",
     "grade": true,
     "grade_id": "cell-3152d2ffd557ce1b",
     "locked": true,
     "points": 1,
     "schema_version": 1,
     "solution": false
    }
   },
   "outputs": [],
   "source": [
    "# check values"
   ]
  },
  {
   "cell_type": "markdown",
   "metadata": {
    "deletable": false,
    "editable": false,
    "nbgrader": {
     "checksum": "7efd9b9da1ed7b9ea151964b3f1134fb",
     "grade": false,
     "grade_id": "cell-72401891ba05e907",
     "locked": true,
     "schema_version": 1,
     "solution": false
    }
   },
   "source": [
    "Plot the data (including y error bars) along with the linear fit. The data points should be plotted with red diamonds, and the fit with a blue solid line. Do not use %matplotlib notebook !\n",
    "\n",
    "EVERY PLOT YOU EVER MAKE in your whole life (ok, there are some exceptions) should have x and y axes labels, and for stand-alone plots like this, a title as well (a title is not usually used if the plot will have a caption to describe it). Here the x and y axes labels can just be place holders, like “x values” and “y values” but the title should be something useful for the marker, like: Linear fit of examplearray.txt"
   ]
  },
  {
   "cell_type": "code",
   "execution_count": null,
   "metadata": {
    "deletable": false,
    "nbgrader": {
     "checksum": "5a40a782e0bdcbd05de64df923379715",
     "grade": true,
     "grade_id": "cell-a9ac56a94dc6fc1a",
     "locked": false,
     "points": 2,
     "schema_version": 1,
     "solution": true
    }
   },
   "outputs": [],
   "source": [
    "plt.title(\"Linear fit of examplearray.txt\")\n",
    "plt.xlabel(\"x values\")\n",
    "plt.ylabel('y values')\n",
    "\n",
    "plt.errorbar(x,y,yerror, fmt=\"rD\")\n",
    "plt.plot(x,line(x,params[0],params[1]),'b-')\n",
    "plt.show()"
   ]
  },
  {
   "cell_type": "markdown",
   "metadata": {
    "deletable": false,
    "editable": false,
    "nbgrader": {
     "checksum": "615980d7336de084f7aa51b76680b591",
     "grade": false,
     "grade_id": "cell-b752ae8fbf385393",
     "locked": true,
     "schema_version": 1,
     "solution": false
    }
   },
   "source": [
    "## Scatter plots and histograms\n",
    "\n",
    "Create 100 random points drawn from a bivariate normal distribution using `numpy.random.multivariate_normal()` Read up on how to use this function using the inline help (eg: help(np.random.multivariate_normal) ). To use this function, you need to pass it a 2x2 covariance matrix. Use 1 for the diagonals and -0.5 for the off-diagonals. Feel free to explore what happens with other values of the elements. Make the means zero. Have this function place your values in a 2d array called `rvals`.\n",
    "\n"
   ]
  },
  {
   "cell_type": "code",
   "execution_count": null,
   "metadata": {
    "deletable": false,
    "nbgrader": {
     "checksum": "9da8288d5af5ec8aa96636c524026f69",
     "grade": false,
     "grade_id": "cell-10a54a3feb5f22d3",
     "locked": false,
     "schema_version": 1,
     "solution": true
    }
   },
   "outputs": [],
   "source": [
    "mean = np.zeros(2)\n",
    "\n",
    "cov = np.array([[1,-0.5],[-0.5,1]])\n",
    "\n",
    "rvals = np.random.multivariate_normal(mean, cov, 100)"
   ]
  },
  {
   "cell_type": "code",
   "execution_count": null,
   "metadata": {
    "deletable": false,
    "editable": false,
    "nbgrader": {
     "checksum": "9569813938ff639efe56e28bae64564f",
     "grade": true,
     "grade_id": "cell-9839972255ed3933",
     "locked": true,
     "points": 1,
     "schema_version": 1,
     "solution": false
    }
   },
   "outputs": [],
   "source": [
    "assert rvals.shape==(100,2), \"rvals has the wrong shape\""
   ]
  },
  {
   "cell_type": "code",
   "execution_count": null,
   "metadata": {
    "deletable": false,
    "editable": false,
    "nbgrader": {
     "checksum": "73469e018e1774706b813a8ceeef4327",
     "grade": true,
     "grade_id": "cell-460d24929ae77c60",
     "locked": true,
     "points": 1,
     "schema_version": 1,
     "solution": false
    }
   },
   "outputs": [],
   "source": [
    "# check values of rvals\n",
    "assert rvals[:,0].mean() < 0.2\n",
    "assert rvals[:,1].mean() < 0.2\n",
    "assert rvals[:,0].std() > 0.5 and rvals[:,0].std() < 1.5\n",
    "assert rvals[:,1].std() > 0.5 and rvals[:,1].std() < 1.5"
   ]
  },
  {
   "cell_type": "markdown",
   "metadata": {
    "deletable": false,
    "editable": false,
    "nbgrader": {
     "checksum": "cd425104dc308af9aafd056bb769eb1b",
     "grade": false,
     "grade_id": "cell-854a2104d54e21ea",
     "locked": true,
     "schema_version": 1,
     "solution": false
    }
   },
   "source": [
    "Now make a single figure similar to the one shown. \n",
    "![](scatter-fig.png) The upper left subplot is a scatter plot of the x and y values. The upper right subplot is a histogram of the x values, and the lower left subplot is a histogram of the y values.\n",
    "\n",
    "I used 30 bins for the 100 points in the histograms.\n",
    "\n",
    "`plt.tight_layout()` may come in handy if labels from one subplot overlap with those of another."
   ]
  },
  {
   "cell_type": "code",
   "execution_count": null,
   "metadata": {
    "deletable": false,
    "nbgrader": {
     "checksum": "d80fdb2bc795425dc53519bbfaa2e72d",
     "grade": true,
     "grade_id": "cell-2d58b420d22d93ce",
     "locked": false,
     "points": 4,
     "schema_version": 1,
     "solution": true
    }
   },
   "outputs": [],
   "source": [
    "plt.subplot(2,2,1)\n",
    "plt.scatter(rvals[:,0], rvals[:,1])\n",
    "plt.title(\"Scatter plot\")\n",
    "plt.xlabel(\"x value\")\n",
    "plt.ylabel('y value')\n",
    "\n",
    "plt.subplot(2,2,2)\n",
    "plt.hist(rvals[:,0],30)\n",
    "plt.title(\"Histogram of x values\")\n",
    "plt.xlabel(\"x value\")\n",
    "plt.ylabel('Number of x-values')\n",
    "\n",
    "plt.subplot(2,2,3)\n",
    "plt.hist(rvals[:,1],30)\n",
    "plt.title(\"Histogram of y values\")\n",
    "plt.xlabel(\"x value\")\n",
    "plt.ylabel('Number of x-values')\n",
    "\n",
    "plt.tight_layout()\n",
    "plt.show()"
   ]
  },
  {
   "cell_type": "code",
   "execution_count": null,
   "metadata": {},
   "outputs": [],
   "source": []
  }
 ],
 "metadata": {
  "kernelspec": {
   "display_name": "Python 3",
   "language": "python",
   "name": "python3"
  },
  "language_info": {
   "codemirror_mode": {
    "name": "ipython",
    "version": 3
   },
   "file_extension": ".py",
   "mimetype": "text/x-python",
   "name": "python",
   "nbconvert_exporter": "python",
   "pygments_lexer": "ipython3",
   "version": "3.7.3"
  }
 },
 "nbformat": 4,
 "nbformat_minor": 2
}
