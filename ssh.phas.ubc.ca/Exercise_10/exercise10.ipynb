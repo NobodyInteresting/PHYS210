{
 "cells": [
  {
   "cell_type": "markdown",
   "metadata": {
    "deletable": false,
    "editable": false,
    "nbgrader": {
     "checksum": "ad6b78ea8476acbcc028397c58d4b936",
     "grade": false,
     "grade_id": "cell-9bedb1acca10e5ee",
     "locked": true,
     "schema_version": 1,
     "solution": false
    }
   },
   "source": [
    "# Exercise 10\n",
    "Oct 7, 2019. Due Oct 9, 9am.\n",
    "\n",
    "Enter the names, and describe the contributions of anybody **besides yourself** who contributed/collaborated. "
   ]
  },
  {
   "cell_type": "markdown",
   "metadata": {},
   "source": []
  },
  {
   "cell_type": "markdown",
   "metadata": {
    "deletable": false,
    "editable": false,
    "nbgrader": {
     "checksum": "28c7003d30b98f0eaac14ac95ba9d172",
     "grade": false,
     "grade_id": "cell-09ac38ddce6c9a70",
     "locked": true,
     "schema_version": 1,
     "solution": false
    }
   },
   "source": [
    "## Containers \n",
    "Below, you are asked to write several functions that manipulate lists and dictionaries.\n",
    "Tests for most of these functions are visible. You should get in the habit of testing your own functions this way to ensure they do what is expected.\n",
    "\n",
    "\n",
    "Write a function called `list2ends(t)` that takes a list as an argument and returns a list containing only the first and last elements of the argument. You can assume that the argument `t` is a list containing at least one element.\n",
    "\n"
   ]
  },
  {
   "cell_type": "code",
   "execution_count": 1,
   "metadata": {
    "deletable": false,
    "nbgrader": {
     "checksum": "41b6274c9d4fe6030111768296e16328",
     "grade": false,
     "grade_id": "cell-e81e4b8c84eaaa62",
     "locked": false,
     "schema_version": 1,
     "solution": true
    }
   },
   "outputs": [],
   "source": [
    "def list2ends(t):\n",
    "    new_list = [t[0],t[len(t)-1]]\n",
    "    if(len(t)==1):\n",
    "        return t\n",
    "    return new_list\n"
   ]
  },
  {
   "cell_type": "code",
   "execution_count": 2,
   "metadata": {
    "deletable": false,
    "editable": false,
    "nbgrader": {
     "checksum": "3ada4eff2301c6a2fd24e0f82213178c",
     "grade": true,
     "grade_id": "Q1a1",
     "locked": true,
     "points": 1,
     "schema_version": 1,
     "solution": false
    }
   },
   "outputs": [],
   "source": [
    "# check that function works:\n",
    "assert list2ends([1, 3, 5]) == [1, 5]\n",
    "assert list2ends(['b', 5, 'a string', 2]) == ['b', 2]\n",
    "    "
   ]
  },
  {
   "cell_type": "code",
   "execution_count": 3,
   "metadata": {
    "deletable": false,
    "editable": false,
    "nbgrader": {
     "checksum": "0a165b1bd51116d53523774a43b5bf78",
     "grade": true,
     "grade_id": "Q1a2",
     "locked": true,
     "points": 1,
     "schema_version": 1,
     "solution": false
    }
   },
   "outputs": [],
   "source": [
    "# test edge cases"
   ]
  },
  {
   "cell_type": "markdown",
   "metadata": {
    "deletable": false,
    "editable": false,
    "nbgrader": {
     "checksum": "a36d80ba0a846f974f815d41cde8e9e2",
     "grade": false,
     "grade_id": "cell-940d0311984f9f6c",
     "locked": true,
     "schema_version": 1,
     "solution": false
    }
   },
   "source": [
    "Write a function called `noduplicates(t)` that takes a list and returns a new list containing the elements of the first list but with any duplicates removed. The function should retain the first instance of any element but remove any later exact matches."
   ]
  },
  {
   "cell_type": "code",
   "execution_count": 4,
   "metadata": {
    "deletable": false,
    "nbgrader": {
     "checksum": "1e5af135219b20cda926a4596fad2a23",
     "grade": false,
     "grade_id": "cell-486df2d756bcb7f0",
     "locked": false,
     "schema_version": 1,
     "solution": true
    }
   },
   "outputs": [],
   "source": [
    "def noduplicates(t):\n",
    "    new_list = []\n",
    "    for n in range(len(t)):   \n",
    "        if(new_list.count(t[n]) == 0):\n",
    "            new_list.append(t[n])\n",
    "    return new_list\n"
   ]
  },
  {
   "cell_type": "code",
   "execution_count": 5,
   "metadata": {
    "deletable": false,
    "editable": false,
    "nbgrader": {
     "checksum": "fa3725934d02d2dbd1dd8df20090b516",
     "grade": true,
     "grade_id": "Q1b1",
     "locked": true,
     "points": 1,
     "schema_version": 1,
     "solution": false
    }
   },
   "outputs": [],
   "source": [
    "assert noduplicates([1, 3, 7, 'stuff', 45.2]) == [1, 3, 7, 'stuff', 45.2]"
   ]
  },
  {
   "cell_type": "code",
   "execution_count": 6,
   "metadata": {
    "deletable": false,
    "editable": false,
    "nbgrader": {
     "checksum": "e6604204549c37a743b7db8caa67dbe2",
     "grade": true,
     "grade_id": "Q1b2",
     "locked": true,
     "points": 1,
     "schema_version": 1,
     "solution": false
    }
   },
   "outputs": [],
   "source": [
    "assert noduplicates(['a', 'b', 4, 2, 9, 5.0, 'b']) == ['a', 'b', 4, 2, 9, 5.0]\n",
    "assert noduplicates([1, 3, 3, 1, 12.9, 47.3, 'a', 3, 1, 'others', [4,2],'b',3]) == [1, 3, 12.9, 47.3, 'a', 'others', [4,2],'b']"
   ]
  },
  {
   "cell_type": "markdown",
   "metadata": {
    "deletable": false,
    "editable": false,
    "nbgrader": {
     "checksum": "cfd5783ed2be73fb8aaaf8ea51c318ce",
     "grade": false,
     "grade_id": "cell-5f72a2a3ab0670fb",
     "locked": true,
     "schema_version": 1,
     "solution": false
    }
   },
   "source": [
    "Write a function called `lessthanten(t)` that takes a list of numbers and returns a new list containing only those elements with values less than 10, with no duplicates."
   ]
  },
  {
   "cell_type": "code",
   "execution_count": 7,
   "metadata": {
    "deletable": false,
    "nbgrader": {
     "checksum": "8aa51ca194fa82383e246ecd972c420b",
     "grade": false,
     "grade_id": "cell-fc80db073cf0158e",
     "locked": false,
     "schema_version": 1,
     "solution": true
    }
   },
   "outputs": [],
   "source": [
    "def lessthanten(t):\n",
    "    lt =  noduplicates(t)\n",
    "    new_l = []\n",
    "    for i in range(len(lt)):\n",
    "        if(lt[i]<10):\n",
    "            new_l.append(lt[i])\n",
    "    return new_l"
   ]
  },
  {
   "cell_type": "code",
   "execution_count": 8,
   "metadata": {
    "deletable": false,
    "editable": false,
    "nbgrader": {
     "checksum": "652c825ae6f960b8db195e30fd42224a",
     "grade": true,
     "grade_id": "Q1c1",
     "locked": true,
     "points": 1,
     "schema_version": 1,
     "solution": false
    }
   },
   "outputs": [],
   "source": [
    "assert lessthanten([1, 2, 7, 38, 5.2, -27.4,  24]) == [1, 2, 7, 5.2, -27.4]"
   ]
  },
  {
   "cell_type": "code",
   "execution_count": 9,
   "metadata": {
    "deletable": false,
    "editable": false,
    "nbgrader": {
     "checksum": "8534ccc4e360ee222dfb51d325ec64d6",
     "grade": true,
     "grade_id": "Q1c2",
     "locked": true,
     "points": 1,
     "schema_version": 1,
     "solution": false
    }
   },
   "outputs": [],
   "source": [
    "assert lessthanten([1, 2, 7, 38, 5.2, -27.4, 7, 1, 5.2, 24]) == [1, 2, 7, 5.2, -27.4]"
   ]
  },
  {
   "cell_type": "markdown",
   "metadata": {
    "deletable": false,
    "editable": false,
    "nbgrader": {
     "checksum": "d202ee2f90ed67c2cb2c66824787026c",
     "grade": false,
     "grade_id": "cell-0dfff03bf9d8c95b",
     "locked": true,
     "schema_version": 1,
     "solution": false
    }
   },
   "source": [
    "Write a function called `truncate(t)` that takes a list `t`, removes the first and last elements, modifying it in place. The function should return None. Your function should not crash if it is passed a list with only 1, or with no elements."
   ]
  },
  {
   "cell_type": "code",
   "execution_count": 10,
   "metadata": {
    "deletable": false,
    "nbgrader": {
     "checksum": "213cff557e4c768c15ed466970dfc071",
     "grade": false,
     "grade_id": "cell-65168bfb5eae051e",
     "locked": false,
     "schema_version": 1,
     "solution": true
    }
   },
   "outputs": [],
   "source": [
    "def truncate(t):\n",
    "    if(len(t) == 0):\n",
    "        return None\n",
    "    elif(len(t) == 1):\n",
    "        t.pop()\n",
    "    else:\n",
    "        t.pop()\n",
    "        t.remove(t[0])\n",
    "        \n",
    "    return None\n",
    "        "
   ]
  },
  {
   "cell_type": "code",
   "execution_count": 11,
   "metadata": {
    "deletable": false,
    "editable": false,
    "nbgrader": {
     "checksum": "7e5c4e9e1c2f5909907c1c00302c305e",
     "grade": true,
     "grade_id": "Q1d1",
     "locked": true,
     "points": 1,
     "schema_version": 1,
     "solution": false
    }
   },
   "outputs": [],
   "source": [
    "a = [9, 8, 7, 6]\n",
    "assert truncate(a) == None\n",
    "assert a == [8, 7]"
   ]
  },
  {
   "cell_type": "code",
   "execution_count": 12,
   "metadata": {
    "deletable": false,
    "editable": false,
    "nbgrader": {
     "checksum": "de6504afe3f0328d67256f3e34e5b38f",
     "grade": true,
     "grade_id": "Q1d2",
     "locked": true,
     "points": 1,
     "schema_version": 1,
     "solution": false
    }
   },
   "outputs": [],
   "source": [
    "a = [4]\n",
    "assert truncate(a) == None\n",
    "assert a == []\n",
    "a = [ 5, 2]\n",
    "assert truncate(a) == None\n",
    "assert a == []\n",
    "a = ['234', 234, True, 24.2]\n",
    "assert truncate(a) == None\n",
    "assert a == [234, True]"
   ]
  },
  {
   "cell_type": "markdown",
   "metadata": {
    "deletable": false,
    "editable": false,
    "nbgrader": {
     "checksum": "5c38fffb0c592424eacfe138ac9361b6",
     "grade": false,
     "grade_id": "cell-9bc9aacec9464409",
     "locked": true,
     "schema_version": 1,
     "solution": false
    }
   },
   "source": [
    "Write a function `concatenate(a, b, c)` which returns the concatenated dictionaries a, b, c, but leaves a, b, and c untouched."
   ]
  },
  {
   "cell_type": "code",
   "execution_count": 13,
   "metadata": {
    "deletable": false,
    "nbgrader": {
     "checksum": "b5c1010111f2a1f605bbefc5989aca58",
     "grade": false,
     "grade_id": "cell-6142d95bd336bb13",
     "locked": false,
     "schema_version": 1,
     "solution": true
    }
   },
   "outputs": [],
   "source": [
    "import numpy as np\n",
    "def concatenate(a,b,c):\n",
    "    d = {}\n",
    "    d.update(a)\n",
    "    d.update(b)\n",
    "    d.update(c)\n",
    "    return d"
   ]
  },
  {
   "cell_type": "code",
   "execution_count": 14,
   "metadata": {
    "deletable": false,
    "editable": false,
    "nbgrader": {
     "checksum": "98f61276b58e3040c227497c6f60ace0",
     "grade": true,
     "grade_id": "Q1e1",
     "locked": true,
     "points": 1,
     "schema_version": 1,
     "solution": false
    }
   },
   "outputs": [],
   "source": [
    "a = {'type': 'potato', 'colour': 'brown', 'shape': 'ellipsoid'}\n",
    "b = {'a': 'alpha', 'b': 'beta'}\n",
    "c = {'name1': 'charlie', 'height': 123}\n",
    "\n",
    "d = concatenate(a, b, c)\n",
    "assert d == {'type': 'potato', 'colour': 'brown', 'shape': 'ellipsoid', 'a': 'alpha', 'b': 'beta', 'name1': 'charlie', 'height': 123}\n"
   ]
  },
  {
   "cell_type": "code",
   "execution_count": 15,
   "metadata": {
    "deletable": false,
    "editable": false,
    "nbgrader": {
     "checksum": "faa8b25f1d8047edb3c30da5ac4226dd",
     "grade": true,
     "grade_id": "Q1e2",
     "locked": true,
     "points": 1,
     "schema_version": 1,
     "solution": false
    }
   },
   "outputs": [],
   "source": [
    "assert a == {'type': 'potato', 'colour': 'brown', 'shape': 'ellipsoid'}\n",
    "assert b == {'a': 'alpha', 'b': 'beta'}\n",
    "assert c == {'name1': 'charlie', 'height': 123}"
   ]
  },
  {
   "cell_type": "markdown",
   "metadata": {
    "deletable": false,
    "editable": false,
    "nbgrader": {
     "checksum": "5b59a86f96aee1cd518d8082818da0ff",
     "grade": false,
     "grade_id": "cell-01566b025fb4051c",
     "locked": true,
     "schema_version": 1,
     "solution": false
    }
   },
   "source": [
    "Write a function `exists(d, s)` which checks if key s already exists in dictionary d. It should return a boolean value of True if the key s is in d."
   ]
  },
  {
   "cell_type": "code",
   "execution_count": 16,
   "metadata": {
    "deletable": false,
    "nbgrader": {
     "checksum": "425906bb8d53e11aa3346af79f8672c0",
     "grade": false,
     "grade_id": "cell-a1af248c383a6e32",
     "locked": false,
     "schema_version": 1,
     "solution": true
    }
   },
   "outputs": [],
   "source": [
    "def exists(d,s):\n",
    "    keys = list(d.keys())\n",
    "    for n in range(len(keys)):\n",
    "        if(s == keys[n]):\n",
    "            return True\n",
    "    return False\n"
   ]
  },
  {
   "cell_type": "code",
   "execution_count": 17,
   "metadata": {
    "deletable": false,
    "editable": false,
    "nbgrader": {
     "checksum": "489b52b78eb47c15a5a0b3dcfdef7d10",
     "grade": true,
     "grade_id": "Q1f1",
     "locked": true,
     "points": 1,
     "schema_version": 1,
     "solution": false
    }
   },
   "outputs": [],
   "source": [
    "# check if exists() returns the correct value if s is not in d\n",
    "a = {'one': 'potato', 'red': 'sock', 'alpha': 'a', 'beta': 'b', 'name1': 'charlie', 'name2': 'chaplin'}\n",
    "assert exists(a, 'key') == False"
   ]
  },
  {
   "cell_type": "code",
   "execution_count": 18,
   "metadata": {
    "deletable": false,
    "editable": false,
    "nbgrader": {
     "checksum": "5657570d97cf42b724f40c9115f04b8b",
     "grade": true,
     "grade_id": "Q1f2",
     "locked": true,
     "points": 1,
     "schema_version": 1,
     "solution": false
    }
   },
   "outputs": [],
   "source": [
    "# check if exists returns the correct value if s is not in d\n",
    "a = {'one': 'potato', 'red': 'sock', 'alpha': 'a', 'beta': 'b', 'name1': 'charlie', 'name2': 'chaplin'}\n",
    "assert exists(a, 'one') == True"
   ]
  },
  {
   "cell_type": "markdown",
   "metadata": {
    "deletable": false,
    "editable": false,
    "nbgrader": {
     "checksum": "ce614454eee4686eaceea9d8fe63210e",
     "grade": false,
     "grade_id": "cell-75b29afbdd74a795",
     "locked": true,
     "schema_version": 1,
     "solution": false
    }
   },
   "source": [
    "## Numerical Integration I\n",
    "\n",
    "The simplest numerical integration technique uses the midpoint rule. The definite integral of a\n",
    "function $f(x)$ over the interval $x = [x_0, x_n ]$ is approximated as a sum of $n$ rectangle areas of equal\n",
    "width $\\Delta x = (x_n −x_0)/n$ and height determined by the value of the function $f (x^*_i)$ at the midpoint\n",
    "position $x^*_i$ . This is illustrated in the figure. ![](midpoint.png)\n",
    "\n",
    "Mathematically the midpoint rule estimate for the integral is given by:\n",
    "$$\\int_{x_0}^{x_n} f(x) \\, dx \\approx \\Delta x  \\, \\left(f(x_1^*) + f(x_2^*) + ... + f(x_{n}^*) \\right)$$\n",
    "\n",
    "Write a function called `midpoint(n, x0, xn)` that calculates the integral of $f(x) = \\sin(x) \\exp(-x/2)$ over the interval from `x0` to `xn` using `n` intervals. "
   ]
  },
  {
   "cell_type": "code",
   "execution_count": 19,
   "metadata": {
    "deletable": false,
    "nbgrader": {
     "checksum": "94fa315a48b61358d84ad952e9665a0f",
     "grade": false,
     "grade_id": "cell-b7cee818a10f64ee",
     "locked": false,
     "schema_version": 1,
     "solution": true
    }
   },
   "outputs": [],
   "source": [
    "import math\n",
    "\n",
    "def midpoint(n,x0,xn):\n",
    "    width = (xn-x0)/n\n",
    "    ans = 0;\n",
    "    x = x0+(width/2)\n",
    "    \n",
    "    for i in range(n):\n",
    "        ans += width*(math.sin(x)*math.exp((-x)/2))\n",
    "        x += width\n",
    "    return ans\n",
    "\n"
   ]
  },
  {
   "cell_type": "code",
   "execution_count": 20,
   "metadata": {
    "deletable": false,
    "editable": false,
    "nbgrader": {
     "checksum": "6a157db278b1d3563d2af376c0acf9ed",
     "grade": true,
     "grade_id": "Q2a",
     "locked": true,
     "points": 1,
     "schema_version": 1,
     "solution": false
    }
   },
   "outputs": [],
   "source": [
    "# check that the function exists and returns a floating point number\n",
    "a = midpoint(20, 0., 1.)\n",
    "\n",
    "import numbers\n",
    "from numpy.testing import assert_equal, assert_almost_equal\n",
    "assert isinstance(a, numbers.Real) == True\n",
    "assert isinstance(a, numbers.Integral) == False"
   ]
  },
  {
   "cell_type": "code",
   "execution_count": 21,
   "metadata": {},
   "outputs": [],
   "source": [
    "# check that the value is correct:\n",
    "assert_almost_equal( midpoint(200, 0., 1.) , 0.333681854288, 5)\n"
   ]
  },
  {
   "cell_type": "code",
   "execution_count": 22,
   "metadata": {
    "deletable": false,
    "editable": false,
    "nbgrader": {
     "checksum": "332e52c003a72ca95d44e43609fde789",
     "grade": true,
     "grade_id": "Q2b",
     "locked": true,
     "points": 1,
     "schema_version": 1,
     "solution": false
    }
   },
   "outputs": [],
   "source": [
    "# check that the correct number of steps are used\n"
   ]
  },
  {
   "cell_type": "markdown",
   "metadata": {
    "deletable": false,
    "editable": false,
    "nbgrader": {
     "checksum": "1da5e681e1e76a597d57070bb6885ee9",
     "grade": false,
     "grade_id": "cell-c9094e8bdddaed00",
     "locked": true,
     "schema_version": 1,
     "solution": false
    }
   },
   "source": [
    "Use your `midpoint` function to calculate the integral of `f(x)` over the interval $ x = [ -0.5, 2\\pi]$ for values of `n = [10, 20, 100, 200, 400, 800, 1600]` Store the values in a list called `integrals`."
   ]
  },
  {
   "cell_type": "code",
   "execution_count": 23,
   "metadata": {
    "deletable": false,
    "nbgrader": {
     "checksum": "77a1877b3921753e9f22595ddb109b45",
     "grade": false,
     "grade_id": "cell-7d0a58ed6f9a6d94",
     "locked": false,
     "schema_version": 1,
     "solution": true
    }
   },
   "outputs": [],
   "source": [
    "n = [10, 20, 100, 200, 400, 800, 1600]\n",
    "integrals = []\n",
    "\n",
    "for i in range(len(n)):\n",
    "    val = midpoint(n[i],-0.5,math.pi)\n",
    "    integrals.append(val)\n"
   ]
  },
  {
   "cell_type": "code",
   "execution_count": 24,
   "metadata": {
    "deletable": false,
    "editable": false,
    "nbgrader": {
     "checksum": "c8a25b50577d83cfc2852975f34c2564",
     "grade": true,
     "grade_id": "Q2c",
     "locked": true,
     "points": 1,
     "schema_version": 1,
     "solution": false
    }
   },
   "outputs": [],
   "source": [
    "assert_almost_equal(np.array(integrals[2:]), np.array([0.8216272417353141, 0.8215591715038066, 0.8215421543892597, 0.8215379001383317, 0.8215368365773316]),5)"
   ]
  },
  {
   "cell_type": "markdown",
   "metadata": {
    "deletable": false,
    "editable": false,
    "nbgrader": {
     "checksum": "ceee3176e4167dab50c8ba7a97ae4b64",
     "grade": false,
     "grade_id": "cell-08ca23c391d25e85",
     "locked": true,
     "schema_version": 1,
     "solution": false
    }
   },
   "source": [
    "The indefinite integral of $f(x)$ is $F(x) = -\\frac{2}{5}\\exp(-x/2) (\\sin(x) +2\\cos(x)) + \\mbox{const.}$\n",
    "\n",
    "Make a plot of your midpoint integrals vs n, using red circles for the points. On the same plot, indicate the exact value of the integral with a horizontal dashed line. Don't forget axes labels and a title. Use a legend box to indicate the exact value and the midpoint calculations. Add a text label to the plot, just above the dashed line, near the right edge that gives the exact answer, to 6 decimal places.\n"
   ]
  },
  {
   "cell_type": "code",
   "execution_count": 25,
   "metadata": {
    "deletable": false,
    "nbgrader": {
     "checksum": "66ed934099648a2a62ac6fd40d455562",
     "grade": true,
     "grade_id": "cell-855a687fd623b451",
     "locked": false,
     "points": 2,
     "schema_version": 1,
     "solution": true
    }
   },
   "outputs": [
    {
     "data": {
      "text/plain": [
       "<Figure size 640x480 with 1 Axes>"
      ]
     },
     "metadata": {},
     "output_type": "display_data"
    }
   ],
   "source": [
    "import matplotlib.pyplot as plt\n",
    "\n",
    "def inter(x):\n",
    "    return -0.4*math.exp(-x/2)*(math.sin(x)+2*math.cos(x))\n",
    "\n",
    "rval = inter(math.pi)-inter(-0.5)\n",
    "plt.plot(n,integrals, 'ro', label = 'Midpoint Values')\n",
    "plt.axhline(y=rval,ls = '--', label  = 'Exact Value')\n",
    "plt.xlabel('n value')\n",
    "plt.ylabel('Integral values')\n",
    "plt.title('Midpoint estimates vs Indefinite integral')\n",
    "plt.text(1600-200,rval+0.0004,'{0:.6f}'.format(rval))\n",
    "plt.legend()\n",
    "plt.show()"
   ]
  },
  {
   "cell_type": "markdown",
   "metadata": {
    "deletable": false,
    "editable": false,
    "nbgrader": {
     "checksum": "3b4db128a9bebcea775a249a3a8c254b",
     "grade": false,
     "grade_id": "cell-4465019d8fed320e",
     "locked": true,
     "schema_version": 1,
     "solution": false
    }
   },
   "source": [
    "Finally, write a function `find1(n, integrals, exact)` that will take three arguments: a list of n values, a list of integrals calculated as above, and an exact value. The function should find the lowest n value in the list for which the corresponding integral is within 0.1%. It should return this lowest value of n. If none of the integral values are within 0.1% of the exact value, the function should return 0. The function may assume that the arguments are legal, and that the lists of n and integral values have then same number of elements, but it should not assume that the n values have any particular order."
   ]
  },
  {
   "cell_type": "code",
   "execution_count": 26,
   "metadata": {
    "deletable": false,
    "nbgrader": {
     "checksum": "f5fa1f8c6ea19eef89d03e60b02b8e97",
     "grade": false,
     "grade_id": "cell-d00172b787982e1c",
     "locked": false,
     "schema_version": 1,
     "solution": true
    }
   },
   "outputs": [],
   "source": [
    "def find1(n, integrals, exact):\n",
    "    best_n = -1\n",
    "    \n",
    "    for i in range(len(integrals)):       \n",
    "        if(abs(integrals[i]-exact)/exact < 0.001):\n",
    "          \n",
    "            if(best_n == -1):\n",
    "                best_n = n[i]\n",
    "            else:                \n",
    "                if(n[i]<best_n):\n",
    "                    best_n = n[i]\n",
    "                                       \n",
    "    return best_n\n"
   ]
  },
  {
   "cell_type": "code",
   "execution_count": 27,
   "metadata": {
    "deletable": false,
    "editable": false,
    "nbgrader": {
     "checksum": "dc4f76a4ccd4ad084af689dbbe8216fa",
     "grade": true,
     "grade_id": "cell-a578a511e6d3b604",
     "locked": true,
     "points": 1,
     "schema_version": 1,
     "solution": false
    }
   },
   "outputs": [],
   "source": [
    "n = [10, 20, 100, 200, 400, 800, 1600]\n",
    "integrals = [0.8306373587315234, 0.8238069863597768, 0.8216272417353141, 0.8215591715038066, 0.8215421543892597, 0.8215379001383317, 0.8215368365773316]\n",
    "ans = 0.8215364820571522\n",
    "assert find1(n, integrals, ans ) == 100\n"
   ]
  },
  {
   "cell_type": "code",
   "execution_count": 28,
   "metadata": {
    "deletable": false,
    "editable": false,
    "nbgrader": {
     "checksum": "41b3268562294251a264c671cbade1b5",
     "grade": true,
     "grade_id": "cell-774440ce5efed952",
     "locked": true,
     "points": 1,
     "schema_version": 1,
     "solution": false
    }
   },
   "outputs": [],
   "source": [
    "# check trickier cases"
   ]
  }
 ],
 "metadata": {
  "kernelspec": {
   "display_name": "Python 3",
   "language": "python",
   "name": "python3"
  },
  "language_info": {
   "codemirror_mode": {
    "name": "ipython",
    "version": 3
   },
   "file_extension": ".py",
   "mimetype": "text/x-python",
   "name": "python",
   "nbconvert_exporter": "python",
   "pygments_lexer": "ipython3",
   "version": "3.7.3"
  }
 },
 "nbformat": 4,
 "nbformat_minor": 2
}
