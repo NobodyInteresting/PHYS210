{
 "cells": [
  {
   "cell_type": "markdown",
   "metadata": {
    "collapsed": true,
    "deletable": false,
    "editable": false,
    "nbgrader": {
     "checksum": "a0e5a192854b9d0b6ddcb6a433a2cd11",
     "grade": false,
     "grade_id": "cell-1d46bd574f1f3b7e",
     "locked": true,
     "schema_version": 1,
     "solution": false
    }
   },
   "source": [
    "# PHYS 210, Exercise 3\n",
    "Wed Sept. 11, Due Mon Sept 16, 9 am\n",
    "Enter the names, and describe the contributions of anybody besides yourself who contributed/collaborated. "
   ]
  },
  {
   "cell_type": "markdown",
   "metadata": {
    "collapsed": true,
    "deletable": false,
    "nbgrader": {
     "checksum": "72f0e420cf2537010c1899775f9e127d",
     "grade": true,
     "grade_id": "cell-60a818cd6d7e4ea6",
     "locked": false,
     "points": 0,
     "schema_version": 1,
     "solution": true
    }
   },
   "source": [
    "Vihara Jayaweera. Contributions by Xicheng Liu"
   ]
  },
  {
   "cell_type": "markdown",
   "metadata": {
    "deletable": false,
    "editable": false,
    "nbgrader": {
     "checksum": "25c0028e34577e29ec32c4ffbd2a0d37",
     "grade": false,
     "grade_id": "cell-f93ccfc0194c2a41",
     "locked": true,
     "schema_version": 1,
     "solution": false
    }
   },
   "source": [
    "# Array Creation 6 points\n",
    "In the cell below:\n",
    "1. Create a 1d array, in the variable ar1, with elements 1, 5, 7, 12, 42\n",
    "2. Create a 1d array, ar2, with 3 elements, where each is a single precision floating point number (32 bits/4 bytes) \n",
    "with values 1, e, and $\\pi$\n",
    "3. Create an array, ar3, of integer elements having values from 0 to 500 (501 elements in total).\n",
    "4. Create an array containing 50 (float) zeros, called ar4\n",
    "5. Create a 1d array, called ar5 with 10 elements that are filled with random numbers between 1 and -1. Print out the\n",
    "values with print(ar5)\n"
   ]
  },
  {
   "cell_type": "code",
   "execution_count": 1,
   "metadata": {
    "deletable": false,
    "nbgrader": {
     "checksum": "1e92c5f4b24444bee538e0d58c9a1557",
     "grade": true,
     "grade_id": "cell-8941e1e362e4b216",
     "locked": false,
     "points": 1,
     "schema_version": 1,
     "solution": true
    }
   },
   "outputs": [
    {
     "name": "stdout",
     "output_type": "stream",
     "text": [
      "[-0.43961236 -0.28225582 -0.7667525  -0.83996987  0.64580387 -0.68209721\n",
      "  0.76239184 -0.54345359  0.99852211  0.77170846]\n"
     ]
    }
   ],
   "source": [
    "#YOUR CODE HERE\n",
    "import numpy as np\n",
    "\n",
    "\n",
    "ar1 = np.array([1,5,7,12,42])\n",
    "ar2 = np.array([1,np.e, np.pi],dtype = np.float32)\n",
    "ar3 = np.array([range(501)])\n",
    "ar4 = np.zeros([50], dtype = np.float)\n",
    "ar5 = 2*np.random.random(10) - 1\n",
    "\n",
    "print(ar5)"
   ]
  },
  {
   "cell_type": "code",
   "execution_count": 2,
   "metadata": {
    "deletable": false,
    "editable": false,
    "nbgrader": {
     "checksum": "31736555c85b80e84db5bc45ec5b7d3e",
     "grade": true,
     "grade_id": "cell-a0a1e450f09cc7d6",
     "locked": true,
     "points": 1,
     "schema_version": 1,
     "solution": false
    }
   },
   "outputs": [],
   "source": [
    "#Test ar1"
   ]
  },
  {
   "cell_type": "code",
   "execution_count": 3,
   "metadata": {
    "deletable": false,
    "editable": false,
    "nbgrader": {
     "checksum": "79f45b4fc6dde6c52ba7bf6976409ed6",
     "grade": true,
     "grade_id": "cell-b840e7d113db430f",
     "locked": true,
     "points": 1,
     "schema_version": 1,
     "solution": false
    }
   },
   "outputs": [],
   "source": [
    "#Test ar2"
   ]
  },
  {
   "cell_type": "code",
   "execution_count": 4,
   "metadata": {
    "deletable": false,
    "editable": false,
    "nbgrader": {
     "checksum": "97f23338246583bd5804cd21bba8c1b3",
     "grade": true,
     "grade_id": "cell-8193c03a0ad38c95",
     "locked": true,
     "points": 1,
     "schema_version": 1,
     "solution": false
    }
   },
   "outputs": [],
   "source": [
    "#Test ar3"
   ]
  },
  {
   "cell_type": "code",
   "execution_count": 5,
   "metadata": {
    "deletable": false,
    "editable": false,
    "nbgrader": {
     "checksum": "cf30fa67722b874490c17822eab68eac",
     "grade": true,
     "grade_id": "cell-7f6f1315f204cff6",
     "locked": true,
     "points": 1,
     "schema_version": 1,
     "solution": false
    }
   },
   "outputs": [],
   "source": [
    "#Test ar4"
   ]
  },
  {
   "cell_type": "markdown",
   "metadata": {
    "deletable": false,
    "editable": false,
    "nbgrader": {
     "checksum": "b6e4fa4e0aa5e0df91718df1bf899d5d",
     "grade": false,
     "grade_id": "cell-a39cd8ec48f07cc6",
     "locked": true,
     "schema_version": 1,
     "solution": false
    }
   },
   "source": [
    "# Operations on arrays, 6 points\n",
    "1. Create an array, arr with elements $x = 1, ... 10$.\n",
    "2. Create an array, arr_sq with values that are the squares of those in arr\n",
    "3. Set arr_sqrt to be an array whose values are the square roots of the values in arr.\n",
    "4. Create an array, arr_vols, to have values that the volumes of spheres with radii $r = 1, 2, 3, ... 10$.\n",
    "5. Create a 1d array, arr_pi with 20 values, are integer multiples of $\\pi/20$, starting with 0 (ie $0, \\pi/20, 2\\pi/20, 3\\pi/20, ...)$\n",
    "6. Calculate the sines of these values in a new array, arr_sin."
   ]
  },
  {
   "cell_type": "code",
   "execution_count": 6,
   "metadata": {
    "deletable": false,
    "nbgrader": {
     "checksum": "7002f59fce627f46859a6126edb5367f",
     "grade": false,
     "grade_id": "cell-df001941db2a25a0",
     "locked": false,
     "schema_version": 1,
     "solution": true
    }
   },
   "outputs": [],
   "source": [
    "#YOUR CODE HERE\n",
    "\n",
    "arr = np.array(range(1,11))\n",
    "arr_sq = np.array(np.multiply(arr,arr))\n",
    "arr_sqrt = np.array(np.sqrt(arr))\n",
    "arr_vols = np.array(np.multiply(arr_sq,(4/3)*arr*np.pi))\n",
    "arr_pi = (np.pi/20)*np.array(range(20))\n",
    "arr_sin = np.sin(arr_pi)\n"
   ]
  },
  {
   "cell_type": "code",
   "execution_count": 7,
   "metadata": {
    "deletable": false,
    "editable": false,
    "nbgrader": {
     "checksum": "c337669c8c93e84ea516eefb05a1e152",
     "grade": true,
     "grade_id": "cell-2293b051a59ac414",
     "locked": true,
     "points": 1,
     "schema_version": 1,
     "solution": false
    }
   },
   "outputs": [],
   "source": [
    "#Test arr"
   ]
  },
  {
   "cell_type": "code",
   "execution_count": 8,
   "metadata": {
    "deletable": false,
    "editable": false,
    "nbgrader": {
     "checksum": "dee098be483f681155d0374ccce47586",
     "grade": true,
     "grade_id": "cell-6c086460692d3676",
     "locked": true,
     "points": 1,
     "schema_version": 1,
     "solution": false
    }
   },
   "outputs": [],
   "source": [
    "#Test arr_sq"
   ]
  },
  {
   "cell_type": "code",
   "execution_count": 9,
   "metadata": {
    "deletable": false,
    "editable": false,
    "nbgrader": {
     "checksum": "d6ca7abf7e4549e8b0f0c0a4681517db",
     "grade": true,
     "grade_id": "cell-260e1571c16e3d28",
     "locked": true,
     "points": 1,
     "schema_version": 1,
     "solution": false
    }
   },
   "outputs": [],
   "source": [
    "#Test arr_sqrt"
   ]
  },
  {
   "cell_type": "code",
   "execution_count": 10,
   "metadata": {
    "deletable": false,
    "editable": false,
    "nbgrader": {
     "checksum": "b360b8d55455ffaf05ae43186fa7d1fd",
     "grade": true,
     "grade_id": "cell-332433350c4c9903",
     "locked": true,
     "points": 1,
     "schema_version": 1,
     "solution": false
    }
   },
   "outputs": [],
   "source": [
    "#Test arr_vols"
   ]
  },
  {
   "cell_type": "code",
   "execution_count": 11,
   "metadata": {
    "deletable": false,
    "editable": false,
    "nbgrader": {
     "checksum": "8525043dd8c1e047c758c04523129e05",
     "grade": true,
     "grade_id": "cell-e33ec88ab112c8a2",
     "locked": true,
     "points": 1,
     "schema_version": 1,
     "solution": false
    }
   },
   "outputs": [],
   "source": [
    "#Test arr_pi"
   ]
  },
  {
   "cell_type": "code",
   "execution_count": 12,
   "metadata": {
    "deletable": false,
    "editable": false,
    "nbgrader": {
     "checksum": "62d01bc3d2e0e01aa7a50f7b5328ccbe",
     "grade": true,
     "grade_id": "cell-606122eddabd07b5",
     "locked": true,
     "points": 1,
     "schema_version": 1,
     "solution": false
    }
   },
   "outputs": [],
   "source": [
    "#Test arr_sin"
   ]
  },
  {
   "cell_type": "markdown",
   "metadata": {
    "deletable": false,
    "editable": false,
    "nbgrader": {
     "checksum": "05a1a080678ad48990fff48c24a4683f",
     "grade": false,
     "grade_id": "cell-e3c2923bc258eef1",
     "locked": true,
     "schema_version": 1,
     "solution": false
    }
   },
   "source": [
    "# Statistics, 8 points\n",
    "Create a 1d array, called `my_data`, of size 100, with numbers drawn uniformly from the interval [0, 1), using `numpy.random.random`. This will be your \"data\" for this question, and you will calculate some statistics of your newly created data.\n",
    "\n",
    "The mean of a population, represented by a sample $x_1, x_2, ..., x_N$ can be estimated as:\n",
    "\n",
    "$\\hat{\\bar{x}} = \\frac{1}{N} \\sum_{i=1}^{N} x_i $.\n",
    "\n",
    "The (unbiased) estimator for the sample variance and standard deviation are given by:\n",
    "\n",
    "$\\widehat{Var[x]} = \\frac{1}{N-1} \\sum_{i=1}^N (x_i - \\bar{x})^2$\n",
    "\n",
    "$\\widehat{Std[x]} = \\sqrt{\\widehat{Var[x]}} = \\sqrt{\\frac{1}{N-1}\\sum_{i=1}^N (x_i-\\bar{x})^2}$\n",
    "\n",
    "1. Calculate the mean of your data using the equation given above. __Do not__ use `numpy.mean`, calculate it yourself. Assign your value to the variable `my_mean`.\n",
    "2. Calculate the variance and standard deviation using the equations above, __without__ using statistical functions from `numpy`, `scipy`, or the like. You may use `numpy.sum` and `numpy.sqrt`. Assign these to variables named `mrvar` and `mystd`\n",
    "3. Calculate the variance and standard deviation again, but this time use `numpy.mean,` `numpy.var,` and `numpy.std` and place the results into `np_mean`, `np_var`, and `np_std`.\n",
    "\n",
    "\n"
   ]
  },
  {
   "cell_type": "code",
   "execution_count": 13,
   "metadata": {
    "deletable": false,
    "nbgrader": {
     "checksum": "a0cb7696b28d25ee93fdc62ddf35c346",
     "grade": false,
     "grade_id": "cell-7c0b320bf1ee50a4",
     "locked": false,
     "schema_version": 1,
     "solution": true
    }
   },
   "outputs": [],
   "source": [
    "#YOUR CODE HERE\n",
    "import numpy as np\n",
    "\n",
    "my_data = np.random.random(100)\n",
    "\n",
    "my_mean = (1/my_data.size)*my_data.sum()\n",
    "mrvar = (1/(my_data.size-1))*((my_data-my_mean)**2).sum()\n",
    "mystd = np.sqrt(mrvar)\n",
    "\n",
    "np_mean = my_data.mean()\n",
    "np_var = my_data.var()\n",
    "np_std = my_data.std()\n",
    "\n"
   ]
  },
  {
   "cell_type": "code",
   "execution_count": 14,
   "metadata": {
    "deletable": false,
    "editable": false,
    "nbgrader": {
     "checksum": "cd00b31e50f4927e01b08b6a9a8bfeef",
     "grade": true,
     "grade_id": "cell-859011a6b6221e43",
     "locked": true,
     "points": 1,
     "schema_version": 1,
     "solution": false
    }
   },
   "outputs": [],
   "source": [
    "# Test my_data"
   ]
  },
  {
   "cell_type": "code",
   "execution_count": 15,
   "metadata": {
    "deletable": false,
    "editable": false,
    "nbgrader": {
     "checksum": "98612fd384fc4b0cebf5d3789dba3760",
     "grade": true,
     "grade_id": "cell-0932f42d5b02631e",
     "locked": true,
     "points": 1,
     "schema_version": 1,
     "solution": false
    }
   },
   "outputs": [],
   "source": [
    "# Test my_mean"
   ]
  },
  {
   "cell_type": "code",
   "execution_count": 16,
   "metadata": {
    "deletable": false,
    "editable": false,
    "nbgrader": {
     "checksum": "e32360f0f8c53ae8a785749529d4ccea",
     "grade": true,
     "grade_id": "cell-a4406d09817ee08f",
     "locked": true,
     "points": 1,
     "schema_version": 1,
     "solution": false
    }
   },
   "outputs": [],
   "source": [
    "# Test my_var"
   ]
  },
  {
   "cell_type": "code",
   "execution_count": 17,
   "metadata": {
    "deletable": false,
    "editable": false,
    "nbgrader": {
     "checksum": "41b263d332c5614eb3fafa4a6652304b",
     "grade": true,
     "grade_id": "cell-9b5fc295e5153278",
     "locked": true,
     "points": 1,
     "schema_version": 1,
     "solution": false
    }
   },
   "outputs": [],
   "source": [
    "# Test my_std"
   ]
  },
  {
   "cell_type": "code",
   "execution_count": 18,
   "metadata": {
    "deletable": false,
    "editable": false,
    "nbgrader": {
     "checksum": "18af47ff0639c204d5b9857a0d8a2bf5",
     "grade": true,
     "grade_id": "cell-55bda448deba4da2",
     "locked": true,
     "points": 1,
     "schema_version": 1,
     "solution": false
    }
   },
   "outputs": [],
   "source": [
    "# Test np_mean"
   ]
  },
  {
   "cell_type": "code",
   "execution_count": 19,
   "metadata": {
    "deletable": false,
    "editable": false,
    "nbgrader": {
     "checksum": "94d2762d5166c5c7ff300b93707f114e",
     "grade": true,
     "grade_id": "cell-6aafb94f93d25ecd",
     "locked": true,
     "points": 1,
     "schema_version": 1,
     "solution": false
    }
   },
   "outputs": [],
   "source": [
    "# Test np_var"
   ]
  },
  {
   "cell_type": "code",
   "execution_count": 20,
   "metadata": {
    "deletable": false,
    "editable": false,
    "nbgrader": {
     "checksum": "8bedfef93b5a4466a18f13c00a48dff2",
     "grade": true,
     "grade_id": "cell-47adfb548733590b",
     "locked": true,
     "points": 1,
     "schema_version": 1,
     "solution": false
    }
   },
   "outputs": [],
   "source": [
    "# Test np_mean"
   ]
  },
  {
   "cell_type": "markdown",
   "metadata": {
    "deletable": false,
    "editable": false,
    "nbgrader": {
     "checksum": "89878965d2cee36356e32415fc0ffad3",
     "grade": false,
     "grade_id": "cell-f5b8b7fdfaf538d2",
     "locked": true,
     "schema_version": 1,
     "solution": false
    }
   },
   "source": [
    "Do the values you calculated for the mean, variance and standard deviation with your own calculations match those using `numpy`'s functions? Describe which do, and which don't, and if not, why not."
   ]
  },
  {
   "cell_type": "markdown",
   "metadata": {
    "deletable": false,
    "nbgrader": {
     "checksum": "51eed28c1808771fe484b97cc65a3327",
     "grade": true,
     "grade_id": "cell-b2d30993c35fe113",
     "locked": false,
     "points": 1,
     "schema_version": 1,
     "solution": true
    }
   },
   "source": [
    "No, `mrvar` and `np_var` have slightly different values. Similarily `mystd` and `np_std` also have slightly different values. This difference is due to numpy calculating variance using $N-1 = 100$ for $\\frac{1}{N-1}$ in the variance equation while I used $N-1 = 99$. Since standard deviation is the square root of variance, my standad deviation will vary from numpy's standard deviation due to our varying fractions."
   ]
  },
  {
   "cell_type": "markdown",
   "metadata": {
    "deletable": false,
    "editable": false,
    "nbgrader": {
     "checksum": "f0efefc7aeb09f32345633a950209029",
     "grade": false,
     "grade_id": "cell-4f5be67785f1cdda",
     "locked": true,
     "schema_version": 1,
     "solution": false
    }
   },
   "source": [
    "# Lists vs Arrays, 3pts\n",
    "Investigate some difference between lists and arrays. Using the variables below, `a_list`, and `a_array`, find out what happens if you multiply each of them by a constant (say 3). Describe in words the difference in behaviour.\n",
    "\n",
    "How about `a_list + 3` vs `a_array + 3`, or `a_list * a_list` vs `a_array * a_array` ? Again describe in words the difference in behaviour."
   ]
  },
  {
   "cell_type": "code",
   "execution_count": 21,
   "metadata": {},
   "outputs": [],
   "source": [
    "a_list = [1, 2, 3, 4]\n",
    "a_array = np.array([1, 2, 3, 4])\n"
   ]
  },
  {
   "cell_type": "markdown",
   "metadata": {
    "deletable": false,
    "nbgrader": {
     "checksum": "771c8d1653d55c8e57d973e28c7a78fd",
     "grade": true,
     "grade_id": "cell-e0bf33f802fa6894",
     "locked": false,
     "points": 3,
     "schema_version": 1,
     "solution": true
    }
   },
   "source": [
    "When multiplying a list by a number n, the list grows to have n multiples of the initial list. When multiplying an array by a number n, each element in the array is multiplied by n.\n",
    "\n",
    "\n",
    "You can't run a_list + 3 because python will throw an error.However, a_array + 3 will add 3 to every element in the array\n",
    "\n",
    "You can't run a_list * a_list because it produces an error message. However, a_array * a_array will, \n",
    "consequently, square each element in the array."
   ]
  },
  {
   "cell_type": "markdown",
   "metadata": {
    "deletable": false,
    "editable": false,
    "nbgrader": {
     "checksum": "ff4ec7996bf8cca54edae29d568bb633",
     "grade": false,
     "grade_id": "cell-cc46b4cb7c444181",
     "locked": true,
     "schema_version": 1,
     "solution": false
    }
   },
   "source": [
    "Don't forget to:\n",
    "1. enter the names and descriptions of contributions of others to your work in the cell at the top.\n",
    "2. validate your responses with the Validate button, or by restarting the kernel and running all cells\n",
    "3. 'Submit' when you are finished."
   ]
  }
 ],
 "metadata": {
  "kernelspec": {
   "display_name": "Python 3",
   "language": "python",
   "name": "python3"
  },
  "language_info": {
   "codemirror_mode": {
    "name": "ipython",
    "version": 3
   },
   "file_extension": ".py",
   "mimetype": "text/x-python",
   "name": "python",
   "nbconvert_exporter": "python",
   "pygments_lexer": "ipython3",
   "version": "3.6.8"
  }
 },
 "nbformat": 4,
 "nbformat_minor": 2
}
