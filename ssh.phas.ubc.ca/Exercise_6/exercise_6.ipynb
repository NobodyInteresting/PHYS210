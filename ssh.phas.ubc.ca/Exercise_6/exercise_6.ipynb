{
 "cells": [
  {
   "cell_type": "markdown",
   "metadata": {
    "deletable": false,
    "editable": false,
    "nbgrader": {
     "checksum": "53f34e71145e757419496531227b078b",
     "grade": false,
     "grade_id": "cell-a345c52d4fd3dd4e",
     "locked": true,
     "schema_version": 1,
     "solution": false
    }
   },
   "source": [
    "# Exercise 6\n",
    "Sept 23, 2019. Due Sept 25, 9am.\n",
    "\n",
    "Enter the names, and describe the contributions of anybody besides yourself who contributed/collaborated. "
   ]
  },
  {
   "cell_type": "markdown",
   "metadata": {
    "deletable": false,
    "nbgrader": {
     "checksum": "e3ab1660460725ada4379d6cb8740311",
     "grade": true,
     "grade_id": "cell-c7d2484c60dbe4b5",
     "locked": false,
     "points": 0,
     "schema_version": 1,
     "solution": true
    }
   },
   "source": [
    "Vihara Jayaweera"
   ]
  },
  {
   "cell_type": "markdown",
   "metadata": {
    "deletable": false,
    "editable": false,
    "nbgrader": {
     "checksum": "b6e28b2cb017c76a91c279f04da7d01b",
     "grade": false,
     "grade_id": "cell-456d9644b90b680b",
     "locked": true,
     "schema_version": 1,
     "solution": false
    }
   },
   "source": [
    "## Functions III\n",
    "Using the `time()` function in the `time` module, write a function called `parse_time()` that returns the following integer variables: `days, hours, minutes, seconds`. \n",
    "\n",
    "The `time()` function gives you the number of seconds since 00:00 (UTC), January 1, 1970.\n",
    "The variables `days, hours, minutes, seconds` should add up (when converted to seconds) to the value that was returned by `time()`, so that `hours:minutes:seconds` is the current time and `days` is the number of days since January 1, 1970.\n",
    "\n",
    "The `time()` function will return UTC time. Do not worry about converting timezones - give your answers in UTC time.\n",
    "\n"
   ]
  },
  {
   "cell_type": "code",
   "execution_count": 25,
   "metadata": {
    "deletable": false,
    "nbgrader": {
     "checksum": "9be8b0ae306bb4c6cea88749d5e4058f",
     "grade": false,
     "grade_id": "cell-099cf89a298dbae0",
     "locked": false,
     "schema_version": 1,
     "solution": true
    }
   },
   "outputs": [
    {
     "name": "stdout",
     "output_type": "stream",
     "text": [
      "(18162, 21, 53, 40)\n"
     ]
    }
   ],
   "source": [
    "import time\n",
    "mins = 60\n",
    "hour = 3600\n",
    "day = 86400\n",
    "\n",
    "def parse_time():\n",
    "    t_secs = time.time()\n",
    "    days = (int)(t_secs//day)\n",
    "    hours = (int)((t_secs % day)//hour)\n",
    "    minutes = (int)(((t_secs%day)%hour)//mins)\n",
    "    seconds = (int)(((t_secs%day)%hour)%mins)   \n",
    "    return days, hours, minutes, seconds"
   ]
  },
  {
   "cell_type": "code",
   "execution_count": 2,
   "metadata": {
    "deletable": false,
    "editable": false,
    "nbgrader": {
     "checksum": "8310366f08452119722052a9f80b41ef",
     "grade": true,
     "grade_id": "cell-a846a491a9b145c3",
     "locked": true,
     "points": 1,
     "schema_version": 1,
     "solution": false
    }
   },
   "outputs": [],
   "source": [
    "# test parse_time()"
   ]
  },
  {
   "cell_type": "code",
   "execution_count": 3,
   "metadata": {
    "deletable": false,
    "editable": false,
    "nbgrader": {
     "checksum": "4fed2a26323fc5f8a17e18f777bbe070",
     "grade": true,
     "grade_id": "cell-d9b1b65a67d1c340",
     "locked": true,
     "points": 0.5,
     "schema_version": 1,
     "solution": false
    }
   },
   "outputs": [],
   "source": [
    "# test parse_time()"
   ]
  },
  {
   "cell_type": "code",
   "execution_count": null,
   "metadata": {
    "deletable": false,
    "editable": false,
    "nbgrader": {
     "checksum": "b35777a947faabc44b297d1d7fc04f69",
     "grade": true,
     "grade_id": "cell-72c4f9edce1eb1a6",
     "locked": true,
     "points": 0.5,
     "schema_version": 1,
     "solution": false
    }
   },
   "outputs": [],
   "source": []
  },
  {
   "cell_type": "code",
   "execution_count": 4,
   "metadata": {
    "deletable": false,
    "editable": false,
    "nbgrader": {
     "checksum": "f4fd806849cb11abffa7d586cd590b32",
     "grade": true,
     "grade_id": "cell-12ef4a9651883a43",
     "locked": true,
     "points": 1,
     "schema_version": 1,
     "solution": false
    }
   },
   "outputs": [],
   "source": [
    "# test parse_time()"
   ]
  },
  {
   "cell_type": "code",
   "execution_count": 5,
   "metadata": {
    "deletable": false,
    "editable": false,
    "nbgrader": {
     "checksum": "730c28df6b4c4db4170a8dce9d9dd32b",
     "grade": true,
     "grade_id": "cell-1056713df089dc7e",
     "locked": true,
     "points": 1,
     "schema_version": 1,
     "solution": false
    }
   },
   "outputs": [],
   "source": [
    "# test parse_time()"
   ]
  },
  {
   "cell_type": "markdown",
   "metadata": {
    "deletable": false,
    "editable": false,
    "nbgrader": {
     "checksum": "11f1adcfba6fbf5492cd60808ded4be6",
     "grade": false,
     "grade_id": "cell-5280f5762c73e617",
     "locked": true,
     "schema_version": 1,
     "solution": false
    }
   },
   "source": [
    "## Functions IV\n",
    "A number, a, is a power of b if it is divisible by b and a/b is a power of b. Write a *recursive* function called `is_power(a, b)` that takes parameters `a` and `b` (both integers) and returns True if `a` is a power of `b` and False otherwise."
   ]
  },
  {
   "cell_type": "code",
   "execution_count": 22,
   "metadata": {
    "deletable": false,
    "nbgrader": {
     "checksum": "c79cfe24f23147025875feb31532fcbe",
     "grade": false,
     "grade_id": "cell-ec6b922c40e94700",
     "locked": false,
     "schema_version": 1,
     "solution": true
    }
   },
   "outputs": [
    {
     "data": {
      "text/plain": [
       "False"
      ]
     },
     "execution_count": 22,
     "metadata": {},
     "output_type": "execute_result"
    }
   ],
   "source": [
    "def is_power(a, b):\n",
    "    if(a == 0 or b == 0 or a%b != 0):\n",
    "        return False\n",
    "    elif(a//b == 1):\n",
    "        return True\n",
    "    else:\n",
    "        return is_power(a//b,b)"
   ]
  },
  {
   "cell_type": "code",
   "execution_count": 7,
   "metadata": {
    "deletable": false,
    "editable": false,
    "nbgrader": {
     "checksum": "1766bdd816a1e0f01c10cec163d5a26a",
     "grade": true,
     "grade_id": "cell-16f8e984fe2005ae",
     "locked": true,
     "points": 0.5,
     "schema_version": 1,
     "solution": false
    }
   },
   "outputs": [],
   "source": [
    "# test is_power"
   ]
  },
  {
   "cell_type": "code",
   "execution_count": 8,
   "metadata": {
    "deletable": false,
    "editable": false,
    "nbgrader": {
     "checksum": "2afd6c02e4745d1a3799f4b14803f33c",
     "grade": true,
     "grade_id": "cell-68f7d11cf9305e0f",
     "locked": true,
     "points": 0.5,
     "schema_version": 1,
     "solution": false
    }
   },
   "outputs": [],
   "source": [
    "# test is_power"
   ]
  },
  {
   "cell_type": "code",
   "execution_count": null,
   "metadata": {
    "deletable": false,
    "editable": false,
    "nbgrader": {
     "checksum": "25960deb671a7d1220723e840d425906",
     "grade": true,
     "grade_id": "cell-42828ebfd66cc385",
     "locked": true,
     "points": 1,
     "schema_version": 1,
     "solution": false
    }
   },
   "outputs": [],
   "source": []
  },
  {
   "cell_type": "code",
   "execution_count": null,
   "metadata": {
    "deletable": false,
    "editable": false,
    "nbgrader": {
     "checksum": "59796b97815c61becfc6ff25d28791ad",
     "grade": true,
     "grade_id": "cell-96ed3644e6b11c60",
     "locked": true,
     "points": 1,
     "schema_version": 1,
     "solution": false
    }
   },
   "outputs": [],
   "source": []
  },
  {
   "cell_type": "markdown",
   "metadata": {
    "deletable": false,
    "editable": false,
    "nbgrader": {
     "checksum": "0a477b1b7ee86d79b25a04092ccfd056",
     "grade": false,
     "grade_id": "cell-7d630faf92a5f325",
     "locked": true,
     "schema_version": 1,
     "solution": false
    }
   },
   "source": [
    "## Newton's Method I\n",
    "\n",
    "You may have seen Newton's Method [https://en.wikipedia.org/wiki/Newton's_method](https://en.wikipedia.org/wiki/Newton's_method) in a calculus class as a way to find roots of an equation. As a quick review, the method is illustrated in the figure:\n",
    "\n",
    "\n",
    "![](z4-1.png)\n",
    "\n",
    "Basically, you pick a starting point on the x axis, call it $x_0$, (1.25 in the example above) and then evaluate the function. $f(x_0)$. and its derivative, $f'(x_0)$, at that point. Then using the derivative, slide down the tangent line till you get back to the x axis. Call that point $x_1$. Then you can repeat the procedure, getting closer and closer to the root, which is where the equation passes through 0. \n",
    "\n",
    "This method can be expressed as:\n",
    "$$ x_{n+1} = x_n - \\frac{f(x_n)}{f'(x_n)}$$\n",
    "\n",
    "Subject to certain conditions on the function $f(x)$ and its first derivative (that we will not worry about), if $x_0$ is close enough to one of the roots, the sequence will converge to the nearby root. \n",
    "Because the function may have more than one root, which root is arrived at depends on the initial guess, $x_0$.\n",
    "\n",
    "Write a function, `which_root_x4(x0)`, that returns two integers. The first return value describes which root a starting point converges to, for the function $$f(x) = x^4-1$$\n",
    "Its value should be 0 or 1, corresponding to the two roots: -1 and 1 respectively.\n",
    "\n",
    "The second return value should be the number of iterations of the equation required for convergence. Here, we will define converence as when the distance between $x_n$ and one of the roots is less than 0.02. If the starting value is already within 0.02 of a root, the number of iterations required is 0.\n",
    "\n",
    "Your function should never do more than 100 iterations. If it gets to 100 iterations without converging, return a -1 as the index, and 100 as the number of iterations.\n",
    "\n",
    "\n",
    "\n",
    "\n"
   ]
  },
  {
   "cell_type": "code",
   "execution_count": 9,
   "metadata": {
    "deletable": false,
    "nbgrader": {
     "checksum": "633b3d73f783337f9f85570ef72282fd",
     "grade": false,
     "grade_id": "cell-843b296237239e13",
     "locked": false,
     "schema_version": 1,
     "solution": true
    }
   },
   "outputs": [],
   "source": [
    "def which_root_x4(x0):    \n",
    "    iterations = 1\n",
    "    x0_1 = 0\n",
    "    \n",
    "    if(abs(1-abs(x0)) < 0.02):\n",
    "        if(x0 < 0):\n",
    "            return 0, 0\n",
    "        else:\n",
    "            return 1, 0\n",
    "    \n",
    "    while(iterations <101):\n",
    "        fprime = 4*x0**3\n",
    "        f = x0**4 - 1        \n",
    "        x0_1 = x0 - (f/fprime)\n",
    "        if(abs(1-abs(x0_1))<0.02):\n",
    "            if(x0_1<0):\n",
    "                return 0,iterations\n",
    "            else:\n",
    "                return 1,iterations\n",
    "        else:\n",
    "            iterations+=1\n",
    "            x0 = x0_1\n",
    "            \n",
    "        if(iterations > 100):\n",
    "            return -1,100\n"
   ]
  },
  {
   "cell_type": "code",
   "execution_count": 10,
   "metadata": {
    "deletable": false,
    "editable": false,
    "nbgrader": {
     "checksum": "c115bd151f71ee4acb82304a663913f0",
     "grade": true,
     "grade_id": "cell-e966cbc47c4661b3",
     "locked": true,
     "points": 1,
     "schema_version": 1,
     "solution": false
    }
   },
   "outputs": [],
   "source": [
    "# check that function exists and can be called correctly, it returns two integers"
   ]
  },
  {
   "cell_type": "code",
   "execution_count": 11,
   "metadata": {
    "deletable": false,
    "editable": false,
    "nbgrader": {
     "checksum": "8242489d832e729dfd0914f6576ecb52",
     "grade": true,
     "grade_id": "cell-9a96b720506c1215",
     "locked": true,
     "points": 1,
     "schema_version": 1,
     "solution": false
    }
   },
   "outputs": [],
   "source": [
    "# check that the correct root is converged to:"
   ]
  },
  {
   "cell_type": "code",
   "execution_count": 12,
   "metadata": {
    "deletable": false,
    "editable": false,
    "nbgrader": {
     "checksum": "9cdf62097168873ce36751fa89b2e37d",
     "grade": true,
     "grade_id": "cell-8e4b4afbfd0a92fc",
     "locked": true,
     "points": 1,
     "schema_version": 1,
     "solution": false
    }
   },
   "outputs": [],
   "source": [
    "# some trickier tests"
   ]
  },
  {
   "cell_type": "code",
   "execution_count": 13,
   "metadata": {
    "deletable": false,
    "editable": false,
    "nbgrader": {
     "checksum": "209acdad8ae67172a7cdfdc56979f7ff",
     "grade": true,
     "grade_id": "cell-7e64bf4c76dbd21d",
     "locked": true,
     "points": 1,
     "schema_version": 1,
     "solution": false
    }
   },
   "outputs": [],
   "source": [
    "### more trickier tests"
   ]
  },
  {
   "cell_type": "code",
   "execution_count": 14,
   "metadata": {
    "deletable": false,
    "editable": false,
    "nbgrader": {
     "checksum": "e6d2f96fd4d0774d1973d7e7aaf1d6c9",
     "grade": true,
     "grade_id": "cell-1c3bddfcdc4ebc82",
     "locked": true,
     "points": 1,
     "schema_version": 1,
     "solution": false
    }
   },
   "outputs": [],
   "source": [
    "# check numbers of iterations:"
   ]
  },
  {
   "cell_type": "code",
   "execution_count": 15,
   "metadata": {
    "deletable": false,
    "editable": false,
    "nbgrader": {
     "checksum": "13b04342c29aad59fd4b867ded7c7d06",
     "grade": true,
     "grade_id": "cell-eeaf5162a30a7460",
     "locked": true,
     "points": 1,
     "schema_version": 1,
     "solution": false
    }
   },
   "outputs": [],
   "source": [
    "# and check that it stops at 100 iterations"
   ]
  },
  {
   "cell_type": "markdown",
   "metadata": {
    "deletable": false,
    "editable": false,
    "nbgrader": {
     "checksum": "2801125611d18f83d5da40a2847aafeb",
     "grade": false,
     "grade_id": "cell-009ca7ab70d080f6",
     "locked": true,
     "schema_version": 1,
     "solution": false
    }
   },
   "source": [
    "## Newton's method II\n",
    "\n",
    "If we take the same equation ($x^4-1$) as above, but allow complex arguments, $z^4-1$ has four roots in the complex plane: $z = 1, i, -1$ and $-i$, where $i^2 = -1$. Prove this to yourself by substituting each of these four roots into the equation.\n",
    "\n",
    "Perhaps surprisingly, Newton's method will still work with complex arguments, and the equation becomes:\n",
    "$$ z_{n+1} = z_n-\\frac{f(z_n)}{f'(z_n)}$$\n",
    "\n",
    "In the regions that are nearly equidistant to two or more roots, which root is converged to is a very sensitive function of the initial position.\n",
    "\n",
    "Over the next couple of assignments you will learn how to compute which points converge to which roots reasonably efficiently and make graphics such as:\n",
    "\n",
    "![](roots.png)\n",
    "\n",
    "which shows, by colour, which root is converged to. In this plot, the colour darkness indicates how many iterations are required for convergence.\n",
    "\n",
    "Write a new function, `which_root_z4(z0)`, that again returns a pair of integers, the first of which describes which root a starting point (z0) converges to, with values 0, 1, 2, and 3 corresponding to roots: 1, i, -1 and -i. The second return value is again the number of iterations required to converge to within 0.02 of a root. Convergence here means that the distance in the $x$-$y$ plane between $z_n$ and one of the roots is less than 0.02.\n",
    "\n",
    "The behaviour with the maximum number of iterations should be the same as before.\n",
    "\n",
    "Hints:\n",
    "- define an array containing the four roots: roots = np.array([1, 1j, -1, -1j]). Then use this to calculate the distance between your points and all four roots at the same time.\n",
    "- The absolute value of a complex number (or all values for an array) can be found with numpy.abs. \n",
    "- To find the index of the minimum value of an array, look up `numpy.argmin()`.\n",
    "\n"
   ]
  },
  {
   "cell_type": "code",
   "execution_count": 3,
   "metadata": {
    "deletable": false,
    "nbgrader": {
     "checksum": "43907de60cfbd241d75235501f0f0223",
     "grade": false,
     "grade_id": "cell-fed08e86126b403f",
     "locked": false,
     "schema_version": 1,
     "solution": true
    }
   },
   "outputs": [],
   "source": [
    "import numpy as np\n",
    "def which_root_z4(z0):\n",
    "    roots = np.array([1,1j,-1,-1j])\n",
    "    iterations = 1;\n",
    "    chek_r = abs(roots-z0)\n",
    "    m = np.argmin(chek_r)\n",
    "    \n",
    "    if(chek_r[m]< 0.02):\n",
    "        return m,0\n",
    "    \n",
    "    while(iterations < 101):\n",
    "        fprime = 4*z0**3\n",
    "        f = z0**4 - 1        \n",
    "        z0_1 = z0 - (f/fprime) #guess        \n",
    "        check_r = abs(roots - z0_1) #check root - guess\n",
    "        n = np.argmin(check_r)\n",
    "        \n",
    "        if( abs(check_r[n]) < 0.02 ):\n",
    "            return n, iterations\n",
    "        else:\n",
    "            iterations+=1\n",
    "            z0 = z0_1\n",
    "        \n",
    "        if(iterations > 100):\n",
    "            return -1,100\n"
   ]
  },
  {
   "cell_type": "code",
   "execution_count": 17,
   "metadata": {
    "deletable": false,
    "editable": false,
    "nbgrader": {
     "checksum": "d6fd4bb63fed25a8369659ae264e58cb",
     "grade": true,
     "grade_id": "cell-7a57affbe70e6f86",
     "locked": true,
     "points": 1,
     "schema_version": 1,
     "solution": false
    }
   },
   "outputs": [],
   "source": [
    "# check that function exists and can be called correctly, it returns two integers"
   ]
  },
  {
   "cell_type": "code",
   "execution_count": 18,
   "metadata": {
    "deletable": false,
    "editable": false,
    "nbgrader": {
     "checksum": "e49c7ef21ab69cbefe1722b14c32426f",
     "grade": true,
     "grade_id": "cell-6deaa369a2eb613a",
     "locked": true,
     "points": 1,
     "schema_version": 1,
     "solution": false
    }
   },
   "outputs": [],
   "source": [
    "# check that the correct value is converged to:"
   ]
  },
  {
   "cell_type": "code",
   "execution_count": 19,
   "metadata": {
    "deletable": false,
    "editable": false,
    "nbgrader": {
     "checksum": "c113d807eead522bd235c7c3c2a24380",
     "grade": true,
     "grade_id": "cell-912a60e2935a3c56",
     "locked": true,
     "points": 1,
     "schema_version": 1,
     "solution": false
    }
   },
   "outputs": [],
   "source": [
    "# some trickier tests"
   ]
  },
  {
   "cell_type": "code",
   "execution_count": 20,
   "metadata": {
    "deletable": false,
    "editable": false,
    "nbgrader": {
     "checksum": "d92f1a92d0d0b847324f20545c9db939",
     "grade": true,
     "grade_id": "cell-601497696b56a265",
     "locked": true,
     "points": 1,
     "schema_version": 1,
     "solution": false
    }
   },
   "outputs": [],
   "source": [
    "### more trickier tests"
   ]
  },
  {
   "cell_type": "code",
   "execution_count": 21,
   "metadata": {
    "deletable": false,
    "editable": false,
    "nbgrader": {
     "checksum": "21c89353a08963e216b54ffe4909146f",
     "grade": true,
     "grade_id": "cell-525cdac177f87d8e",
     "locked": true,
     "points": 1,
     "schema_version": 1,
     "solution": false
    }
   },
   "outputs": [],
   "source": [
    "# check numbers of iterations"
   ]
  }
 ],
 "metadata": {
  "kernelspec": {
   "display_name": "Python 3",
   "language": "python",
   "name": "python3"
  },
  "language_info": {
   "codemirror_mode": {
    "name": "ipython",
    "version": 3
   },
   "file_extension": ".py",
   "mimetype": "text/x-python",
   "name": "python",
   "nbconvert_exporter": "python",
   "pygments_lexer": "ipython3",
   "version": "3.7.3"
  }
 },
 "nbformat": 4,
 "nbformat_minor": 2
}
