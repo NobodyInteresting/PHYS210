{
 "cells": [
  {
   "cell_type": "markdown",
   "metadata": {
    "deletable": false,
    "editable": false,
    "nbgrader": {
     "checksum": "2a62290293de6b2d0b2268727279de10",
     "grade": false,
     "grade_id": "cell-5d2cd2b82e190c0d",
     "locked": true,
     "schema_version": 1,
     "solution": false
    }
   },
   "source": [
    "## Project 1 - Ordinary differential equations - Projectile motion in 2D\n",
    "\n",
    "Due Monday, Oct 28, 9am.\n",
    "\n",
    "\n",
    "1. Read the Project Marking Rubric Document on Canvas\n",
    "2. See the Project 1 background document on Canvas\n",
    "\n",
    "Consider a projectile of mass $m$ launchd at an angle $\\theta$ to the horizontal from level ground. It reaches the ground some distance $d$ away from the launch site. The equation of motion of the projectile with atmospheric drag (at low enough speeds that no turbulence is created) is: $$ m \\frac{d\\vec{v}}{dt} = m g \\hat(y) -c\\vec{v},$$\n",
    "where $\\vec{v}(t) = (v_x(t), v_y(t))$ is the projectile velocity at time $t$. The constant $c$ characterizes the atmosphereic friction. (As an aside, if the motion of the projectile is fast enough that turbulence is created, the friction term changes to $-bv^2$). We will integrate the equation of motion numerically in this project. However, in this case, an analytic solution is possible. If we call $\\vec{r}(t) = (x(t), y(t))$ the position of the projectile at time $t$, the equation of motion can be integrated to give:\n",
    "$$x(t) =\\frac{v_0v_T}{g}(1-e^{-gt/v_t}) \\cos\\theta $$\n",
    "$$y(t) = \\frac{v_T}{g} (v_T + v_0 \\sin\\theta)(1-e^{-gt/v_t}) - v_T t$$\n",
    "where $v_T = mg/c$ is the terminal velocity, and $v_0$ is the initial speed.\n",
    "\n",
    "Objectives: You will implement a numerical solution of the differential equation with `odeint()` and compare the trajectory you find to the analytic solution above. Use the analytic solution _only at the very end_, to plot along with the numerical solution. The analytic solution should not be used as part of the numerical solution.\n",
    "\n",
    "Use the following parameters and initial conditions:\n",
    "- $c$ = 0.65 kg/s\n",
    "- $g$ = 9.81 m/2$^2$\n",
    "- $m$ = 0.1 kg\n",
    "- $v_0$ = 10 m/s\n",
    "- $\\theta$ = 50$^\\circ$ above the horizonal\n",
    "\n",
    "The questions you need to consider are:\n",
    "- What is the distance $d$ to impact?\n",
    "- What is the maximum height, $h$, reached?\n",
    "- What is the time of flight, $T$?\n",
    "- What is the velocity, $v_I$ at the impact point?\n",
    "\n",
    "Your code should determine answers to these questions from the data returned by `odeint()`, and print them to the screen.\n",
    "Your code should continue to operate well if parameters like $c,$ $m$, $v_0$, and $\\theta$ are changed - it should choose a sensible range of times to integrate over based on the parameters used.\n",
    "\n",
    "Make a plot that shows the trajectory in the $x,y$ plane. The numerical solution should be shown as a series of about 20 points that are evenly spaced in time (so that the distance between them communicates the speed of the projectile) that are not connected by lines. On the same plot, show the analytical solution as a solid line (without points).\n",
    "\n",
    "Note that the grading for the projects will be very, very different from the grading of the exercises. **Read the project marking rubric document before you start.** Feel free to add additional cells below to split your code up if you wish to. "
   ]
  },
  {
   "cell_type": "markdown",
   "metadata": {},
   "source": [
    "Please list the names, and describe the roles of **anyone other than yourself** who contributed to the work shown here.\n"
   ]
  },
  {
   "cell_type": "code",
   "execution_count": 6,
   "metadata": {},
   "outputs": [],
   "source": [
    "%reload_ext pycodestyle_magic"
   ]
  },
  {
   "cell_type": "code",
   "execution_count": 28,
   "metadata": {
    "deletable": false,
    "nbgrader": {
     "checksum": "e2016865a86550364dab3137516581f8",
     "grade": true,
     "grade_id": "cell-project1-main",
     "locked": false,
     "points": 95,
     "schema_version": 1,
     "solution": true
    }
   },
   "outputs": [
    {
     "data": {
      "image/png": "[encoded data removed]",
      "text/plain": [
       "<Figure size 432x288 with 1 Axes>"
      ]
     },
     "metadata": {
      "needs_background": "light"
     },
     "output_type": "display_data"
    },
    {
     "name": "stdout",
     "output_type": "stream",
     "text": [
      "Distance travelled before impact: 0.9858m \n",
      "Maxium height reached: 0.7526m \n",
      "Total time of flight: 0.8852s \n",
      "Velocity at impact point: 1.4803 m/s \n"
     ]
    }
   ],
   "source": [
    "# Script return time of flight,total distance travelled,\n",
    "# maximum height reached, impact velocity of the object, and\n",
    "# graph of its journey\n",
    "from scipy.integrate import odeint\n",
    "import matplotlib.pyplot as plt\n",
    "import numpy as np\n",
    "import math\n",
    "\n",
    "\n",
    "# function returns array of velocity_x, velocity_y,\n",
    "# acceleration_x, and acceleration_y\n",
    "def model(yAF, tF):\n",
    "    dx = yAF[2]  # dx/dt\n",
    "    dy = yAF[3]  # dy/dt\n",
    "    dvx = -c*yAF[2]/m  # dv_x/dt\n",
    "    dvy = (-g) - (c*yAF[3])/m  # dv_y/dt\n",
    "    return np.array([dx, dy, dvx, dvy])\n",
    "\n",
    "\n",
    "#  find where object hits the ground and return trimmed array\n",
    "def SliceM(model):\n",
    "    n = 1\n",
    "    for m in range(model.shape[0]):\n",
    "        # find where y pos is <= 0 (hit the ground)\n",
    "        if(model[m][n] <= 0 and m != 0):\n",
    "            return model[0:m:, ]\n",
    "\n",
    "\n",
    "c = 0.65  # drag\n",
    "g = 9.81  # gravity\n",
    "m = 0.1   # mass\n",
    "v0 = 10  # initial velocity\n",
    "theta = math.radians(50)  # launch angle, level ground is horizontal\n",
    "t0 = 0  # time of launch\n",
    "steps = 20\n",
    "\n",
    "\n",
    "# initial[x,y,v_x,v_y]\n",
    "y0 = np.array([0, 0, v0*np.cos(theta), v0*np.sin(theta)])\n",
    "tmax = (v0/g)*1.5\n",
    "t1 = np.linspace(t0, tmax, steps)\n",
    "M = SliceM(odeint(model, y0, t1))  # [x,y,v_x,v_y] over course of flight\n",
    "t1 = t1[0:M.shape[0]]\n",
    "\n",
    "x = M[:, 0]  # x distance\n",
    "y = M[:, 1]  # y distance\n",
    "\n",
    "impactX = x[len(x)-1]  # distance to impact\n",
    "maxY = y[np.argmax(y)]  # max height\n",
    "timeFlight = t1[len(x)-1]  # Flight time\n",
    "# impact velocity\n",
    "impact_v = np.sqrt((M[M.shape[0]-1][M.shape[1]-1])**2 +\n",
    "                   (M[M.shape[0]-1][M.shape[1]-2])**2)\n",
    "\n",
    "\n",
    "# Analytical values\n",
    "vT = m*g/c  # terminal velocity\n",
    "An_x = (v0*vT/g) * (1 - np.exp(-g*t1/vT))*np.cos(theta)\n",
    "An_y = (vT/g) * (vT + v0*np.sin(theta))*(1 - np.exp(-g*t1/vT)) - vT*t1\n",
    "\n",
    "plt.plot(x, y, 'bo')\n",
    "plt.plot(An_x, An_y, 'g')\n",
    "plt.title(\"X-distance vs Y-distance of flight\")\n",
    "plt.xlabel(\"x-distance (m)\")\n",
    "plt.ylabel(\"y-distance (m)\")\n",
    "plt.show()\n",
    "\n",
    "print(\"Distance travelled before impact: {0:.4f}m \".format(impactX))\n",
    "print(\"Maxium height reached: {0:.4f}m \".format(maxY))\n",
    "print(\"Total time of flight: {0:.4f}s \".format(timeFlight))\n",
    "print(\"Velocity at impact point: {0:.4f} m/s \".format(impact_v))"
   ]
  },
  {
   "cell_type": "markdown",
   "metadata": {
    "deletable": false,
    "nbgrader": {
     "checksum": "4a1d5bba749083e66a009bd3116c451c",
     "grade": true,
     "grade_id": "cell-471debb54c6b4c82",
     "locked": false,
     "points": 0,
     "schema_version": 1,
     "solution": true
    }
   },
   "source": [
    "Please explain here any new functionality you have used and any extensions you have implemented. Extensions may be incorporated with your main code, or may appear separately below.\n",
    "YOUR ANSWER HERE"
   ]
  },
  {
   "cell_type": "code",
   "execution_count": null,
   "metadata": {},
   "outputs": [],
   "source": []
  }
 ],
 "metadata": {
  "kernelspec": {
   "display_name": "Python 3",
   "language": "python",
   "name": "python3"
  },
  "language_info": {
   "codemirror_mode": {
    "name": "ipython",
    "version": 3
   },
   "file_extension": ".py",
   "mimetype": "text/x-python",
   "name": "python",
   "nbconvert_exporter": "python",
   "pygments_lexer": "ipython3",
   "version": "3.7.3"
  }
 },
 "nbformat": 4,
 "nbformat_minor": 2
}
