{
 "cells": [
  {
   "cell_type": "code",
   "execution_count": 2,
   "metadata": {},
   "outputs": [
    {
     "name": "stdout",
     "output_type": "stream",
     "text": [
      "Distance to impact is: 0.987 m\n",
      "Maximum height is: 0.760 m \n",
      "Time of flight: 0.930 s\n",
      "Velocity at impact: vx, vy: 0.015, -1.487 m/s\n"
     ]
    },
    {
     "data": {
      "image/png": "[encoded data removed]",
      "text/plain": [
       "<Figure size 432x288 with 1 Axes>"
      ]
     },
     "metadata": {
      "needs_background": "light"
     },
     "output_type": "display_data"
    }
   ],
   "source": [
    "import numpy as np\n",
    "import matplotlib.pyplot as plt\n",
    "from scipy import integrate\n",
    "\n",
    "# drag coefficient, kg/s\n",
    "c = 0.65\n",
    "\n",
    "# gravitational constant, m/s^2\n",
    "g = 9.81\n",
    "\n",
    "# mass of object, kg\n",
    "m = 0.1\n",
    "\n",
    "# initial speed, m/s\n",
    "v0 = 10\n",
    "\n",
    "# angle above horizontal: in degrees\n",
    "theta = 50\n",
    "\n",
    "def derivs(yAF, tF):\n",
    "    \"\"\"Calculate the time derivatives for the motion of a projectile.\n",
    "\n",
    "    Arguments:\n",
    "        yAF: array of variables. here yAF[0] is x and yAF[1] is y\n",
    "        yAF[2] = vx, yAF[3] = vy\n",
    "        tF: the time. Not used explicitly\n",
    "\n",
    "    Returns:\n",
    "        array of four values that are the time derivatives of x, y, vx and vy\n",
    "    \"\"\"\n",
    "\n",
    "    global g, c, m\n",
    "    x = yAF[0]\n",
    "    y = yAF[1]\n",
    "    vx = yAF[2]\n",
    "    vy = yAF[3]\n",
    "    return np.array([yAF[2], yAF[3], -c / m * vx, -g - c / m * vy])\n",
    "\n",
    "\n",
    "# we need lots of points to determine max height, distance, and time of flight.\n",
    "POINTS = 500\n",
    "\n",
    "# We need a guess as to how long to integrate over.\n",
    "# If there was no drag, then the time of flight would be\n",
    "# given by (g T^2)/2 - v0y T = 0. Which would make\n",
    "# T = 2 v0y/g and v0y = v0 sin(theta).\n",
    "# with drag, the flight will be shorter.\n",
    "\n",
    "tmax = 2 * v0 * np.sin(theta * np.pi / 180) / g\n",
    "timeAF = np.linspace(0, tmax, POINTS)\n",
    "\n",
    "# initial conditions for x, y, vx, vy\n",
    "y0AF = np.array([0., 0., v0 * np.cos(theta * np.pi / 180),\n",
    "                 v0 * np.sin(theta*np.pi / 180)])\n",
    "\n",
    "yM = integrate.odeint(derivs, y0AF, timeAF)\n",
    "\n",
    "# need to find where it hits. Where is the first value where y<0?\n",
    "# ilast is the index of the first value after impact.\n",
    "ilast = np.argmax(yM[:, 1] < 0)\n",
    "\n",
    "# throw away values after impact\n",
    "yM = yM[0:ilast]\n",
    "timeAF = timeAF[0:ilast]\n",
    "\n",
    "d = yM[-1, 0]\n",
    "\n",
    "h = np.max(yM[:, 1])\n",
    "\n",
    "T = timeAF[-1]\n",
    "\n",
    "vi = np.sqrt(yM[-1, 2]**2 + yM[-1, 3]**2)\n",
    "vxi = yM[-1,2]\n",
    "vyi = yM[-1,3]\n",
    "\n",
    "print(\"Distance to impact is: %5.3f m\" % d)\n",
    "print(\"Maximum height is: %5.3f m \" % h)\n",
    "print(\"Time of flight: %5.3f s\" % T)\n",
    "print(\"Velocity at impact: vx, vy: %5.3f, %5.3f m/s\" % (vxi, vyi))\n",
    "\n",
    "# calculate analytic solution:\n",
    "\n",
    "vt = m * g / c\n",
    "xAF = v0 * vt / g * np.cos(theta * np.pi / 180) * \\\n",
    "    (1 - np.exp(-g * timeAF / vt))\n",
    "yAF = vt / g * (v0 * np.sin(theta * np.pi / 180) + vt) * \\\n",
    "    (1 - np.exp(-g * timeAF / vt)) - vt * timeAF\n",
    "\n",
    "# for plotting, only want ~ 20 points.\n",
    "increment = ilast // 20\n",
    "# %matplotlib notebook\n",
    "%matplotlib inline\n",
    "plt.plot(yM[::increment, 0], yM[::increment, 1], \"ro\", label=\"numerical\")\n",
    "plt.plot(xAF, yAF, \"b-\", label=\"analytic\")\n",
    "plt.xlabel(\"x distance (m)\")\n",
    "plt.ylabel(\"y distance (m)\")\n",
    "plt.title(\"Trajectory calculation for PHYS 210 Project 1\")\n",
    "plt.legend()\n",
    "# plt.savefig(\"ballistic.pdf\")\n",
    "plt.show() "
   ]
  }
 ],
 "metadata": {
  "kernelspec": {
   "display_name": "Python 3",
   "language": "python",
   "name": "python3"
  },
  "language_info": {
   "codemirror_mode": {
    "name": "ipython",
    "version": 3
   },
   "file_extension": ".py",
   "mimetype": "text/x-python",
   "name": "python",
   "nbconvert_exporter": "python",
   "pygments_lexer": "ipython3",
   "version": "3.7.3"
  }
 },
 "nbformat": 4,
 "nbformat_minor": 2
}
