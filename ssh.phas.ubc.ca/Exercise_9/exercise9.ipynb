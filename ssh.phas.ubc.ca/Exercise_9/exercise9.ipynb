{
 "cells": [
  {
   "cell_type": "markdown",
   "metadata": {
    "deletable": false,
    "editable": false,
    "nbgrader": {
     "checksum": "9a9e96299d267bfc9ffac09bb782cedd",
     "grade": false,
     "grade_id": "cell-a0f6449d6c68ea6b",
     "locked": true,
     "schema_version": 1,
     "solution": false
    }
   },
   "source": [
    "# Exercise 9\n",
    "Oct 2 2019. Due Oct 7, 9am.\n",
    "\n",
    "Enter the names, and describe the contributions of anybody besides yourself who contributed/collaborated. "
   ]
  },
  {
   "cell_type": "markdown",
   "metadata": {
    "collapsed": true
   },
   "source": []
  },
  {
   "cell_type": "markdown",
   "metadata": {
    "deletable": false,
    "editable": false,
    "nbgrader": {
     "checksum": "a81298927b98eb1e6ad148cb6e939392",
     "grade": false,
     "grade_id": "cell-f59d4b79587ebab2",
     "locked": true,
     "schema_version": 1,
     "solution": false
    }
   },
   "source": [
    "# Monte Carlo II\n",
    "Revisit the Monte Carlo integration problem from Exercise 7. Write a new function, `monte_carlo_pi2(N)` to do the same thing as last time, but this time do not use any `for` or `while` loops. Instead use array operations."
   ]
  },
  {
   "cell_type": "code",
   "execution_count": 1,
   "metadata": {
    "deletable": false,
    "nbgrader": {
     "checksum": "fdee780d876d42b1e3827f309cf76db9",
     "grade": false,
     "grade_id": "cell-5cbe5fb089aba6c0",
     "locked": false,
     "schema_version": 1,
     "solution": true
    }
   },
   "outputs": [],
   "source": [
    "import math\n",
    "import numpy as np\n",
    "\n",
    "def monte_carlo_pi2(N):\n",
    "    x = np.random.random(N)\n",
    "    y = np.random.random(N)    \n",
    "    d = np.sqrt(x**2 + y**2)    \n",
    "    in_c = d[np.where(d <= 1)]   \n",
    "    return (len(in_c)/len(d)) * 4\n"
   ]
  },
  {
   "cell_type": "code",
   "execution_count": 2,
   "metadata": {
    "deletable": false,
    "editable": false,
    "nbgrader": {
     "checksum": "361ef150b5bb970299e98580aa66d5dc",
     "grade": true,
     "grade_id": "cell-5cd7f4067d01b197",
     "locked": true,
     "points": 1,
     "schema_version": 1,
     "solution": false
    }
   },
   "outputs": [],
   "source": [
    "#check that the function is defined, executes, and returns a floating point number\n",
    "import numbers\n",
    "from numpy.testing import assert_equal, assert_almost_equal\n",
    "a = monte_carlo_pi2(58)\n",
    "assert isinstance(a, numbers.Real) == True\n",
    "assert isinstance(a, numbers.Integral) == False"
   ]
  },
  {
   "cell_type": "code",
   "execution_count": 3,
   "metadata": {
    "deletable": false,
    "editable": false,
    "nbgrader": {
     "checksum": "560fcefd38c7ab23fb491bb5cdf5d427",
     "grade": true,
     "grade_id": "cell-2dfe6fb23bdb391f",
     "locked": true,
     "points": 1,
     "schema_version": 1,
     "solution": false
    }
   },
   "outputs": [],
   "source": [
    "# check that the answer is reasonable"
   ]
  },
  {
   "cell_type": "markdown",
   "metadata": {
    "deletable": false,
    "editable": false,
    "nbgrader": {
     "checksum": "3c0b9997701406eea5fec05e2e67b1da",
     "grade": false,
     "grade_id": "cell-5ccf88054dcdac81",
     "locked": true,
     "schema_version": 1,
     "solution": false
    }
   },
   "source": [
    "Modify your `accuracy()` function from Exercise 7 so that it calls `monte_carlo2(N)`.\n",
    "\n",
    "Again return a 2d array with a row for each of the 10 N values specified in Exercise 7, with columns containing N, the mean of 100 results from `monte_carlo_pi2(N)`, and their standard deviation."
   ]
  },
  {
   "cell_type": "code",
   "execution_count": 4,
   "metadata": {
    "deletable": false,
    "nbgrader": {
     "checksum": "aabd2e72b0e58a9da635811c19bc3509",
     "grade": false,
     "grade_id": "cell-320c844d8290a464",
     "locked": false,
     "schema_version": 1,
     "solution": true
    }
   },
   "outputs": [],
   "source": [
    "def accuracy():\n",
    "    arr = np.array([10, 20, 50, 100, 200, 500, 1000, 2000, 5000, 10000])\n",
    "    store = np.ndarray(shape = (len(arr),3))\n",
    "    calcs = np.empty(100)\n",
    "  \n",
    "    for n in range(0,len(arr)):\n",
    "        store[n][0] = arr[n]\n",
    "        \n",
    "        for m in range(0, len(calcs)):\n",
    "            val = monte_carlo_pi2(arr[n])\n",
    "            calcs[m] = val\n",
    "        \n",
    "        store[n][1] = np.average(calcs)\n",
    "        store[n][2] = np.std(calcs, ddof = 1)\n",
    "                            \n",
    "    return store\n"
   ]
  },
  {
   "cell_type": "code",
   "execution_count": 5,
   "metadata": {
    "deletable": false,
    "editable": false,
    "nbgrader": {
     "checksum": "622a11c6aa870325734423841cd5a769",
     "grade": true,
     "grade_id": "cell-04fde43927b8a59d",
     "locked": true,
     "points": 0.5,
     "schema_version": 1,
     "solution": false
    }
   },
   "outputs": [
    {
     "ename": "NameError",
     "evalue": "name 'accuracy2' is not defined",
     "output_type": "error",
     "traceback": [
      "\u001b[0;31m---------------------------------------------------------------------------\u001b[0m",
      "\u001b[0;31mNameError\u001b[0m                                 Traceback (most recent call last)",
      "\u001b[0;32m<ipython-input-5-836e66f84d38>\u001b[0m in \u001b[0;36m<module>\u001b[0;34m()\u001b[0m\n\u001b[1;32m      1\u001b[0m \u001b[0;31m# test that accuracy executes and returns a 10 row x 3 column 2d array\u001b[0m\u001b[0;34m\u001b[0m\u001b[0;34m\u001b[0m\u001b[0;34m\u001b[0m\u001b[0m\n\u001b[0;32m----> 2\u001b[0;31m \u001b[0ma\u001b[0m \u001b[0;34m=\u001b[0m \u001b[0maccuracy2\u001b[0m\u001b[0;34m(\u001b[0m\u001b[0;34m)\u001b[0m\u001b[0;34m\u001b[0m\u001b[0;34m\u001b[0m\u001b[0m\n\u001b[0m\u001b[1;32m      3\u001b[0m \u001b[0;32massert\u001b[0m \u001b[0ma\u001b[0m\u001b[0;34m.\u001b[0m\u001b[0mndim\u001b[0m \u001b[0;34m==\u001b[0m \u001b[0;36m2\u001b[0m\u001b[0;34m\u001b[0m\u001b[0;34m\u001b[0m\u001b[0m\n\u001b[1;32m      4\u001b[0m \u001b[0;32massert\u001b[0m \u001b[0ma\u001b[0m\u001b[0;34m.\u001b[0m\u001b[0mshape\u001b[0m \u001b[0;34m==\u001b[0m \u001b[0;34m(\u001b[0m\u001b[0;36m10\u001b[0m\u001b[0;34m,\u001b[0m\u001b[0;36m3\u001b[0m\u001b[0;34m)\u001b[0m\u001b[0;34m\u001b[0m\u001b[0;34m\u001b[0m\u001b[0m\n",
      "\u001b[0;31mNameError\u001b[0m: name 'accuracy2' is not defined"
     ]
    }
   ],
   "source": [
    "# test that accuracy executes and returns a 10 row x 3 column 2d array\n",
    "a = accuracy2()\n",
    "assert a.ndim == 2\n",
    "assert a.shape == (10,3)"
   ]
  },
  {
   "cell_type": "code",
   "execution_count": null,
   "metadata": {
    "deletable": false,
    "editable": false,
    "nbgrader": {
     "checksum": "065bddb954c35538a17662a9d78b0f65",
     "grade": true,
     "grade_id": "cell-90a556c48c9bed29",
     "locked": true,
     "points": 0.5,
     "schema_version": 1,
     "solution": false
    }
   },
   "outputs": [],
   "source": [
    "# test that first column values are correct:\n",
    "assert_equal(a[:,0], np.array([10, 20, 50, 100, 200, 500, 1000, 2000, 5000, 10000]) )\n"
   ]
  },
  {
   "cell_type": "code",
   "execution_count": null,
   "metadata": {
    "deletable": false,
    "editable": false,
    "nbgrader": {
     "checksum": "643a3189d817973d46abeb0ac60b5dc2",
     "grade": true,
     "grade_id": "cell-1a209c9da7f79ca3",
     "locked": true,
     "points": 0.5,
     "schema_version": 1,
     "solution": false
    }
   },
   "outputs": [],
   "source": [
    "# test that values of std dev's are reasonable"
   ]
  },
  {
   "cell_type": "code",
   "execution_count": null,
   "metadata": {
    "deletable": false,
    "editable": false,
    "nbgrader": {
     "checksum": "c5d90c92f312f2e6e22c13f137394f4f",
     "grade": true,
     "grade_id": "cell-c62fb5ef8a5f3237",
     "locked": true,
     "points": 0.5,
     "schema_version": 1,
     "solution": false
    }
   },
   "outputs": [],
   "source": [
    "# test that averages are reasonable"
   ]
  },
  {
   "cell_type": "markdown",
   "metadata": {
    "deletable": false,
    "editable": false,
    "nbgrader": {
     "checksum": "24cde3aaec970a16eb6ccbeac490e770",
     "grade": false,
     "grade_id": "cell-4774751faf7054b3",
     "locked": true,
     "schema_version": 1,
     "solution": false
    }
   },
   "source": [
    "Now copy your original `monte_carlo_pi(N)` function in from Exercise 7."
   ]
  },
  {
   "cell_type": "code",
   "execution_count": null,
   "metadata": {
    "deletable": false,
    "nbgrader": {
     "checksum": "005ed487a6b18eaad9aacf0eaf274339",
     "grade": false,
     "grade_id": "cell-7a4a64c0a8691974",
     "locked": false,
     "schema_version": 1,
     "solution": true
    }
   },
   "outputs": [],
   "source": [
    "import random \n",
    "import numpy as np\n",
    "\n",
    "def monte_carlo_pi(N):\n",
    "    x = np.random.random(N)\n",
    "    y = np.random.random(N)\n",
    "    in_c = 0\n",
    "    t_c = 0\n",
    "    \n",
    "    for n in range(0,N):\n",
    "        if(math.sqrt((x[n])**2 + (y[n])**2) <= 1):\n",
    "            in_c += 1            \n",
    "        t_c += 1\n",
    "    return (in_c/t_c)*4\n"
   ]
  },
  {
   "cell_type": "code",
   "execution_count": null,
   "metadata": {
    "deletable": false,
    "editable": false,
    "nbgrader": {
     "checksum": "5da2378cd72ac458f4a16045167afbb8",
     "grade": true,
     "grade_id": "cell-eabb1099cb7d02fc",
     "locked": true,
     "points": 1,
     "schema_version": 1,
     "solution": false
    }
   },
   "outputs": [],
   "source": [
    "a = monte_carlo_pi(500)\n",
    "assert isinstance(a, numbers.Real) == True\n",
    "assert isinstance(a, numbers.Integral) == False\n",
    "assert a > 3 and a < 3.3"
   ]
  },
  {
   "cell_type": "markdown",
   "metadata": {
    "deletable": false,
    "editable": false,
    "nbgrader": {
     "checksum": "366fba4fb859387d1a81ceb250f25203",
     "grade": false,
     "grade_id": "cell-51d303805ed43820",
     "locked": true,
     "schema_version": 1,
     "solution": false
    }
   },
   "source": [
    "Now use the ipython \"magic\" built-in: `%timeit` to time how long the two different versions take to execute. The code to do this is shown below, you don't need to modify it. The -o option tells %timeit to store its results as a variable."
   ]
  },
  {
   "cell_type": "code",
   "execution_count": null,
   "metadata": {},
   "outputs": [],
   "source": [
    "time1 = %timeit -o monte_carlo_pi(10000)\n",
    "time2 = %timeit -o monte_carlo_pi2(10000)\n",
    "print(\"the time with monte_carlo_pi was:\", time1.best )\n",
    "print(\"the time with monte_carlo_pi2 was:\", time2.best )"
   ]
  },
  {
   "cell_type": "markdown",
   "metadata": {
    "deletable": false,
    "editable": false,
    "nbgrader": {
     "checksum": "019d7c2b497a51dbfa91e92d0eeccbcb",
     "grade": false,
     "grade_id": "cell-23049488a952fea1",
     "locked": true,
     "schema_version": 1,
     "solution": false
    }
   },
   "source": [
    "How do the speeds of the two approaches compare? Which approach is faster, and by approximately what factor?"
   ]
  },
  {
   "cell_type": "markdown",
   "metadata": {
    "deletable": false,
    "nbgrader": {
     "checksum": "a8dc8eb0d4e5435c731b782071679b96",
     "grade": true,
     "grade_id": "cell-c55466c1cad2f465",
     "locked": false,
     "points": 1,
     "schema_version": 1,
     "solution": true
    }
   },
   "source": [
    "There is a significant difference between the two approaches. The function monte_carlo_pi2() was faster approximately by a factor of 27."
   ]
  },
  {
   "cell_type": "markdown",
   "metadata": {
    "deletable": false,
    "editable": false,
    "nbgrader": {
     "checksum": "7a7bc627075ef9d91f6bae8387044164",
     "grade": false,
     "grade_id": "cell-2994cdefd3e10b62",
     "locked": true,
     "schema_version": 1,
     "solution": false
    }
   },
   "source": [
    "Generate 500 random points, as in the monte carlo integration routine above, and plot them as a coloured scatter plot, as in the image in Exercise 7, where points within the quarter circle are red, and those outside are blue.\n",
    "Set the aspect ratio of the plot so that the lengths of the x and y axes are the same, using `plt.axes().set_aspect()`"
   ]
  },
  {
   "cell_type": "code",
   "execution_count": null,
   "metadata": {
    "deletable": false,
    "nbgrader": {
     "checksum": "4015ccc453bff102e5bd0095c6667e9f",
     "grade": true,
     "grade_id": "cell-8d05093f6fd1ce78",
     "locked": false,
     "points": 2,
     "schema_version": 1,
     "solution": true
    }
   },
   "outputs": [],
   "source": [
    "import matplotlib.pyplot as plt\n",
    "\n",
    "x = np.random.random(500)\n",
    "y = np.random.random(500)\n",
    "d = np.sqrt(x**2 + y**2)    \n",
    "in_c = np.where(d <= 1)  \n",
    "out_c = np.where(d > 1)\n",
    "\n",
    "plt.axes().set_aspect('equal')\n",
    "plt.scatter(x[in_c],y[in_c],c = 'r')\n",
    "plt.scatter(x[out_c],y[out_c],c = 'b')\n",
    "plt.show()\n",
    "\n"
   ]
  },
  {
   "cell_type": "markdown",
   "metadata": {
    "deletable": false,
    "editable": false,
    "nbgrader": {
     "checksum": "3aa15d15185e86fff66cc8c36256380e",
     "grade": false,
     "grade_id": "cell-f233e3b22c3d107a",
     "locked": true,
     "schema_version": 1,
     "solution": false
    }
   },
   "source": [
    "## Numpy Arrays and Functions\n",
    "\n",
    "Take the `my_sign(a)` function from lecture 5.2 and rewrite it so that it works with numpy arrays as arguments. It should return an array of the same shape as its argument, where the value of each element is 1, 0 or -1 to reflect the sign of the value in the original array. It does not need to accept individual numbers as arguments, you can assume that an array is passed in."
   ]
  },
  {
   "cell_type": "code",
   "execution_count": null,
   "metadata": {
    "deletable": false,
    "nbgrader": {
     "checksum": "28b7a3adce630aaef24876d8082ea195",
     "grade": false,
     "grade_id": "cell-87ba253b0dea8d23",
     "locked": false,
     "schema_version": 1,
     "solution": true
    }
   },
   "outputs": [],
   "source": [
    "def my_sign(a):\n",
    "    a[np.where(a>0)] = 1\n",
    "    a[np.where(a==0)] = 0\n",
    "    a[np.where(a<0)] = -1\n",
    "    return a\n"
   ]
  },
  {
   "cell_type": "code",
   "execution_count": null,
   "metadata": {
    "deletable": false,
    "editable": false,
    "nbgrader": {
     "checksum": "a17914a762b310cea6743afbc85e6cee",
     "grade": true,
     "grade_id": "cell-b7ca29422c81525e",
     "locked": true,
     "points": 1,
     "schema_version": 1,
     "solution": false
    }
   },
   "outputs": [],
   "source": [
    "# test that my_sign take an array\n",
    "a = my_sign(np.array([-4,4,2,0,3]))\n",
    "\n",
    "\n"
   ]
  },
  {
   "cell_type": "code",
   "execution_count": null,
   "metadata": {
    "deletable": false,
    "editable": false,
    "nbgrader": {
     "checksum": "879c5c2d69e8ccd532cb791bc37df482",
     "grade": true,
     "grade_id": "cell-64726f727d3d0bf3",
     "locked": true,
     "points": 1,
     "schema_version": 1,
     "solution": false
    }
   },
   "outputs": [],
   "source": [
    "# check that the correct values are returned\n",
    "assert_equal(my_sign(np.array([2,4,1,0,-3,-7,27])), np.array([1,1,1,0,-1,-1,1]))\n",
    "assert_equal(my_sign(np.array([-2.3,1.,0.,-7.6])), np.array([-1,1,0,-1]))"
   ]
  },
  {
   "cell_type": "code",
   "execution_count": null,
   "metadata": {
    "deletable": false,
    "editable": false,
    "nbgrader": {
     "checksum": "0b4ad5eb12ed30d7d6b32a546d18dd0e",
     "grade": true,
     "grade_id": "cell-dc0a28129f87675c",
     "locked": true,
     "points": 1,
     "schema_version": 1,
     "solution": false
    }
   },
   "outputs": [],
   "source": [
    "# check higher dimension arrays\n",
    "b = np.array([[5,-3,2],[9,0,-2]])\n",
    "assert_equal(my_sign(b),np.array([[1,-1,1],[1,0,-1]]))"
   ]
  },
  {
   "cell_type": "markdown",
   "metadata": {
    "deletable": false,
    "editable": false,
    "nbgrader": {
     "checksum": "a6ffcf33736335bd4d3aec97dda0b0d1",
     "grade": false,
     "grade_id": "cell-fcfad5add4a003d9",
     "locked": true,
     "schema_version": 1,
     "solution": false
    }
   },
   "source": [
    "## Arrays\n",
    "\n",
    "In this problem, you will calculate $\\exp(-r^2)$ on a 2-dimensional grid, similar to the one used in lecture 5.2.\n",
    "Use `numpy.meshgrid()` to generate a 2000x2000 point grid that covers the range of -3 to +3 on both axes, then generate an image plot similar to the one in the lecture notes. Don't worry if the colours aren't the same. You might consider both `numpy.arange()` and `numpy.linspace()` for generating the points. \n",
    "\n",
    "Do your calculations in a function: `exp_r2a()`. Define the function in the first cell, In the second cell, call the function and time how long it takes, storing the result from %timeit in variable `t1`. Pass `%timeit` with arguments `-n1 -r1 -o` so that the plot will only be generated once (by default `%timeit` will run the command you give it several times)"
   ]
  },
  {
   "cell_type": "code",
   "execution_count": 9,
   "metadata": {
    "deletable": false,
    "nbgrader": {
     "checksum": "ffc6b0aa2eefbaacbbde0871ad619ad9",
     "grade": true,
     "grade_id": "cell-4551bd61c85f017a",
     "locked": false,
     "points": 2,
     "schema_version": 1,
     "solution": true
    }
   },
   "outputs": [],
   "source": [
    "def exp_r2a():\n",
    "    x1d = np.linspace(-3,3, num = 2000)\n",
    "    y1d = np.linspace(-3,3,num = 2000)\n",
    "    x2d, y2d = np.meshgrid(x1d, y1d)\n",
    "    r2d = x2d**2 + y2d**2\n",
    "    z = np.exp(-r2d)\n",
    "    plt.imshow(z,extent=(-3, 3, -3, 3),cmap = 'jet')\n",
    "    plt.show()    \n",
    "\n",
    "#play around with origin"
   ]
  },
  {
   "cell_type": "code",
   "execution_count": 10,
   "metadata": {
    "deletable": false,
    "nbgrader": {
     "checksum": "08adf57facd0d400293aa3d8344b9f18",
     "grade": true,
     "grade_id": "cell-7c2ba077b679fde2",
     "locked": false,
     "points": 0.5,
     "schema_version": 1,
     "solution": true
    }
   },
   "outputs": [
    {
     "data": {
      "image/png": "[encoded data removed]",
      "text/plain": [
       "<Figure size 432x288 with 1 Axes>"
      ]
     },
     "metadata": {
      "needs_background": "light"
     },
     "output_type": "display_data"
    },
    {
     "name": "stdout",
     "output_type": "stream",
     "text": [
      "588 ms ± 0 ns per loop (mean ± std. dev. of 1 run, 1 loop each)\n"
     ]
    }
   ],
   "source": [
    "t1 = %timeit -n1 -r1 -o exp_r2a()"
   ]
  },
  {
   "cell_type": "markdown",
   "metadata": {
    "deletable": false,
    "editable": false,
    "nbgrader": {
     "checksum": "d6a388370dc2c0b4113849436d86b680",
     "grade": false,
     "grade_id": "cell-143a8b03562cf829",
     "locked": true,
     "schema_version": 1,
     "solution": false
    }
   },
   "source": [
    "Define a new function, `exp_r2b()` that does the same thing as `exp_r2a()` but uses two nested loops to calculate the point values. Start by creating an array to store the values with ` r2d = np.zeros((1000,1000))` and then use the loops to fill in the elements point by point. Again plot the result, and then time how long the function to do the calculation and plot the result takes."
   ]
  },
  {
   "cell_type": "code",
   "execution_count": 6,
   "metadata": {
    "deletable": false,
    "nbgrader": {
     "checksum": "4a42ba2439e3177916afa7082bed86e6",
     "grade": true,
     "grade_id": "cell-0cac03f728783b21",
     "locked": false,
     "points": 2,
     "schema_version": 1,
     "solution": true
    }
   },
   "outputs": [],
   "source": [
    "import numpy as np\n",
    "import matplotlib.pyplot as plt\n",
    "\n",
    "def exp_r2b():\n",
    "    r2d = np.zeros((1000,1000))\n",
    "    interval = 6/1000\n",
    "    point = -3\n",
    "    \n",
    "    for n in range(0,r2d.shape[0]): #rows\n",
    "        for m in range(0,r2d.shape[1]):#columns\n",
    "            if(n == 0):\n",
    "                r2d[n][m] = point**2 #setting up axes\n",
    "                r2d[m][n] = point**2\n",
    "                point += interval   \n",
    "            if(n>0 and m != 0):\n",
    "                r2d[n][m] = (np.sqrt(r2d[0][m]))**2 + (np.sqrt(r2d[n][0]))**2\n",
    "        \n",
    "            \n",
    "    z = np.exp(-r2d)    \n",
    "    plt.imshow(z,extent=(-3, 3, -3, 3),cmap = 'jet')\n",
    "    plt.show() \n"
   ]
  },
  {
   "cell_type": "code",
   "execution_count": 11,
   "metadata": {
    "deletable": false,
    "nbgrader": {
     "checksum": "8972109f41e70fe6537e7d34a5430a77",
     "grade": true,
     "grade_id": "cell-32a32b5559e5af02",
     "locked": false,
     "points": 0.5,
     "schema_version": 1,
     "solution": true
    }
   },
   "outputs": [
    {
     "data": {
      "image/png": "[encoded data removed]",
      "text/plain": [
       "<Figure size 432x288 with 1 Axes>"
      ]
     },
     "metadata": {
      "needs_background": "light"
     },
     "output_type": "display_data"
    },
    {
     "name": "stdout",
     "output_type": "stream",
     "text": [
      "6.96 s ± 0 ns per loop (mean ± std. dev. of 1 run, 1 loop each)\n"
     ]
    }
   ],
   "source": [
    "t2 = %timeit -n1 -r1 -o exp_r2b()"
   ]
  },
  {
   "cell_type": "markdown",
   "metadata": {
    "deletable": false,
    "editable": false,
    "nbgrader": {
     "checksum": "2ae498ca2951cbe2d33d16b96f9e2ed0",
     "grade": false,
     "grade_id": "cell-b10111ad6eef3cfc",
     "locked": true,
     "schema_version": 1,
     "solution": false
    }
   },
   "source": [
    "Finally, compare the times taken for function that uses array operations compared to the one using loops. What have you learned about the speed of doing computations with loops vs. array operations?"
   ]
  },
  {
   "cell_type": "markdown",
   "metadata": {
    "deletable": false,
    "nbgrader": {
     "checksum": "27fbe5e7a4fb69b47776ef9b4779d744",
     "grade": true,
     "grade_id": "cell-a867ba01d90e1821",
     "locked": false,
     "points": 1,
     "schema_version": 1,
     "solution": true
    }
   },
   "source": [
    "It took significantly longer to for the loopes to plot the data. While the array operations took around 520ms, the loops took multiple seconds(around 7s). For speed and efficency it's clear that the using array operations is the ideal choice."
   ]
  }
 ],
 "metadata": {
  "kernelspec": {
   "display_name": "Python 3",
   "language": "python",
   "name": "python3"
  },
  "language_info": {
   "codemirror_mode": {
    "name": "ipython",
    "version": 3
   },
   "file_extension": ".py",
   "mimetype": "text/x-python",
   "name": "python",
   "nbconvert_exporter": "python",
   "pygments_lexer": "ipython3",
   "version": "3.7.3"
  }
 },
 "nbformat": 4,
 "nbformat_minor": 2
}
