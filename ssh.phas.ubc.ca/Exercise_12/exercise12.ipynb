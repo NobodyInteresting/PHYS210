{
 "cells": [
  {
   "cell_type": "markdown",
   "metadata": {
    "deletable": false,
    "editable": false,
    "nbgrader": {
     "checksum": "539fed6b24beed4e376141b87b4410e5",
     "grade": false,
     "grade_id": "cell-7754ae5d6e50e85e",
     "locked": true,
     "schema_version": 1,
     "solution": false
    }
   },
   "source": [
    "Exercise 11\n",
    "\n",
    "Oct 16, 2019. Due Oct 21, 9am.\n",
    "\n",
    "Enter the names, and describe the contributions of anybody besides yourself who contributed/collaborated.\n"
   ]
  },
  {
   "cell_type": "markdown",
   "metadata": {},
   "source": []
  },
  {
   "cell_type": "markdown",
   "metadata": {
    "deletable": false,
    "editable": false,
    "nbgrader": {
     "checksum": "527c27180f4066eaae1917d643b8b017",
     "grade": false,
     "grade_id": "cell-16c82ba76e14fc9b",
     "locked": true,
     "schema_version": 1,
     "solution": false
    }
   },
   "source": [
    "## 1 Exception handling & Dictionaries\n",
    "A common philosophy in python code is: “easier to ask for forgiveness than permission.” That is,\n",
    "instead of checking if something is a valid operation, try it and deal with it in case it fails.\n",
    "Suppose you have a file with two columns of words (separated by whitespace), a bit like a dictionary in the literal sense of the word. Write a function `read_dict(fname)` that takes a filename, `fname`, as its argument and returns a dictionary built from the two columns - using the first column as keys and second column as values. Write your function\n",
    "such that itt will not be interrupted by an exception when trying to open a file that does not\n",
    "exist. If the file does not exist your function should return None. There is a file `word_pairs.txt` that you can test with. Your function should also not crash if a line is blank or contains only a single word. In either case it should ignore the line. \n",
    "\n",
    "You should remove all leading and trailing whitespace and convert both columns to lowercase before adding to your dictionary."
   ]
  },
  {
   "cell_type": "code",
   "execution_count": 1,
   "metadata": {
    "deletable": false,
    "nbgrader": {
     "checksum": "5d6dc61c914abe053bd417eb6261a6ea",
     "grade": false,
     "grade_id": "cell-9973a2da95e61495",
     "locked": false,
     "schema_version": 1,
     "solution": true
    }
   },
   "outputs": [],
   "source": [
    "def read_dict(fname):\n",
    "    wordls = dict()    \n",
    "    words = []\n",
    "    try:\n",
    "        f = open(fname,\"r\")\n",
    "    except: \n",
    "        return None\n",
    "    \n",
    "    text = f.readlines()\n",
    "    for i in range(len(text)):\n",
    "        text[i] = text[i].strip()\n",
    "        words = text[i].split()\n",
    "        \n",
    "        if(len(words)==2):\n",
    "            wordls[words[0]] = words[1]\n",
    "    return wordls"
   ]
  },
  {
   "cell_type": "code",
   "execution_count": 2,
   "metadata": {
    "deletable": false,
    "editable": false,
    "nbgrader": {
     "checksum": "c17a61f3d34e3354854bb8c8ccec54e6",
     "grade": true,
     "grade_id": "cell-0ef533bc28ee5b2f",
     "locked": true,
     "points": 0.5,
     "schema_version": 1,
     "solution": false
    }
   },
   "outputs": [],
   "source": [
    "# check that the function runs\n",
    "d = read_dict(\"word_pairs.txt\")\n"
   ]
  },
  {
   "cell_type": "code",
   "execution_count": 3,
   "metadata": {
    "deletable": false,
    "editable": false,
    "nbgrader": {
     "checksum": "970be99b8321c78e94a81e50bc1cc5eb",
     "grade": true,
     "grade_id": "cell-d8f3c97316458bd9",
     "locked": true,
     "points": 0.5,
     "schema_version": 1,
     "solution": false
    }
   },
   "outputs": [],
   "source": [
    "# check that it finds the right words\n",
    "assert d['abashed'] == \"ashamed\"\n",
    "assert d['abuse'] == \"slander\"\n"
   ]
  },
  {
   "cell_type": "code",
   "execution_count": 4,
   "metadata": {
    "deletable": false,
    "editable": false,
    "nbgrader": {
     "checksum": "43d79f058031f9c8a46fb1c168be651f",
     "grade": true,
     "grade_id": "cell-df98608788921c6a",
     "locked": true,
     "points": 0.5,
     "schema_version": 1,
     "solution": false
    }
   },
   "outputs": [],
   "source": [
    "# check that whitespace is removed\n",
    "assert d[\"absolute\"] == \"eternal\""
   ]
  },
  {
   "cell_type": "code",
   "execution_count": 5,
   "metadata": {
    "deletable": false,
    "editable": false,
    "nbgrader": {
     "checksum": "0e118d26f1d21019ae253948adb1d2ac",
     "grade": true,
     "grade_id": "cell-95eb59eae246995b",
     "locked": true,
     "points": 0.5,
     "schema_version": 1,
     "solution": false
    }
   },
   "outputs": [],
   "source": [
    "# check that capitals were dealt with"
   ]
  },
  {
   "cell_type": "code",
   "execution_count": 6,
   "metadata": {
    "deletable": false,
    "editable": false,
    "nbgrader": {
     "checksum": "46d48aad63cc023ab2c0ce905b58a2e5",
     "grade": true,
     "grade_id": "cell-a094493f6d68e69b",
     "locked": true,
     "points": 0.5,
     "schema_version": 1,
     "solution": false
    }
   },
   "outputs": [],
   "source": [
    "# check that capitals were dealt with"
   ]
  },
  {
   "cell_type": "code",
   "execution_count": 7,
   "metadata": {
    "deletable": false,
    "editable": false,
    "nbgrader": {
     "checksum": "1214d311ac0752f0f28a38a6f9b13c74",
     "grade": true,
     "grade_id": "cell-82e5e5d74ce3ee1b",
     "locked": true,
     "points": 0.5,
     "schema_version": 1,
     "solution": false
    }
   },
   "outputs": [],
   "source": [
    "# Check that it works if the file doesn't exist"
   ]
  },
  {
   "cell_type": "code",
   "execution_count": 8,
   "metadata": {
    "deletable": false,
    "editable": false,
    "nbgrader": {
     "checksum": "2418f447dc87975352feddebce6d418b",
     "grade": true,
     "grade_id": "cell-6f39c13dbe20d51e",
     "locked": true,
     "points": 0.5,
     "schema_version": 1,
     "solution": false
    }
   },
   "outputs": [],
   "source": [
    "# Check that it works with a different word file"
   ]
  },
  {
   "cell_type": "code",
   "execution_count": 9,
   "metadata": {
    "deletable": false,
    "editable": false,
    "nbgrader": {
     "checksum": "a4b608abda5eaacbc02db396ff3f8222",
     "grade": true,
     "grade_id": "cell-82d6ad846d858a1f",
     "locked": true,
     "points": 0.5,
     "schema_version": 1,
     "solution": false
    }
   },
   "outputs": [],
   "source": [
    "# Check that blank or single-word lines are ok"
   ]
  },
  {
   "cell_type": "markdown",
   "metadata": {
    "deletable": false,
    "editable": false,
    "nbgrader": {
     "checksum": "52e3b442f743007cea0939730291abea",
     "grade": false,
     "grade_id": "cell-caef61db02f3411c",
     "locked": true,
     "schema_version": 1,
     "solution": false
    }
   },
   "source": [
    "## 2 Numerical differentiation\n",
    "The derivative of a differentiable function can be defined as\n",
    "\n",
    "$$ \\frac{df(x)}{dx} = \\lim\\limits_{h \\to 0} \\frac{f(x+h)-f(x)}{h}$$\n",
    "\n",
    "Finite difference methods of numerical differentiation use this definition to compute an (approximate) derivative for a function using a small but finite h. \n",
    "\n",
    "In the first cell below, write a function `deriv(f, x, h)` that takes a function object f, a position x, and a parameter h. It should return an approximation for the derivative df(x)/dx given by the above equation. Make sure your function accepts arrays (for x).\n",
    "\n"
   ]
  },
  {
   "cell_type": "code",
   "execution_count": 10,
   "metadata": {
    "deletable": false,
    "nbgrader": {
     "checksum": "46a7818ae0594b08a6ff92a94d3a67b8",
     "grade": false,
     "grade_id": "cell-24e7152f9443ef8c",
     "locked": false,
     "schema_version": 1,
     "solution": true
    }
   },
   "outputs": [],
   "source": [
    "def deriv(f,x,h):\n",
    "    return (f(x+h)-f(x))/h\n"
   ]
  },
  {
   "cell_type": "code",
   "execution_count": 11,
   "metadata": {
    "deletable": false,
    "editable": false,
    "nbgrader": {
     "checksum": "06aa7500f5323989bed1015f8e4ef818",
     "grade": true,
     "grade_id": "cell-c3f90bf7e918867a",
     "locked": true,
     "points": 0.5,
     "schema_version": 1,
     "solution": false
    }
   },
   "outputs": [],
   "source": [
    "# check deriv works with single values\n",
    "from numpy.testing import assert_equal, assert_almost_equal\n",
    "import numpy as np\n",
    "def mm(x):\n",
    "    return x*x-1\n",
    "aa = deriv(mm, 0.5,0.001)\n",
    "assert_almost_equal(aa, 1.0010, 5)"
   ]
  },
  {
   "cell_type": "code",
   "execution_count": 12,
   "metadata": {
    "deletable": false,
    "editable": false,
    "nbgrader": {
     "checksum": "6aab61642791d72f906cc811700cc185",
     "grade": true,
     "grade_id": "cell-bea7acb2c0d19fa3",
     "locked": true,
     "points": 0.5,
     "schema_version": 1,
     "solution": false
    }
   },
   "outputs": [],
   "source": [
    "# check it works with arrays\n",
    "b = np.linspace(0,1,10)\n",
    "aa = deriv(mm, b, 0.002)\n",
    "assert_almost_equal(aa, [2.00000000e-03, 2.24222222e-01, 4.46444444e-01, 6.68666667e-01,\n",
    " 8.90888889e-01, 1.11311111e+00, 1.33533333e+00, 1.55755556e+00, 1.77977778e+00, 2.00200000e+00],5)"
   ]
  },
  {
   "cell_type": "markdown",
   "metadata": {
    "deletable": false,
    "editable": false,
    "nbgrader": {
     "checksum": "8e0687ca75b0ae615f23b5feaabf5b61",
     "grade": false,
     "grade_id": "cell-36aac9e0179634bb",
     "locked": true,
     "schema_version": 1,
     "solution": false
    }
   },
   "source": [
    "In the next cell, Define a function f(x) = sin(x) + 1.2x, and use your earlier `deriv(x)` function to calculate values of its derivative between -2$\\pi$ and 2$\\pi$ using h = 0.01. Plot these values, along with the analytical derivative, in one subplot. In a second subplot, plot the difference between your numerical derivative and the analytical value. Use enough points along the x axis that the curves are smooth. Use a labelled legend box to indicate which curve is which.\n"
   ]
  },
  {
   "cell_type": "code",
   "execution_count": 13,
   "metadata": {
    "deletable": false,
    "nbgrader": {
     "checksum": "fae8b17c14cc080c7f1ddb6621cfbaa6",
     "grade": true,
     "grade_id": "cell-614b10fa7aa80e0b",
     "locked": false,
     "points": 2,
     "schema_version": 1,
     "solution": true
    }
   },
   "outputs": [
    {
     "data": {
      "text/plain": [
       "<Figure size 640x480 with 2 Axes>"
      ]
     },
     "metadata": {},
     "output_type": "display_data"
    }
   ],
   "source": [
    "import matplotlib.pyplot as plt\n",
    "import numpy as np\n",
    "def realDerv(x):\n",
    "    return np.cos(x) + 1.2\n",
    "\n",
    "def func(x):\n",
    "    return np.sin(x)+1.2*x\n",
    "\n",
    "xvals = np.linspace(-2*np.pi, 2*np.pi,50)\n",
    "yvals = deriv(func,xvals,0.01)\n",
    "dyvals = realDerv(xvals)\n",
    "\n",
    "plt.subplot(2,1,1)\n",
    "plt.plot(xvals, yvals, label = \"Numerical derivative\" )\n",
    "plt.plot(xvals, dyvals, label = \"Analytical derivative\")\n",
    "plt.legend()\n",
    "\n",
    "plt.subplot(2,1,2)\n",
    "plt.plot(xvals,yvals-dyvals, label = \"Numerical minus Analytical values\")\n",
    "plt.legend(loc = \"upper right\")\n",
    "\n",
    "plt.show()"
   ]
  },
  {
   "cell_type": "markdown",
   "metadata": {
    "deletable": false,
    "editable": false,
    "nbgrader": {
     "checksum": "5ef8c81732f7c28682f6d3d9d66363c3",
     "grade": false,
     "grade_id": "cell-c78f519dc5a15086",
     "locked": true,
     "schema_version": 1,
     "solution": false
    }
   },
   "source": [
    "Very approximately (ie, order of magnitude), what range of h can you use for the derivative to be correct within, say 1%?\n",
    "\n",
    "How does that range of h change if you modify the derivative formula to:\n",
    "$$ \\frac{df(x)}{dx} = \\lim\\limits_{h \\to 0} \\frac{f(x+h/2)-f(x-h/2)}{h}$$\n",
    "\n",
    "As an aside, exploiting the Cauchy-Riemann equations, the derivative of a holomorphic function\n",
    "(which applies to most functions you will encounter in physics) can be approximated as\n",
    "$$ \\frac{df(x)}{dx} = \\lim\\limits_{h \\to 0} {\\Bbb R} \\frac{f(x+ih)-f(x)}{ih}$$\n",
    "For the same h, this formula can be a lot more accurate for small values of h because it doesn't suffer from the same round-off problems the earlier equations do."
   ]
  },
  {
   "cell_type": "code",
   "execution_count": 14,
   "metadata": {},
   "outputs": [],
   "source": [
    "def NEWderiv(f,x,h):\n",
    "    return (f(x+1j*h)-f(x))/(1j*h)\n",
    "\n",
    "xvals = np.linspace(-2*np.pi, 2*np.pi,50)\n",
    "yvals = NEWderiv(func,xvals,0.02)\n",
    "dyvals = realDerv(xvals)\n",
    "\n",
    "\n",
    "def compare(dy, y_):\n",
    "    return (abs(y_-dy)/dy)*100\n"
   ]
  },
  {
   "cell_type": "markdown",
   "metadata": {
    "deletable": false,
    "nbgrader": {
     "checksum": "853dfe4699c9932d19188f33d1674577",
     "grade": true,
     "grade_id": "cell-efb5b97f9fb96d1b",
     "locked": false,
     "points": 1,
     "schema_version": 1,
     "solution": true
    }
   },
   "source": [
    "Approximately how small must h be for the derivative to be correct within approximately 1%?\n",
    "\n",
    "What if the derivative is calculated from x+h/2 to x-h/2 ?\n",
    "\n",
    "1) h needs to approximately <= 0.02 when using the Cauchy-Riemann equations\n",
    "\n",
    "2) h needs to be approximate <= 0.3 for the derivative to be correction within 1%"
   ]
  },
  {
   "cell_type": "markdown",
   "metadata": {
    "deletable": false,
    "editable": false,
    "nbgrader": {
     "checksum": "5511862176e5db6c035e0603f4ad8d6d",
     "grade": false,
     "grade_id": "cell-9b13267d2f15ad0f",
     "locked": true,
     "schema_version": 1,
     "solution": false
    }
   },
   "source": [
    "## Newton's Method IV\n",
    "\n",
    "Here we'll finally make plots like those we saw in Exercise 6 that show which root is converged to from different starting points in the complex plane, for $z^4-1$.\n",
    "\n",
    "Start by pasting in your `which_roots_z4(z, n)` from Exercise 11 (or use the one from the published solution if you never got yours to work - if you do that, make a comment saying you did so).\n",
    "\n",
    "Then, construct a 2d array of complex numbers whose real and imaginary parts give the x and y values of grid points spanning -2 to +2. Use 1000 points in each dimension ( $10^6$ points in total). Then call your function \n",
    "with this array as z, and n = 100. \n",
    "\n",
    "Now to make the image, create a new 3d array of integers, with a shape of (1000, 1000, 3). The last dimension will hold intensities of the red, green, and blue components of the image at each of the 1000x1000 grid points.\n",
    "\n",
    "Fill in the array so that points that converge to root 0 appear red (255, 0, 0), those that converge to index 1  are blue (0, 0, 255) - and pick two other colours for the other two roots.\n",
    "\n",
    "Finally you can use `plt.imshow()` to display the image.\n",
    "\n",
    "\n",
    "\n"
   ]
  },
  {
   "cell_type": "code",
   "execution_count": 20,
   "metadata": {
    "deletable": false,
    "nbgrader": {
     "checksum": "ad377a275bc080fcd43c261d4116797e",
     "grade": true,
     "grade_id": "cell-fed79e132833eaa8",
     "locked": false,
     "points": 4,
     "schema_version": 1,
     "solution": true
    }
   },
   "outputs": [
    {
     "data": {
      "text/plain": [
       "<matplotlib.image.AxesImage at 0x2ca3a47bfd0>"
      ]
     },
     "execution_count": 20,
     "metadata": {},
     "output_type": "execute_result"
    },
    {
     "data": {
      "image/png": "[encoded data removed]",
      "text/plain": [
       "<Figure size 432x288 with 1 Axes>"
      ]
     },
     "metadata": {
      "needs_background": "light"
     },
     "output_type": "display_data"
    }
   ],
   "source": [
    "def which_root_z4(z, n):\n",
    "    roots = np.array([1,1j,-1,-1j])\n",
    "    \n",
    "    for i in range(n): #check if it should be n+1\n",
    "        z_1 = z - f(z)/df(z)\n",
    "        z = z_1 \n",
    "    \n",
    "    c = np.array([z,z,z,z]) #new array\n",
    "    c[0] = abs(roots[0] - z)\n",
    "    c[1] = abs(roots[1] - z)\n",
    "    c[2] = abs(roots[2] - z)\n",
    "    c[3] = abs(roots[3] - z)\n",
    "    \n",
    "    final = np.ndarray(shape = z.shape)\n",
    "    final = np.argmin(c,axis = 0)\n",
    "    \n",
    "    return final\n",
    "\n",
    "def f(z):\n",
    "    return (z**4-1)\n",
    "def df(z):\n",
    "    return (4*z**3)\n",
    "\n",
    "\n",
    "x1d = np.linspace(-2,2,1000)\n",
    "y1d = np.linspace(-2j,2j,1000)\n",
    "x2d, y2d = np.meshgrid(x1d,y1d)\n",
    "z= x2d+ y2d\n",
    "\n",
    "arr = which_root_z4(z,100)\n",
    "\n",
    "imgarr = np.zeros([1000,1000,3])\n",
    "imgarr[np.where(arr==0)] = (255, 0, 0)\n",
    "imgarr[np.where(arr==1)] = (0, 0, 255)\n",
    "imgarr[np.where(arr==2)] = (0, 255, 0)\n",
    "imgarr[np.where(arr==3)] = (255, 255, 0)\n",
    "\n",
    "plt.imshow(imgarr.astype(np.uint8), extent =(-2,2,-2,2))"
   ]
  },
  {
   "cell_type": "markdown",
   "metadata": {
    "deletable": false,
    "editable": false,
    "nbgrader": {
     "checksum": "0c239eba3a623f0c296f5a6203656477",
     "grade": false,
     "grade_id": "cell-b509f01d7cc7efd9",
     "locked": true,
     "schema_version": 1,
     "solution": false
    }
   },
   "source": [
    "## Optional Shading Extension\n",
    "\n",
    "Your image won't have the shading that is found in Exercise 6. There, the shading represents how many iterations were necessary for a given point to converge to within 0.25 of the root.\n",
    "\n",
    "As an optional extension, you could rewrite your `which_roots_z4()` function so that it returns two arrays: the first would be the same as before - the index to which the point converges. The second array would be the number of iterations required for convergence. Then you could modify the plotting code to use the number of iterations to make those that require more iterations darker.\n"
   ]
  },
  {
   "cell_type": "code",
   "execution_count": null,
   "metadata": {
    "deletable": false,
    "nbgrader": {
     "checksum": "8677521f13807860b57225ea471a3121",
     "grade": true,
     "grade_id": "cell-0b8a7c55b7218dab",
     "locked": false,
     "points": 0,
     "schema_version": 1,
     "solution": true
    }
   },
   "outputs": [],
   "source": []
  }
 ],
 "metadata": {
  "kernelspec": {
   "display_name": "Python 3",
   "language": "python",
   "name": "python3"
  },
  "language_info": {
   "codemirror_mode": {
    "name": "ipython",
    "version": 3
   },
   "file_extension": ".py",
   "mimetype": "text/x-python",
   "name": "python",
   "nbconvert_exporter": "python",
   "pygments_lexer": "ipython3",
   "version": "3.7.3"
  }
 },
 "nbformat": 4,
 "nbformat_minor": 2
}
