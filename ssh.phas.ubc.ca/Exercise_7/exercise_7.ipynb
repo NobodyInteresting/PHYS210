{
 "cells": [
  {
   "cell_type": "markdown",
   "metadata": {
    "deletable": false,
    "editable": false,
    "nbgrader": {
     "checksum": "dcb8835e01dca532177c2a097da45dad",
     "grade": false,
     "grade_id": "cell-a345c52d4fd3dd4e",
     "locked": true,
     "schema_version": 1,
     "solution": false
    }
   },
   "source": [
    "# Exercise 7\n",
    "Sept 23, 2019. Due Sept 25, 9am.\n",
    "\n",
    "Enter the names, and describe the contributions of anybody besides yourself who contributed/collaborated. "
   ]
  },
  {
   "cell_type": "markdown",
   "metadata": {
    "deletable": false,
    "nbgrader": {
     "checksum": "e3ab1660460725ada4379d6cb8740311",
     "grade": true,
     "grade_id": "cell-c7d2484c60dbe4b5",
     "locked": false,
     "points": 0,
     "schema_version": 1,
     "solution": true
    }
   },
   "source": [
    "Vihara Jayaweera"
   ]
  },
  {
   "cell_type": "markdown",
   "metadata": {
    "deletable": false,
    "editable": false,
    "nbgrader": {
     "checksum": "ffc5dd76f66d3ce1aca2557e7fef4579",
     "grade": false,
     "grade_id": "cell-0e71cd5db5e0b682",
     "locked": true,
     "schema_version": 1,
     "solution": false
    }
   },
   "source": [
    "## Estimate $\\pi$\n",
    "The mathematician Srinivasa Ramanujan found an infinite series that can be used to generate a numerical approximation of $1 / \\pi$:\n",
    "$$\\frac{1}{\\pi} = \\frac{2\\sqrt{2}}{9801} \\sum_{k=0}^\\infty \\frac{(4k)!(1103+26390 k)}{(k!)^4 396^{4k}}$$\n",
    " \n",
    "Write two functions, the first: `calculate_term(k)` should calculate the value of the term for k in the summation (without the prefactor before the summation symbol) and return a single floating-point number. The second function,`estimate_pi()` should use a while loop and the first function to calculate and return an estimate of $\\pi$. The while loop should terminate when the most recent term in the sum is smaller than 1e-15 (which is Python notation for $10^{−15}$). Don't multiply by the prefactor until the sum is finished. You may use `math.factorial()` if you wish."
   ]
  },
  {
   "cell_type": "code",
   "execution_count": 40,
   "metadata": {
    "deletable": false,
    "nbgrader": {
     "checksum": "aadb3f5fe2d2256f1fabcd17fda6b8bf",
     "grade": false,
     "grade_id": "cell-1269b906e77fa8e3",
     "locked": false,
     "schema_version": 1,
     "solution": true
    }
   },
   "outputs": [],
   "source": [
    "import math\n",
    "\n",
    "def calculate_term(k):\n",
    "    val = (math.factorial((4*k))*(1103+(26390*k)))/((math.factorial(k))**4*(396**(4*k)))\n",
    "    return val\n",
    "\n",
    "def estimate_pi():\n",
    "    val = 0\n",
    "    k = 0\n",
    "    \n",
    "    while True:        \n",
    "        val += calculate_term(k)\n",
    "        if(calculate_term(k) < 1e-15):\n",
    "            break            \n",
    "        k+=1\n",
    "        \n",
    "    answ = (9801/(2*math.sqrt(2)*val))\n",
    "    return answ"
   ]
  },
  {
   "cell_type": "code",
   "execution_count": 2,
   "metadata": {
    "deletable": false,
    "editable": false,
    "nbgrader": {
     "checksum": "81f50ae0b8b4ea383d0d53d69803038a",
     "grade": true,
     "grade_id": "cell-9eceab0a43841bbc",
     "locked": true,
     "points": 1,
     "schema_version": 1,
     "solution": false
    }
   },
   "outputs": [],
   "source": [
    "# test function can be called and returns a float"
   ]
  },
  {
   "cell_type": "code",
   "execution_count": 39,
   "metadata": {
    "deletable": false,
    "editable": false,
    "nbgrader": {
     "checksum": "4521393da40f3405eb54e41c8f620af7",
     "grade": true,
     "grade_id": "cell-28b02ac0b61caf21",
     "locked": true,
     "points": 1,
     "schema_version": 1,
     "solution": false
    }
   },
   "outputs": [],
   "source": [
    "assert(calculate_term(0) == 1103)"
   ]
  },
  {
   "cell_type": "code",
   "execution_count": 4,
   "metadata": {
    "deletable": false,
    "editable": false,
    "nbgrader": {
     "checksum": "61857f5a6b4e3e739285cb769d3aa157",
     "grade": true,
     "grade_id": "cell-78cd02afa6ae79f0",
     "locked": true,
     "points": 0,
     "schema_version": 1,
     "solution": false
    }
   },
   "outputs": [],
   "source": [
    "### check other terms"
   ]
  },
  {
   "cell_type": "code",
   "execution_count": 5,
   "metadata": {
    "deletable": false,
    "editable": false,
    "nbgrader": {
     "checksum": "4a09d4c6dd71ed6ad9859341f9bc2f81",
     "grade": true,
     "grade_id": "cell-2a5fc6eb800062b7",
     "locked": true,
     "points": 1,
     "schema_version": 1,
     "solution": false
    }
   },
   "outputs": [],
   "source": [
    "# test return value"
   ]
  },
  {
   "cell_type": "markdown",
   "metadata": {
    "deletable": false,
    "editable": false,
    "nbgrader": {
     "checksum": "5efe8506cc6e31fb681309709d66e136",
     "grade": false,
     "grade_id": "cell-2bf1a795aaae6cbf",
     "locked": true,
     "schema_version": 1,
     "solution": false
    }
   },
   "source": [
    "## Monte Carlo I\n",
    "Many integrals that you will encounter in your physics career do not have analytical solutions. The only way to solve them is using numerical methods. Computing certain integrals, especially with many dimensions, can be very hard and time consuming, even with numerical integration methods. A surprisingly simple but effective method is Monte Carlo integration (https://en.wikipedia.org/wiki/Monte_Carlo_integration). As a very simple example of Monte Carlo integration, you will calculate the area of a unit circle ($A = \\pi$) in this exercise. The algorithm works as follows:\n",
    "\n",
    "You examine a number of points distributed randomly throughout the unit square. For large numbers of points, the ratio of the number of points within the unit circle and the total number of points will approach the ratio of the area of a quadrant of the unit circle and the area of the unit square, i.e., $\\pi/4$. This is illustrated in the figure below. Essentially you want the ratio of the red points to the total number of points.\n",
    "![](monte-carlo-pi.png)\n",
    "Write a function called `monte_carlo_pi(N)` that will:\n",
    "1.  create N random points on the unit square, by creating two arrays, x and y, each with N random numbers between 0 and 1.\n",
    "2. Loop over the N points (using a for loop) to check whether they lie within the circle. \n",
    "3. The function should return the ratio of the points found inside the circle to the total number of points examined, multiplied by four.\n"
   ]
  },
  {
   "cell_type": "code",
   "execution_count": 6,
   "metadata": {
    "deletable": false,
    "nbgrader": {
     "checksum": "33da63ea5cdc2c5d3cdea17db2d20906",
     "grade": false,
     "grade_id": "cell-85696cde1fb31403",
     "locked": false,
     "schema_version": 1,
     "solution": true
    }
   },
   "outputs": [],
   "source": [
    "import random \n",
    "import numpy as np\n",
    "\n",
    "def monte_carlo_pi(N):\n",
    "    x = np.random.random(N)\n",
    "    y = np.random.random(N)\n",
    "    in_c = 0\n",
    "    t_c = 0\n",
    "    \n",
    "    for n in range(0,N):\n",
    "        if(math.sqrt((x[n])**2 + (y[n])**2) <= 1):\n",
    "            in_c += 1            \n",
    "        t_c += 1\n",
    "    return (in_c/t_c)*4\n"
   ]
  },
  {
   "cell_type": "code",
   "execution_count": 35,
   "metadata": {
    "deletable": false,
    "editable": false,
    "nbgrader": {
     "checksum": "bc7d73e1a4eb220dd899aa3df39e300c",
     "grade": true,
     "grade_id": "cell-b7f33e62744a94d0",
     "locked": true,
     "points": 1,
     "schema_version": 1,
     "solution": false
    }
   },
   "outputs": [],
   "source": [
    "# test that function can be called successfully\n",
    "a = monte_carlo_pi(200)"
   ]
  },
  {
   "cell_type": "code",
   "execution_count": 8,
   "metadata": {
    "deletable": false,
    "editable": false,
    "nbgrader": {
     "checksum": "79c4895e93e8491e1c37ce48a04dbf5d",
     "grade": true,
     "grade_id": "cell-f444e278b285e015",
     "locked": true,
     "points": 1,
     "schema_version": 1,
     "solution": false
    }
   },
   "outputs": [],
   "source": [
    "# test return value"
   ]
  },
  {
   "cell_type": "code",
   "execution_count": 9,
   "metadata": {
    "deletable": false,
    "editable": false,
    "nbgrader": {
     "checksum": "3fd78e962ef292bfc1c281d6a8c77400",
     "grade": true,
     "grade_id": "cell-9e4426d7b042b307",
     "locked": true,
     "points": 1,
     "schema_version": 1,
     "solution": false
    }
   },
   "outputs": [],
   "source": [
    "# test values returned"
   ]
  },
  {
   "cell_type": "markdown",
   "metadata": {
    "deletable": false,
    "editable": false,
    "nbgrader": {
     "checksum": "37cac378e336a24616f3dc23dcb1f0a0",
     "grade": false,
     "grade_id": "cell-0ce8197475a858ad",
     "locked": true,
     "schema_version": 1,
     "solution": false
    }
   },
   "source": [
    "# Monte Carlo accuracy\n",
    "Explore how the accuracy of your `monte_carlo_pi(N)` integration varies with N.  To do this, you will call `monte_carlo_pi(N)` function 100 times for each of the following values of N [10, 20, 50, 100, 200, 500, 1000, 2000, 5000, 10000]. Then for each N value, calculate the average and standard deviations of your estimates. \n",
    "\n",
    "Write a function `accuracy()` that does this work, and returns an array having one row for each N value, and three columns: the first containing the N value, the 2nd should contain the average of the 100 calculations and the 3rd is the standard deviation (ddof=1). This will function may take several seconds to execute. You might want to have it print out something periodically so that you know its still running (perhaps one line per N value). While you are developing and testing this, you may want to omit the largest couple of values of N."
   ]
  },
  {
   "cell_type": "code",
   "execution_count": 31,
   "metadata": {
    "deletable": false,
    "nbgrader": {
     "checksum": "694708e17d489854ade765c565e2f463",
     "grade": false,
     "grade_id": "cell-acd4d85540e0599c",
     "locked": false,
     "schema_version": 1,
     "solution": true
    }
   },
   "outputs": [
    {
     "name": "stdout",
     "output_type": "stream",
     "text": [
      "[[1.00000000e+01 3.19600000e+00 5.25687621e-01]\n",
      " [2.00000000e+01 3.17200000e+00 3.43505400e-01]\n",
      " [5.00000000e+01 3.15120000e+00 2.44640656e-01]\n",
      " [1.00000000e+02 3.14640000e+00 1.96142187e-01]\n",
      " [2.00000000e+02 3.14840000e+00 1.09477363e-01]\n",
      " [5.00000000e+02 3.14312000e+00 7.38999159e-02]\n",
      " [1.00000000e+03 3.14108000e+00 4.77632376e-02]\n",
      " [2.00000000e+03 3.14456000e+00 3.63407888e-02]\n",
      " [5.00000000e+03 3.14337600e+00 1.87938799e-02]\n",
      " [1.00000000e+04 3.14144400e+00 1.72289533e-02]]\n"
     ]
    }
   ],
   "source": [
    "from numpy.testing import assert_equal\n",
    "def accuracy():\n",
    "    arr = np.array([10, 20, 50, 100, 200, 500, 1000, 2000, 5000, 10000])\n",
    "    store = np.ndarray(shape = (len(arr),3))\n",
    "    calcs = np.empty(100)\n",
    "  \n",
    "    for n in range(0,len(arr)):\n",
    "        store[n][0] = arr[n]\n",
    "        \n",
    "        for m in range(0, len(calcs)):\n",
    "            val = monte_carlo_pi(arr[n])\n",
    "            calcs[m] = val\n",
    "        \n",
    "        store[n][1] = np.average(calcs)\n",
    "        store[n][2] = np.std(calcs, ddof = 1)\n",
    "                            \n",
    "    return store"
   ]
  },
  {
   "cell_type": "code",
   "execution_count": 11,
   "metadata": {
    "deletable": false,
    "editable": false,
    "nbgrader": {
     "checksum": "694b65c5ab97c63a52142e6afe3d4d13",
     "grade": true,
     "grade_id": "cell-268ed65c82347bf5",
     "locked": true,
     "points": 1,
     "schema_version": 1,
     "solution": false
    }
   },
   "outputs": [],
   "source": [
    "# test function can be called successfully and returns a 2d array\n",
    "a = accuracy()\n",
    "assert a.ndim == 2"
   ]
  },
  {
   "cell_type": "code",
   "execution_count": 12,
   "metadata": {
    "deletable": false,
    "editable": false,
    "nbgrader": {
     "checksum": "f7173c88f40ea40563a2055691505663",
     "grade": true,
     "grade_id": "cell-c6fd49750e460361",
     "locked": true,
     "points": 1,
     "schema_version": 1,
     "solution": false
    }
   },
   "outputs": [],
   "source": [
    "# test that first column values are correct:\n",
    "\n",
    "assert_equal(a[:,0], np.array([10, 20, 50, 100, 200, 500, 1000, 2000, 5000, 10000]) )\n"
   ]
  },
  {
   "cell_type": "code",
   "execution_count": 13,
   "metadata": {
    "deletable": false,
    "editable": false,
    "nbgrader": {
     "checksum": "f03c3370f15dfad761d9f7888b78d68a",
     "grade": true,
     "grade_id": "cell-924b5a3f5dcb001c",
     "locked": true,
     "points": 1,
     "schema_version": 1,
     "solution": false
    }
   },
   "outputs": [],
   "source": [
    "# test that values of std dev's are reasonable"
   ]
  },
  {
   "cell_type": "code",
   "execution_count": 14,
   "metadata": {
    "deletable": false,
    "editable": false,
    "nbgrader": {
     "checksum": "289aad47b2650b0c8b3ec232976dbe4c",
     "grade": true,
     "grade_id": "cell-cbc29fdd9acf8d54",
     "locked": true,
     "points": 1,
     "schema_version": 1,
     "solution": false
    }
   },
   "outputs": [],
   "source": [
    "# test that averages are reasonable"
   ]
  },
  {
   "cell_type": "markdown",
   "metadata": {
    "collapsed": true,
    "deletable": false,
    "editable": false,
    "nbgrader": {
     "checksum": "10349ac84f08004a6c99caa975da6869",
     "grade": false,
     "grade_id": "cell-07ec7d61e27c2f7d",
     "locked": true,
     "schema_version": 1,
     "solution": false
    }
   },
   "source": [
    "## Newton's Method II\n",
    "Rewrite your function `which_root_z4(z0)` from the last assignment to use a `for` loop. Either make use of the `break` keyword, or return to avoid computing additional iterations once you know that the sequence will converge (test this by checking to see if the distance to one of the roots is less than 0.25 - note that this is a different bound from the value of 0.02 used in exercise 6).\n",
    "\n",
    "The function should return values of 0, 1, 2 or 3 for the roots as before, and again return -1 if the sequence doesn’t converge within the maximum number of steps (100). Again, the total number of steps required (which may be zero) should be returned as the second variable.\n",
    "\n"
   ]
  },
  {
   "cell_type": "code",
   "execution_count": 15,
   "metadata": {
    "deletable": false,
    "nbgrader": {
     "checksum": "28f3a0c7ee8243576951426a0048cc6d",
     "grade": true,
     "grade_id": "cell-144e9e328b33b37b",
     "locked": false,
     "points": 1,
     "schema_version": 1,
     "solution": true
    }
   },
   "outputs": [],
   "source": [
    "import numpy as np\n",
    "\n",
    "def which_root_z4(z0):    \n",
    "    roots = np.array([1,1j,-1,-1j])\n",
    "    \n",
    "    for i in range(0,101):\n",
    "        if(i == 0):\n",
    "            check_r = abs(roots - z0)\n",
    "            n = np.argmin(check_r)\n",
    "            if( check_r[n] < 0.02):\n",
    "                return n, i\n",
    "        else:\n",
    "            i+=1\n",
    "           \n",
    "        fprime = 4*z0**3\n",
    "        f = z0**4 - 1        \n",
    "        z0_1 = z0 - (f/fprime) #guess        \n",
    "        check_r = abs(roots - z0_1) #check root - guess\n",
    "        n = np.argmin(check_r) #index of lowest diff\n",
    "\n",
    "        if(check_r[n] < 0.02 ):\n",
    "            return n, i\n",
    "\n",
    "        z0 = z0_1\n",
    "        \n",
    "    return -1,100"
   ]
  },
  {
   "cell_type": "code",
   "execution_count": 34,
   "metadata": {
    "deletable": false,
    "editable": false,
    "nbgrader": {
     "checksum": "70b22a3724266e25ccd808fe3ce3479e",
     "grade": true,
     "grade_id": "cell-1df44f96011ad6ef",
     "locked": true,
     "points": 1,
     "schema_version": 1,
     "solution": false
    }
   },
   "outputs": [],
   "source": [
    "# check that function exists and can be called correctly, it returns two integers\n",
    "import numbers\n",
    "i, n = which_root_z4( -4.0)\n",
    "assert isinstance(i, numbers.Integral) == True\n",
    "assert isinstance(n, numbers.Integral) == True\n"
   ]
  },
  {
   "cell_type": "code",
   "execution_count": 17,
   "metadata": {
    "deletable": false,
    "editable": false,
    "nbgrader": {
     "checksum": "4b62410dfc6cea1f606493fefa2ab0c9",
     "grade": true,
     "grade_id": "cell-51737163baff9b3b",
     "locked": true,
     "points": 1,
     "schema_version": 1,
     "solution": false
    }
   },
   "outputs": [],
   "source": [
    "# check that the correct value is converged to:"
   ]
  },
  {
   "cell_type": "code",
   "execution_count": 18,
   "metadata": {
    "deletable": false,
    "editable": false,
    "nbgrader": {
     "checksum": "b44196be47fbfff3e34b526bc8dc081d",
     "grade": true,
     "grade_id": "cell-7365b67e45b9eeb1",
     "locked": true,
     "points": 1,
     "schema_version": 1,
     "solution": false
    }
   },
   "outputs": [],
   "source": [
    "# some trickier tests"
   ]
  },
  {
   "cell_type": "code",
   "execution_count": 19,
   "metadata": {
    "deletable": false,
    "editable": false,
    "nbgrader": {
     "checksum": "a1ce2401ea2930691074d65ab93c5434",
     "grade": true,
     "grade_id": "cell-91b79b4665a11121",
     "locked": true,
     "points": 1,
     "schema_version": 1,
     "solution": false
    }
   },
   "outputs": [],
   "source": [
    "### more trickier tests"
   ]
  },
  {
   "cell_type": "code",
   "execution_count": 20,
   "metadata": {
    "deletable": false,
    "editable": false,
    "nbgrader": {
     "checksum": "d460d2517051658e4aaf71c5f0de014d",
     "grade": true,
     "grade_id": "cell-94395d288f2821ae",
     "locked": true,
     "points": 0.5,
     "schema_version": 1,
     "solution": false
    }
   },
   "outputs": [],
   "source": [
    "# check number of iterations"
   ]
  },
  {
   "cell_type": "code",
   "execution_count": 21,
   "metadata": {
    "deletable": false,
    "editable": false,
    "nbgrader": {
     "checksum": "e8405ff5ad82c48070151dd932a9e2f1",
     "grade": true,
     "grade_id": "cell-c045b026a995d80c",
     "locked": true,
     "points": 0.5,
     "schema_version": 1,
     "solution": false
    }
   },
   "outputs": [],
   "source": [
    "# check numbers of iterations"
   ]
  }
 ],
 "metadata": {
  "kernelspec": {
   "display_name": "Python 3",
   "language": "python",
   "name": "python3"
  },
  "language_info": {
   "codemirror_mode": {
    "name": "ipython",
    "version": 3
   },
   "file_extension": ".py",
   "mimetype": "text/x-python",
   "name": "python",
   "nbconvert_exporter": "python",
   "pygments_lexer": "ipython3",
   "version": "3.7.3"
  }
 },
 "nbformat": 4,
 "nbformat_minor": 2
}
