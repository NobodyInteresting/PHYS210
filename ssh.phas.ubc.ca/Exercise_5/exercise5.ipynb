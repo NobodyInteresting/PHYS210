{
 "cells": [
  {
   "cell_type": "markdown",
   "metadata": {
    "deletable": false,
    "editable": false,
    "nbgrader": {
     "checksum": "f0a0f574b5ac6ec3996f20235fa4e8fa",
     "grade": false,
     "grade_id": "cell-bea7de7ed089aeef",
     "locked": true,
     "schema_version": 1,
     "solution": false
    }
   },
   "source": [
    "# PHYS 210, Exercise 5\n",
    "Wed Sept. 18, Due Mon Sept 23, 9 am\n",
    "\n",
    "Enter the names, and describe the contributions of anybody besides yourself who contributed/collaborated. "
   ]
  },
  {
   "cell_type": "markdown",
   "metadata": {
    "deletable": false,
    "nbgrader": {
     "checksum": "308188956143b832293d46c28e342f96",
     "grade": true,
     "grade_id": "cell-a05e13445b44f306",
     "locked": false,
     "points": 0,
     "schema_version": 1,
     "solution": true
    }
   },
   "source": [
    "Vihara Jayaweera"
   ]
  },
  {
   "cell_type": "markdown",
   "metadata": {
    "deletable": false,
    "editable": false,
    "nbgrader": {
     "checksum": "e3618a50382bd2a484080868bbfcc345",
     "grade": false,
     "grade_id": "cell-25dcb34b087a38ff",
     "locked": true,
     "schema_version": 1,
     "solution": false
    }
   },
   "source": [
    "## Reading files 1\n",
    "Using numpy's `loadtxt()` function, read the sample file from lecture, `examplearray.txt`, into an array called `data`. Using the `print()` function, print the data so you can check that all of the data rows are loaded correctly and that the commented lines are ignored. The file is already in the same directory as this notebook."
   ]
  },
  {
   "cell_type": "code",
   "execution_count": 2,
   "metadata": {
    "deletable": false,
    "nbgrader": {
     "checksum": "fe21b4b10d86b58dd9b60cd2a99cec38",
     "grade": false,
     "grade_id": "cell-a589c6194c69aae9",
     "locked": false,
     "schema_version": 1,
     "solution": true
    }
   },
   "outputs": [
    {
     "name": "stdout",
     "output_type": "stream",
     "text": [
      "[[1.    1.24  3.14  0.012 0.52 ]\n",
      " [2.    1.26  3.89  0.012 0.52 ]\n",
      " [3.    1.28  4.04  0.012 0.53 ]\n",
      " [4.    1.3   4.33  0.012 0.53 ]\n",
      " [5.    1.33  4.67  0.012 0.54 ]\n",
      " [6.    1.35  5.08  0.012 0.54 ]]\n"
     ]
    }
   ],
   "source": [
    "#YOUR CODE HERE\n",
    "import numpy as np\n",
    "\n",
    "data = np.loadtxt('examplearray.txt')\n",
    "print(data)"
   ]
  },
  {
   "cell_type": "code",
   "execution_count": 2,
   "metadata": {
    "deletable": false,
    "editable": false,
    "nbgrader": {
     "checksum": "824aa592d8c4f8c6e7a197c84eccfa41",
     "grade": true,
     "grade_id": "cell-3ad078d7cb13c6af",
     "locked": true,
     "points": 1,
     "schema_version": 1,
     "solution": false
    }
   },
   "outputs": [],
   "source": [
    "# Test data"
   ]
  },
  {
   "cell_type": "markdown",
   "metadata": {
    "deletable": false,
    "editable": false,
    "nbgrader": {
     "checksum": "3652b450d028abcb0efb3ec8f42471ce",
     "grade": false,
     "grade_id": "cell-f85ec6d2eb994d68",
     "locked": true,
     "schema_version": 1,
     "solution": false
    }
   },
   "source": [
    "## Reading files  2\n",
    "Write a function, called `get_rows_cols(arr)` that will return two values: the number of rows and columns in a two-dimensional array. To return two values, you can simply: `return rows, cols`. If the array argument is one-dimensional, get_row_cols should return a 1 for the number of rows. If it has more than 2 dimensions, the final two dimensions should be taken to be the rows and columns.\n",
    "\n",
    "Use your function to set the variables rows, cols with the number of rows and columns in the data array."
   ]
  },
  {
   "cell_type": "code",
   "execution_count": 9,
   "metadata": {
    "deletable": false,
    "nbgrader": {
     "checksum": "1c0a9c16a4ead02313e179c9651a45fd",
     "grade": false,
     "grade_id": "cell-310e6ea7b318f7d3",
     "locked": false,
     "schema_version": 1,
     "solution": true
    }
   },
   "outputs": [
    {
     "name": "stdout",
     "output_type": "stream",
     "text": [
      "(1, 4)\n"
     ]
    }
   ],
   "source": [
    "def get_rows_cols(arr):\n",
    "    shape = np.array(np.shape(arr))\n",
    "    if(shape.size == 1 ):\n",
    "        rows = 1\n",
    "        cols = shape[0]\n",
    "    elif(shape.size == 2):\n",
    "        rows = shape[0]\n",
    "        cols = shape[1]\n",
    "    else:\n",
    "        rows = arr.shape[len(shape)-2]\n",
    "        cols = arr.shape[len(shape)-1]\n",
    "        \n",
    "    return rows, cols\n",
    "\n",
    "\n",
    "rows, cols = get_rows_cols(data)\n",
    "#fixed"
   ]
  },
  {
   "cell_type": "code",
   "execution_count": null,
   "metadata": {},
   "outputs": [],
   "source": []
  },
  {
   "cell_type": "code",
   "execution_count": 4,
   "metadata": {
    "deletable": false,
    "editable": false,
    "nbgrader": {
     "checksum": "19fba9cae61731dbf585df4c47f674e3",
     "grade": true,
     "grade_id": "cell-3ec48ee4b3ff17ff",
     "locked": true,
     "points": 1,
     "schema_version": 1,
     "solution": false
    }
   },
   "outputs": [],
   "source": [
    "# test that get_rows_cols is defined"
   ]
  },
  {
   "cell_type": "code",
   "execution_count": 5,
   "metadata": {
    "deletable": false,
    "editable": false,
    "nbgrader": {
     "checksum": "f95ca683284a3de50d36d2066acc3c01",
     "grade": true,
     "grade_id": "cell-a319011114d77367",
     "locked": true,
     "points": 1,
     "schema_version": 1,
     "solution": false
    }
   },
   "outputs": [],
   "source": [
    "# test that get_rows_cols works for 1 d arrays"
   ]
  },
  {
   "cell_type": "code",
   "execution_count": 6,
   "metadata": {
    "deletable": false,
    "editable": false,
    "nbgrader": {
     "checksum": "6ae03de1d3d2a53b1b1ef4c6e6cce2ed",
     "grade": true,
     "grade_id": "cell-cdb8e6f749897357",
     "locked": true,
     "points": 1,
     "schema_version": 1,
     "solution": false
    }
   },
   "outputs": [],
   "source": [
    "# test that get_rows_cols works for 2 d arrays"
   ]
  },
  {
   "cell_type": "code",
   "execution_count": 7,
   "metadata": {
    "deletable": false,
    "editable": false,
    "nbgrader": {
     "checksum": "5bf5a9b2204d4ecdb0687d98a11b833a",
     "grade": true,
     "grade_id": "cell-f6ce61db0dffbf33",
     "locked": true,
     "points": 1,
     "schema_version": 1,
     "solution": false
    }
   },
   "outputs": [],
   "source": [
    "# test get_rows_cols for higher dimension arrays"
   ]
  },
  {
   "cell_type": "markdown",
   "metadata": {
    "deletable": false,
    "editable": false,
    "nbgrader": {
     "checksum": "43624295d322965486c739c92f84c442",
     "grade": false,
     "grade_id": "cell-95ced44f4187aae4",
     "locked": true,
     "schema_version": 1,
     "solution": false
    }
   },
   "source": [
    "## Calculations on the array\n",
    "Calculate the mean of the second column and the variance of the third column in the appropriate variables below. Print the results. You may use your code from Exercise 3, or `numpy.mean()` and `numpy.var()` If you use `numpy.var()` make sure to set the 'delta degrees of freedom' to 1."
   ]
  },
  {
   "cell_type": "code",
   "execution_count": 8,
   "metadata": {
    "deletable": false,
    "nbgrader": {
     "checksum": "3804c88f383767312e301be44259ba89",
     "grade": false,
     "grade_id": "cell-5b965d6a67ba5c91",
     "locked": false,
     "schema_version": 1,
     "solution": true
    }
   },
   "outputs": [],
   "source": [
    "col2 = np.loadtxt('examplearray.txt',usecols=(1))\n",
    "col3 = np.loadtxt('examplearray.txt', usecols=(2))\n",
    "\n",
    "mean2 = np.mean(col2)\n",
    "var3 = np.var(col3,ddof=1)\n"
   ]
  },
  {
   "cell_type": "code",
   "execution_count": 9,
   "metadata": {
    "deletable": false,
    "editable": false,
    "nbgrader": {
     "checksum": "e97e9de42800b18a7be97c94ea4f69db",
     "grade": true,
     "grade_id": "cell-e370f040974d3bfd",
     "locked": true,
     "points": 1,
     "schema_version": 1,
     "solution": false
    }
   },
   "outputs": [],
   "source": [
    "# test mean2"
   ]
  },
  {
   "cell_type": "code",
   "execution_count": 10,
   "metadata": {
    "deletable": false,
    "editable": false,
    "nbgrader": {
     "checksum": "91b85307f787e6ce84b30a0984d9eeb3",
     "grade": true,
     "grade_id": "cell-d99a0e18a232d0fd",
     "locked": true,
     "points": 1,
     "schema_version": 1,
     "solution": false
    }
   },
   "outputs": [],
   "source": [
    "# test var3"
   ]
  },
  {
   "cell_type": "markdown",
   "metadata": {
    "deletable": false,
    "editable": false,
    "nbgrader": {
     "checksum": "e73cf2b2b0971a57d519d4082f1921c4",
     "grade": false,
     "grade_id": "cell-ea5d5f113bff6c65",
     "locked": true,
     "schema_version": 1,
     "solution": false
    }
   },
   "source": [
    "## Extracting the header and footer\n",
    "Read the examplearray.txt file again, this time using the `readlines()` function, which is closely related to `readline()` that appeared in the lecture notes. `readlines()` returns a list of strings, one for each line. Set the string variables `first_line` and `last_line` to be the first and last lines of the file, and print these on the screen to verify that they are the lines you expect. `last_line` should be set correctly even if the number of lines in `examplearray.txt` is changed, ie your code should not rely on the number of lines in the file being any particular value."
   ]
  },
  {
   "cell_type": "code",
   "execution_count": 11,
   "metadata": {
    "deletable": false,
    "nbgrader": {
     "checksum": "ffb4d9cece6c21380fd0427a3f79ae87",
     "grade": false,
     "grade_id": "cell-680f391d6deb58c4",
     "locked": false,
     "schema_version": 1,
     "solution": true
    }
   },
   "outputs": [],
   "source": [
    "f = open(\"examplearray.txt\",'r')\n",
    "l = f.readlines()\n",
    "n = len(l)-1\n",
    "\n",
    "first_line = l[0]\n",
    "last_line = l[n]\n"
   ]
  },
  {
   "cell_type": "code",
   "execution_count": 12,
   "metadata": {
    "deletable": false,
    "editable": false,
    "nbgrader": {
     "checksum": "9ec252f61021afc0eccaa203232fe68e",
     "grade": true,
     "grade_id": "cell-e7e5fef130707f3e",
     "locked": true,
     "points": 1,
     "schema_version": 1,
     "solution": false
    }
   },
   "outputs": [],
   "source": [
    "# test first_line"
   ]
  },
  {
   "cell_type": "code",
   "execution_count": 13,
   "metadata": {
    "deletable": false,
    "editable": false,
    "nbgrader": {
     "checksum": "0fce062dee8f54d9ba31fb7a300d4cc7",
     "grade": true,
     "grade_id": "cell-fedc43696e251cfc",
     "locked": true,
     "points": 1,
     "schema_version": 1,
     "solution": false
    }
   },
   "outputs": [],
   "source": [
    "# test last_line"
   ]
  },
  {
   "cell_type": "markdown",
   "metadata": {
    "deletable": false,
    "editable": false,
    "nbgrader": {
     "checksum": "8b8169d03f860bde0a114eed43ec80bd",
     "grade": false,
     "grade_id": "cell-daa87d8b47e4aff8",
     "locked": true,
     "schema_version": 1,
     "solution": false
    }
   },
   "source": [
    "# Formatting text - the old way\n",
    "\n",
    "The first row of the sample data could be described as:\n",
    "\n",
    "Data-point number 1 has values of x = 1.24 and y = 3.14, with  errors of 0.012 and 0.52, respectively.\n",
    "\n",
    "Write a function called `format_data(row)` that will take a row of the data array as an argument and return a sentence such as this. Use the old-style text formatting: %( ).\n",
    "\n",
    "All of the numbers in the output should come from the row that is passed in. \n",
    "\n",
    "Ensure you use the same number of significant digits as in the example sentence above. Proof-read your output carefully to ensure the text matches the example exactly."
   ]
  },
  {
   "cell_type": "code",
   "execution_count": 14,
   "metadata": {
    "deletable": false,
    "nbgrader": {
     "checksum": "0a10f0e58133f24d59fda8d1a86c20ea",
     "grade": false,
     "grade_id": "cell-5e52fea3bc907d4c",
     "locked": false,
     "schema_version": 1,
     "solution": true
    }
   },
   "outputs": [],
   "source": [
    "import numpy as np\n",
    "data = np.loadtxt('examplearray.txt')\n",
    "\n",
    "def format_data(row):\n",
    "    values = str(row).replace('[','').split()\n",
    "    return \"Data-point number %s has values of x = %s and y = %s, with errors of %s and %s, respectively.\" % (values[0].replace(\".\",''),values[1],values[2],values[3], values[4])\n",
    "   \n"
   ]
  },
  {
   "cell_type": "code",
   "execution_count": 15,
   "metadata": {
    "deletable": false,
    "editable": false,
    "nbgrader": {
     "checksum": "b961cbc942f05c2e5a4007644d56cfe9",
     "grade": true,
     "grade_id": "cell-ef72d39b506ce106",
     "locked": true,
     "points": 1,
     "schema_version": 1,
     "solution": false
    }
   },
   "outputs": [],
   "source": [
    "# test format_data\n",
    "assert(format_data(data[0,:]) == \"Data-point number 1 has values of x = 1.24 and y = 3.14, with errors of 0.012 and 0.52, respectively.\")\n"
   ]
  },
  {
   "cell_type": "code",
   "execution_count": 16,
   "metadata": {
    "deletable": false,
    "editable": false,
    "nbgrader": {
     "checksum": "111a4e277411cc38afb753c1f4cacf63",
     "grade": true,
     "grade_id": "cell-356402ca4762cc9e",
     "locked": true,
     "points": 1,
     "schema_version": 1,
     "solution": false
    }
   },
   "outputs": [],
   "source": [
    "# Test format_data"
   ]
  },
  {
   "cell_type": "markdown",
   "metadata": {
    "deletable": false,
    "editable": false,
    "nbgrader": {
     "checksum": "f7aacfdbb26e93e76bbdb4898b34ecd0",
     "grade": false,
     "grade_id": "cell-d33fe7383b9fe7f8",
     "locked": true,
     "schema_version": 1,
     "solution": false
    }
   },
   "source": [
    "## Formatting text - the new way\n",
    "Repeat this formatting exercise using the 'new style' string formatting (with .format()), writing a new function: `format_data_new(row)`"
   ]
  },
  {
   "cell_type": "code",
   "execution_count": 17,
   "metadata": {
    "deletable": false,
    "nbgrader": {
     "checksum": "d3c64356f47c4ad998c2480df8f41b79",
     "grade": false,
     "grade_id": "cell-98a93936aa61029d",
     "locked": false,
     "schema_version": 1,
     "solution": true
    }
   },
   "outputs": [],
   "source": [
    "import numpy as np\n",
    "data = np.loadtxt('examplearray.txt')\n",
    "\n",
    "def format_data_new(row):\n",
    "    values = str(row).replace('[','').split()\n",
    "    return \"Data-point number {} has values of x = {} and y = {}, with errors of {} and {}, respectively.\".format(values[0].replace('.',''),values[1],values[2],values[3], values[4])\n"
   ]
  },
  {
   "cell_type": "code",
   "execution_count": 18,
   "metadata": {
    "deletable": false,
    "editable": false,
    "nbgrader": {
     "checksum": "33f34c07f0abc28aadd388638c9f9d50",
     "grade": true,
     "grade_id": "cell-086188c0158f195c",
     "locked": true,
     "points": 1,
     "schema_version": 1,
     "solution": false
    }
   },
   "outputs": [],
   "source": [
    "# test format_data_new"
   ]
  },
  {
   "cell_type": "code",
   "execution_count": 19,
   "metadata": {
    "deletable": false,
    "editable": false,
    "nbgrader": {
     "checksum": "148edcd97362ffd94b0f00717909cf68",
     "grade": true,
     "grade_id": "cell-07d97fb557dee0a2",
     "locked": true,
     "points": 1,
     "schema_version": 1,
     "solution": false
    }
   },
   "outputs": [],
   "source": [
    "# Test format_data_new"
   ]
  },
  {
   "cell_type": "markdown",
   "metadata": {
    "deletable": false,
    "editable": false,
    "nbgrader": {
     "checksum": "680c81875ebccba4ee55badb5709204a",
     "grade": false,
     "grade_id": "cell-c1257483b3b69a90",
     "locked": true,
     "schema_version": 1,
     "solution": false
    }
   },
   "source": [
    "## Writing Files\n",
    "Write a function, `write_stats(arr, filename)` that takes a one-dimensional array and a string as arguments.  The function should calculate the mean and standard deviation (ddof=1) of the array, and write:\n",
    "```\n",
    "Mean = 23.22\n",
    "Std = 2.42\n",
    "```\n",
    "to the file given by the filename. In this function, always use 2 digits after the decimal place. You can use numpy's mean and std (with ddof=1) functions or your own. You can use either new style or old style formatting, but ensure you get the spacing and capitalization exactly right. Remember to include a unix-style carriage return (\\n) at the end of each line."
   ]
  },
  {
   "cell_type": "code",
   "execution_count": 20,
   "metadata": {
    "deletable": false,
    "nbgrader": {
     "checksum": "609fc7f9d48b693d7a7f81c3ac1e98c1",
     "grade": false,
     "grade_id": "cell-1442a09f60b419c0",
     "locked": false,
     "schema_version": 1,
     "solution": true
    }
   },
   "outputs": [],
   "source": [
    "def write_stats(arr, filename):\n",
    "    mean = np.mean(arr)\n",
    "    std = np.std(arr, ddof = 1)\n",
    "    f = open(filename + '.txt','a')\n",
    "    f.write('Mean = {0:.2f}\\n'.format(mean))\n",
    "    f.write('Std =  {0:.2f}\\n'.format(std))\n"
   ]
  },
  {
   "cell_type": "code",
   "execution_count": 21,
   "metadata": {
    "deletable": false,
    "editable": false,
    "nbgrader": {
     "checksum": "913bd12e3f6db431b779054cd8a01734",
     "grade": true,
     "grade_id": "cell-a900b764234a79d8",
     "locked": true,
     "points": 1,
     "schema_version": 1,
     "solution": false
    }
   },
   "outputs": [],
   "source": [
    "# test write_stats()"
   ]
  },
  {
   "cell_type": "code",
   "execution_count": 22,
   "metadata": {
    "deletable": false,
    "editable": false,
    "nbgrader": {
     "checksum": "60aa8a8087d28b57c759f4edafd07f1a",
     "grade": true,
     "grade_id": "cell-c4078e14365f3ac5",
     "locked": true,
     "points": 1,
     "schema_version": 1,
     "solution": false
    }
   },
   "outputs": [],
   "source": [
    "# test write_stats()"
   ]
  },
  {
   "cell_type": "markdown",
   "metadata": {
    "deletable": false,
    "editable": false,
    "nbgrader": {
     "checksum": "0db2660e8cb0174c1897145868505140",
     "grade": false,
     "grade_id": "cell-b41b33358b6d6986",
     "locked": true,
     "schema_version": 1,
     "solution": false
    }
   },
   "source": [
    "### Writing files 2\n",
    "Imagine that the \"x\" data in the examplearray.txt file is in meters and you would like it to be in millimeters. \n",
    "Multiply the x (and xerror) columns by 1000 and save the resulting array into a file called `fixed_example.txt` using `numpy.savetxt()`.\n",
    "\n",
    "Ensure your new file preserves the first and last comment lines - which you should still have available in first_line and last_line. Double check to make sure the comment lines appear exactly as they did in the original, and that there are no extra comment lines.\n",
    "\n",
    "The data point number should appear as an integer, the x and xerror fields should also be integers. y and yerror should have the same number of significant digits as they did in the original.\n"
   ]
  },
  {
   "cell_type": "code",
   "execution_count": 23,
   "metadata": {
    "deletable": false,
    "nbgrader": {
     "checksum": "531adbbbd10588f39c1fc8f5be9dd6dc",
     "grade": false,
     "grade_id": "cell-acdd3e27e91af975",
     "locked": false,
     "schema_version": 1,
     "solution": true
    }
   },
   "outputs": [],
   "source": [
    "import numpy as np\n",
    "\n",
    "col0 = np.loadtxt('examplearray.txt', usecols =(0)) #nth row\n",
    "col4 = np.loadtxt('examplearray.txt', usecols = (4))#yerror\n",
    "new_x = np.loadtxt('examplearray.txt', usecols = (1))*1000 #x-values\n",
    "#yvalues store in variable col3 above\n",
    "new_x_error = (np.loadtxt('examplearray.txt', usecols = (3)))*1000 #xerror\n",
    "first_line = first_line.replace('\\n','')\n",
    "last_line = last_line.replace('\\n','')\n",
    "\n",
    "nf = open('fixed_example.txt','a+')\n",
    "np.savetxt('fixed_example.txt',np.c_[col0,new_x,col3,new_x_error,col4],fmt=' %d. %d %.2f %d %.2f', header = first_line, footer = last_line, comments = '')\n",
    "nf.close()"
   ]
  },
  {
   "cell_type": "code",
   "execution_count": 24,
   "metadata": {
    "deletable": false,
    "editable": false,
    "nbgrader": {
     "checksum": "6e749d6776f85e9ccd53a11e0b2e5d02",
     "grade": true,
     "grade_id": "cell-1743ab1ecf5486a7",
     "locked": true,
     "points": 1,
     "schema_version": 1,
     "solution": false
    }
   },
   "outputs": [],
   "source": [
    "# test fixed_example.txt"
   ]
  },
  {
   "cell_type": "code",
   "execution_count": 25,
   "metadata": {
    "deletable": false,
    "editable": false,
    "nbgrader": {
     "checksum": "49992923ae27ea38a2efa2ee33654a02",
     "grade": true,
     "grade_id": "cell-1a039328945a470d",
     "locked": true,
     "points": 1,
     "schema_version": 1,
     "solution": false
    }
   },
   "outputs": [],
   "source": [
    "# test values in fixed_example.txt"
   ]
  },
  {
   "cell_type": "code",
   "execution_count": 26,
   "metadata": {
    "deletable": false,
    "editable": false,
    "nbgrader": {
     "checksum": "15b33f979061d2a7f286c47e8b23bcf6",
     "grade": true,
     "grade_id": "cell-6eac3bd2a5f42cbb",
     "locked": true,
     "points": 1,
     "schema_version": 1,
     "solution": false
    }
   },
   "outputs": [],
   "source": [
    "# test comment lines"
   ]
  },
  {
   "cell_type": "markdown",
   "metadata": {
    "deletable": false,
    "editable": false,
    "nbgrader": {
     "checksum": "f586630a1c924c98673a6d94be8803a4",
     "grade": false,
     "grade_id": "cell-999f2ec160da345b",
     "locked": true,
     "schema_version": 1,
     "solution": false
    }
   },
   "source": [
    "Don't forget to \n",
    "1. list any contributors and their contributions at the top\n",
    "2. Save and validate (or restart kernel and run all)\n",
    "3. Submit!"
   ]
  }
 ],
 "metadata": {
  "kernelspec": {
   "display_name": "Python 3",
   "language": "python",
   "name": "python3"
  },
  "language_info": {
   "codemirror_mode": {
    "name": "ipython",
    "version": 3
   },
   "file_extension": ".py",
   "mimetype": "text/x-python",
   "name": "python",
   "nbconvert_exporter": "python",
   "pygments_lexer": "ipython3",
   "version": "3.7.3"
  }
 },
 "nbformat": 4,
 "nbformat_minor": 2
}
